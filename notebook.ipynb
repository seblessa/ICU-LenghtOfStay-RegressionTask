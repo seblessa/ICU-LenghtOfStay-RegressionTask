{
 "cells": [
  {
   "metadata": {
    "ExecuteTime": {
     "end_time": "2024-06-08T11:04:19.755836Z",
     "start_time": "2024-06-08T11:04:19.073445Z"
    }
   },
   "cell_type": "code",
   "source": [
    "%load_ext autoreload\n",
    "%autoreload 2\n",
    "from pyspark.sql import SparkSession\n",
    "from pyspark.ml import Pipeline\n",
    "from pyspark.ml.feature import VectorAssembler\n",
    "import matplotlib.pyplot as plt\n",
    "from pyspark.sql import functions as F\n",
    "from pyspark.ml.regression import LinearRegression, RandomForestRegressor\n",
    "from pyspark.ml.evaluation import RegressionEvaluator\n",
    "from pyspark.ml.feature import StringIndexer, OneHotEncoder, VectorAssembler\n",
    "from pyspark.ml import Pipeline\n",
    "from pyspark.sql.functions import col\n",
    "import utils\n",
    "from pyspark.sql import SparkSession\n",
    "from pyspark.sql.functions import udf, col, count\n",
    "from pyspark.sql.types import ArrayType, StringType, BooleanType, IntegerType, DoubleType\n",
    "\n",
    "label_column = 'LOS'"
   ],
   "id": "500926c2d111d3b7",
   "outputs": [],
   "execution_count": 1
  },
  {
   "metadata": {
    "ExecuteTime": {
     "end_time": "2024-06-08T11:04:22.693840Z",
     "start_time": "2024-06-08T11:04:19.756763Z"
    }
   },
   "cell_type": "code",
   "source": [
    "spark = SparkSession.builder \\\n",
    "    .appName(\"Intensive Care Unit Data Analysis\") \\\n",
    "    .config(\"spark.driver.memory\", \"6g\") \\\n",
    "    .config(\"spark.executor.memory\", \"6g\") \\\n",
    "    .config(\"spark.memory.fraction\", \"0.9\") \\\n",
    "    .config(\"spark.memory.storageFraction\", \"0.5\") \\\n",
    "    .getOrCreate()\n",
    "\n",
    "# check spark configs to only errors:\n",
    "\n",
    "spark.sparkContext.setLogLevel(\"ERROR\")\n",
    "spark.conf.set(\"spark.sql.shuffle.partitions\", \"500\")\n",
    "spark.conf.set(\"spark.sql.debug.maxToStringFields\", \"1000\")"
   ],
   "id": "16b2dd3593ae37fc",
   "outputs": [
    {
     "name": "stderr",
     "output_type": "stream",
     "text": [
      "Setting default log level to \"WARN\".\n",
      "To adjust logging level use sc.setLogLevel(newLevel). For SparkR, use setLogLevel(newLevel).\n",
      "24/06/08 12:04:21 WARN NativeCodeLoader: Unable to load native-hadoop library for your platform... using builtin-java classes where applicable\n"
     ]
    }
   ],
   "execution_count": 2
  },
  {
   "metadata": {
    "ExecuteTime": {
     "end_time": "2024-06-08T11:04:26.432032Z",
     "start_time": "2024-06-08T11:04:22.694745Z"
    }
   },
   "cell_type": "code",
   "source": [
    "# Read the datasets\n",
    "df_admissions = spark.read.csv(\"data/ADMISSIONS.csv\", header=True, inferSchema=True).drop(\"ROW_ID\")\n",
    "df_diagnoses = spark.read.csv(\"data/DIAGNOSES_ICD.csv\", header=True, inferSchema=True).drop(\"ROW_ID\")\n",
    "df_icustays = spark.read.csv(\"data/ICUSTAYS.csv\", header=True, inferSchema=True).drop(\"ROW_ID\")\n",
    "df_patients = spark.read.csv(\"data/PATIENTS.csv\", header=True, inferSchema=True).drop(\"ROW_ID\")\n",
    "# df_chartevents = spark.read.csv(\"data/CHARTEVENTS.csv\", header=True, inferSchema=True).drop(\"ROW_ID\")"
   ],
   "id": "f10eb3861e1a6ad6",
   "outputs": [],
   "execution_count": 3
  },
  {
   "metadata": {
    "ExecuteTime": {
     "end_time": "2024-06-08T11:04:26.530372Z",
     "start_time": "2024-06-08T11:04:26.433537Z"
    }
   },
   "cell_type": "code",
   "source": [
    "df = df_patients.join(df_admissions, df_patients[\"SUBJECT_ID\"] == df_admissions[\"SUBJECT_ID\"], how=\"left\").drop(df_admissions[\"SUBJECT_ID\"])\n",
    "df = df.join(df_icustays, df[\"HADM_ID\"] == df_icustays[\"HADM_ID\"], how=\"left\").drop(df_icustays[\"SUBJECT_ID\"]).drop(df_icustays[\"HADM_ID\"])\n",
    "df = df.join(df_diagnoses, df[\"SUBJECT_ID\"] == df_diagnoses[\"SUBJECT_ID\"], how=\"left\").drop(df_diagnoses[\"SUBJECT_ID\"]).drop(df_diagnoses[\"HADM_ID\"])"
   ],
   "id": "de5ba1599a4770a7",
   "outputs": [],
   "execution_count": 4
  },
  {
   "metadata": {
    "ExecuteTime": {
     "end_time": "2024-06-08T11:04:28.219836Z",
     "start_time": "2024-06-08T11:04:26.531124Z"
    }
   },
   "cell_type": "code",
   "source": "df.show()",
   "id": "6f4a65a67efe1407",
   "outputs": [
    {
     "name": "stderr",
     "output_type": "stream",
     "text": [
      "                                                                                \r"
     ]
    },
    {
     "name": "stdout",
     "output_type": "stream",
     "text": [
      "+----------+------+-------------------+----+--------+-------+-----------+-------+-------------------+-------------------+---------+--------------+--------------------+------------------+---------+--------+--------+--------------+---------+-------------------+-------------------+--------------------+--------------------+--------------------+----------+--------+--------------+-------------+------------+-----------+-------------------+-------------------+------+-------+---------+\n",
      "|SUBJECT_ID|GENDER|                DOB| DOD|DOD_HOSP|DOD_SSN|EXPIRE_FLAG|HADM_ID|          ADMITTIME|          DISCHTIME|DEATHTIME|ADMISSION_TYPE|  ADMISSION_LOCATION|DISCHARGE_LOCATION|INSURANCE|LANGUAGE|RELIGION|MARITAL_STATUS|ETHNICITY|          EDREGTIME|          EDOUTTIME|           DIAGNOSIS|HOSPITAL_EXPIRE_FLAG|HAS_CHARTEVENTS_DATA|ICUSTAY_ID|DBSOURCE|FIRST_CAREUNIT|LAST_CAREUNIT|FIRST_WARDID|LAST_WARDID|             INTIME|            OUTTIME|   LOS|SEQ_NUM|ICD9_CODE|\n",
      "+----------+------+-------------------+----+--------+-------+-----------+-------+-------------------+-------------------+---------+--------------+--------------------+------------------+---------+--------+--------+--------------+---------+-------------------+-------------------+--------------------+--------------------+--------------------+----------+--------+--------------+-------------+------------+-----------+-------------------+-------------------+------+-------+---------+\n",
      "|       249|     F|2075-03-13 00:00:00|NULL|    NULL|   NULL|          0| 116935|2149-12-17 20:41:00|2149-12-31 14:55:00|     NULL|     EMERGENCY|EMERGENCY ROOM ADMIT|               SNF| Medicare|    NULL|CATHOLIC|      DIVORCED|    WHITE|2149-12-17 11:10:00|2149-12-17 21:35:00|UNSTABLE ANGINA;A...|                   0|                   1|    215044| carevue|         TSICU|         MICU|          23|         12|2149-12-18 20:06:02|2149-12-24 13:31:45|5.7262|      1|    49322|\n",
      "|       249|     F|2075-03-13 00:00:00|NULL|    NULL|   NULL|          0| 116935|2149-12-17 20:41:00|2149-12-31 14:55:00|     NULL|     EMERGENCY|EMERGENCY ROOM ADMIT|               SNF| Medicare|    NULL|CATHOLIC|      DIVORCED|    WHITE|2149-12-17 11:10:00|2149-12-17 21:35:00|UNSTABLE ANGINA;A...|                   0|                   1|    215044| carevue|         TSICU|         MICU|          23|         12|2149-12-18 20:06:02|2149-12-24 13:31:45|5.7262|      2|    51882|\n",
      "|       249|     F|2075-03-13 00:00:00|NULL|    NULL|   NULL|          0| 116935|2149-12-17 20:41:00|2149-12-31 14:55:00|     NULL|     EMERGENCY|EMERGENCY ROOM ADMIT|               SNF| Medicare|    NULL|CATHOLIC|      DIVORCED|    WHITE|2149-12-17 11:10:00|2149-12-17 21:35:00|UNSTABLE ANGINA;A...|                   0|                   1|    215044| carevue|         TSICU|         MICU|          23|         12|2149-12-18 20:06:02|2149-12-24 13:31:45|5.7262|      3|    41071|\n",
      "|       249|     F|2075-03-13 00:00:00|NULL|    NULL|   NULL|          0| 116935|2149-12-17 20:41:00|2149-12-31 14:55:00|     NULL|     EMERGENCY|EMERGENCY ROOM ADMIT|               SNF| Medicare|    NULL|CATHOLIC|      DIVORCED|    WHITE|2149-12-17 11:10:00|2149-12-17 21:35:00|UNSTABLE ANGINA;A...|                   0|                   1|    215044| carevue|         TSICU|         MICU|          23|         12|2149-12-18 20:06:02|2149-12-24 13:31:45|5.7262|      4|    42841|\n",
      "|       249|     F|2075-03-13 00:00:00|NULL|    NULL|   NULL|          0| 116935|2149-12-17 20:41:00|2149-12-31 14:55:00|     NULL|     EMERGENCY|EMERGENCY ROOM ADMIT|               SNF| Medicare|    NULL|CATHOLIC|      DIVORCED|    WHITE|2149-12-17 11:10:00|2149-12-17 21:35:00|UNSTABLE ANGINA;A...|                   0|                   1|    215044| carevue|         TSICU|         MICU|          23|         12|2149-12-18 20:06:02|2149-12-24 13:31:45|5.7262|      5|    99812|\n",
      "|       249|     F|2075-03-13 00:00:00|NULL|    NULL|   NULL|          0| 116935|2149-12-17 20:41:00|2149-12-31 14:55:00|     NULL|     EMERGENCY|EMERGENCY ROOM ADMIT|               SNF| Medicare|    NULL|CATHOLIC|      DIVORCED|    WHITE|2149-12-17 11:10:00|2149-12-17 21:35:00|UNSTABLE ANGINA;A...|                   0|                   1|    215044| carevue|         TSICU|         MICU|          23|         12|2149-12-18 20:06:02|2149-12-24 13:31:45|5.7262|      6|     5849|\n",
      "|       249|     F|2075-03-13 00:00:00|NULL|    NULL|   NULL|          0| 116935|2149-12-17 20:41:00|2149-12-31 14:55:00|     NULL|     EMERGENCY|EMERGENCY ROOM ADMIT|               SNF| Medicare|    NULL|CATHOLIC|      DIVORCED|    WHITE|2149-12-17 11:10:00|2149-12-17 21:35:00|UNSTABLE ANGINA;A...|                   0|                   1|    215044| carevue|         TSICU|         MICU|          23|         12|2149-12-18 20:06:02|2149-12-24 13:31:45|5.7262|      7|    42731|\n",
      "|       249|     F|2075-03-13 00:00:00|NULL|    NULL|   NULL|          0| 116935|2149-12-17 20:41:00|2149-12-31 14:55:00|     NULL|     EMERGENCY|EMERGENCY ROOM ADMIT|               SNF| Medicare|    NULL|CATHOLIC|      DIVORCED|    WHITE|2149-12-17 11:10:00|2149-12-17 21:35:00|UNSTABLE ANGINA;A...|                   0|                   1|    215044| carevue|         TSICU|         MICU|          23|         12|2149-12-18 20:06:02|2149-12-24 13:31:45|5.7262|      8|     4660|\n",
      "|       249|     F|2075-03-13 00:00:00|NULL|    NULL|   NULL|          0| 116935|2149-12-17 20:41:00|2149-12-31 14:55:00|     NULL|     EMERGENCY|EMERGENCY ROOM ADMIT|               SNF| Medicare|    NULL|CATHOLIC|      DIVORCED|    WHITE|2149-12-17 11:10:00|2149-12-17 21:35:00|UNSTABLE ANGINA;A...|                   0|                   1|    215044| carevue|         TSICU|         MICU|          23|         12|2149-12-18 20:06:02|2149-12-24 13:31:45|5.7262|      9|     4589|\n",
      "|       249|     F|2075-03-13 00:00:00|NULL|    NULL|   NULL|          0| 116935|2149-12-17 20:41:00|2149-12-31 14:55:00|     NULL|     EMERGENCY|EMERGENCY ROOM ADMIT|               SNF| Medicare|    NULL|CATHOLIC|      DIVORCED|    WHITE|2149-12-17 11:10:00|2149-12-17 21:35:00|UNSTABLE ANGINA;A...|                   0|                   1|    215044| carevue|         TSICU|         MICU|          23|         12|2149-12-18 20:06:02|2149-12-24 13:31:45|5.7262|     10|    41401|\n",
      "|       249|     F|2075-03-13 00:00:00|NULL|    NULL|   NULL|          0| 116935|2149-12-17 20:41:00|2149-12-31 14:55:00|     NULL|     EMERGENCY|EMERGENCY ROOM ADMIT|               SNF| Medicare|    NULL|CATHOLIC|      DIVORCED|    WHITE|2149-12-17 11:10:00|2149-12-17 21:35:00|UNSTABLE ANGINA;A...|                   0|                   1|    215044| carevue|         TSICU|         MICU|          23|         12|2149-12-18 20:06:02|2149-12-24 13:31:45|5.7262|     11|    41402|\n",
      "|       249|     F|2075-03-13 00:00:00|NULL|    NULL|   NULL|          0| 116935|2149-12-17 20:41:00|2149-12-31 14:55:00|     NULL|     EMERGENCY|EMERGENCY ROOM ADMIT|               SNF| Medicare|    NULL|CATHOLIC|      DIVORCED|    WHITE|2149-12-17 11:10:00|2149-12-17 21:35:00|UNSTABLE ANGINA;A...|                   0|                   1|    215044| carevue|         TSICU|         MICU|          23|         12|2149-12-18 20:06:02|2149-12-24 13:31:45|5.7262|     12|     2449|\n",
      "|       249|     F|2075-03-13 00:00:00|NULL|    NULL|   NULL|          0| 116935|2149-12-17 20:41:00|2149-12-31 14:55:00|     NULL|     EMERGENCY|EMERGENCY ROOM ADMIT|               SNF| Medicare|    NULL|CATHOLIC|      DIVORCED|    WHITE|2149-12-17 11:10:00|2149-12-17 21:35:00|UNSTABLE ANGINA;A...|                   0|                   1|    215044| carevue|         TSICU|         MICU|          23|         12|2149-12-18 20:06:02|2149-12-24 13:31:45|5.7262|     13|     7921|\n",
      "|       249|     F|2075-03-13 00:00:00|NULL|    NULL|   NULL|          0| 116935|2149-12-17 20:41:00|2149-12-31 14:55:00|     NULL|     EMERGENCY|EMERGENCY ROOM ADMIT|               SNF| Medicare|    NULL|CATHOLIC|      DIVORCED|    WHITE|2149-12-17 11:10:00|2149-12-17 21:35:00|UNSTABLE ANGINA;A...|                   0|                   1|    215044| carevue|         TSICU|         MICU|          23|         12|2149-12-18 20:06:02|2149-12-24 13:31:45|5.7262|     14|    25000|\n",
      "|       249|     F|2075-03-13 00:00:00|NULL|    NULL|   NULL|          0| 116935|2149-12-17 20:41:00|2149-12-31 14:55:00|     NULL|     EMERGENCY|EMERGENCY ROOM ADMIT|               SNF| Medicare|    NULL|CATHOLIC|      DIVORCED|    WHITE|2149-12-17 11:10:00|2149-12-17 21:35:00|UNSTABLE ANGINA;A...|                   0|                   1|    215044| carevue|         TSICU|         MICU|          23|         12|2149-12-18 20:06:02|2149-12-24 13:31:45|5.7262|     15|    53081|\n",
      "|       249|     F|2075-03-13 00:00:00|NULL|    NULL|   NULL|          0| 116935|2149-12-17 20:41:00|2149-12-31 14:55:00|     NULL|     EMERGENCY|EMERGENCY ROOM ADMIT|               SNF| Medicare|    NULL|CATHOLIC|      DIVORCED|    WHITE|2149-12-17 11:10:00|2149-12-17 21:35:00|UNSTABLE ANGINA;A...|                   0|                   1|    215044| carevue|         TSICU|         MICU|          23|         12|2149-12-18 20:06:02|2149-12-24 13:31:45|5.7262|     16|     2859|\n",
      "|       249|     F|2075-03-13 00:00:00|NULL|    NULL|   NULL|          0| 116935|2149-12-17 20:41:00|2149-12-31 14:55:00|     NULL|     EMERGENCY|EMERGENCY ROOM ADMIT|               SNF| Medicare|    NULL|CATHOLIC|      DIVORCED|    WHITE|2149-12-17 11:10:00|2149-12-17 21:35:00|UNSTABLE ANGINA;A...|                   0|                   1|    215044| carevue|         TSICU|         MICU|          23|         12|2149-12-18 20:06:02|2149-12-24 13:31:45|5.7262|      1|    56985|\n",
      "|       249|     F|2075-03-13 00:00:00|NULL|    NULL|   NULL|          0| 116935|2149-12-17 20:41:00|2149-12-31 14:55:00|     NULL|     EMERGENCY|EMERGENCY ROOM ADMIT|               SNF| Medicare|    NULL|CATHOLIC|      DIVORCED|    WHITE|2149-12-17 11:10:00|2149-12-17 21:35:00|UNSTABLE ANGINA;A...|                   0|                   1|    215044| carevue|         TSICU|         MICU|          23|         12|2149-12-18 20:06:02|2149-12-24 13:31:45|5.7262|      2|    41071|\n",
      "|       249|     F|2075-03-13 00:00:00|NULL|    NULL|   NULL|          0| 116935|2149-12-17 20:41:00|2149-12-31 14:55:00|     NULL|     EMERGENCY|EMERGENCY ROOM ADMIT|               SNF| Medicare|    NULL|CATHOLIC|      DIVORCED|    WHITE|2149-12-17 11:10:00|2149-12-17 21:35:00|UNSTABLE ANGINA;A...|                   0|                   1|    215044| carevue|         TSICU|         MICU|          23|         12|2149-12-18 20:06:02|2149-12-24 13:31:45|5.7262|      3|    43411|\n",
      "|       249|     F|2075-03-13 00:00:00|NULL|    NULL|   NULL|          0| 116935|2149-12-17 20:41:00|2149-12-31 14:55:00|     NULL|     EMERGENCY|EMERGENCY ROOM ADMIT|               SNF| Medicare|    NULL|CATHOLIC|      DIVORCED|    WHITE|2149-12-17 11:10:00|2149-12-17 21:35:00|UNSTABLE ANGINA;A...|                   0|                   1|    215044| carevue|         TSICU|         MICU|          23|         12|2149-12-18 20:06:02|2149-12-24 13:31:45|5.7262|      4|     5849|\n",
      "+----------+------+-------------------+----+--------+-------+-----------+-------+-------------------+-------------------+---------+--------------+--------------------+------------------+---------+--------+--------+--------------+---------+-------------------+-------------------+--------------------+--------------------+--------------------+----------+--------+--------------+-------------+------------+-----------+-------------------+-------------------+------+-------+---------+\n",
      "only showing top 20 rows\n",
      "\n"
     ]
    }
   ],
   "execution_count": 5
  },
  {
   "metadata": {},
   "cell_type": "markdown",
   "source": "Check for missing values in the dataset.",
   "id": "74cdea29e7496f79"
  },
  {
   "metadata": {
    "ExecuteTime": {
     "end_time": "2024-06-08T11:04:31.064482Z",
     "start_time": "2024-06-08T11:04:28.221256Z"
    }
   },
   "cell_type": "code",
   "source": "utils.print_missing_value_counts(df)",
   "id": "13dcfe5ad8d78111",
   "outputs": [
    {
     "name": "stderr",
     "output_type": "stream",
     "text": [
      "[Stage 23:>                                                         (0 + 8) / 8]\r"
     ]
    },
    {
     "name": "stdout",
     "output_type": "stream",
     "text": [
      "-RECORD 0-----------------------\n",
      " SUBJECT_ID           | 0       \n",
      " GENDER               | 0       \n",
      " DOB                  | 0       \n",
      " DOD                  | 697342  \n",
      " DOD_HOSP             | 892628  \n",
      " DOD_SSN              | 839693  \n",
      " EXPIRE_FLAG          | 0       \n",
      " HADM_ID              | 0       \n",
      " ADMITTIME            | 0       \n",
      " DISCHTIME            | 0       \n",
      " DEATHTIME            | 1359709 \n",
      " ADMISSION_TYPE       | 0       \n",
      " ADMISSION_LOCATION   | 0       \n",
      " DISCHARGE_LOCATION   | 0       \n",
      " INSURANCE            | 0       \n",
      " LANGUAGE             | 379832  \n",
      " RELIGION             | 3721    \n",
      " MARITAL_STATUS       | 78080   \n",
      " ETHNICITY            | 0       \n",
      " EDREGTIME            | 476403  \n",
      " EDOUTTIME            | 476403  \n",
      " DIAGNOSIS            | 747     \n",
      " HOSPITAL_EXPIRE_FLAG | 0       \n",
      " HAS_CHARTEVENTS_DATA | 0       \n",
      " ICUSTAY_ID           | 31975   \n",
      " DBSOURCE             | 31975   \n",
      " FIRST_CAREUNIT       | 31975   \n",
      " LAST_CAREUNIT        | 31975   \n",
      " FIRST_WARDID         | 31975   \n",
      " LAST_WARDID          | 31975   \n",
      " INTIME               | 31975   \n",
      " OUTTIME              | 32058   \n",
      " LOS                  | 32058   \n",
      " SEQ_NUM              | 105     \n",
      " ICD9_CODE            | 105     \n",
      "\n"
     ]
    },
    {
     "name": "stderr",
     "output_type": "stream",
     "text": [
      "                                                                                \r"
     ]
    }
   ],
   "execution_count": 6
  },
  {
   "metadata": {},
   "cell_type": "markdown",
   "source": "# Feature Engineering",
   "id": "10987a3efe7f09bf"
  },
  {
   "metadata": {},
   "cell_type": "markdown",
   "source": "Let's create a column called 'AGE'",
   "id": "b13d9d8304f7de2c"
  },
  {
   "metadata": {
    "ExecuteTime": {
     "end_time": "2024-06-08T11:04:31.171745Z",
     "start_time": "2024-06-08T11:04:31.071067Z"
    }
   },
   "cell_type": "code",
   "source": [
    "# Ensure 'DOB' and 'ADMITTIME' are in the correct date format if not already\n",
    "df = df.withColumn('DOB', F.to_date('DOB'))\n",
    "df = df.withColumn('ADMITTIME', F.to_date('ADMITTIME'))\n",
    "\n",
    "# Create the 'AGE' column by calculating the difference in years between 'ADMITTIME' and 'DOB'\n",
    "df = df.withColumn('AGE', F.expr(\"floor(months_between(ADMITTIME, DOB) / 12)\"))"
   ],
   "id": "def300029631d207",
   "outputs": [],
   "execution_count": 7
  },
  {
   "metadata": {},
   "cell_type": "markdown",
   "source": "It only matters if the patient is dead or not, not the date of death, so we can drop the date of death columns. And we also drop other death-related columns.",
   "id": "9823fde2d264c156"
  },
  {
   "metadata": {
    "ExecuteTime": {
     "end_time": "2024-06-08T11:04:31.244405Z",
     "start_time": "2024-06-08T11:04:31.172419Z"
    }
   },
   "cell_type": "code",
   "source": [
    "df=df.drop(\"DOB\").drop(\"DOD\").drop(\"DOD_SSN\").drop(\"EXPIRE_FLAG\").drop(\"DEATHTIME\")\n",
    "df = df.withColumn(\"DOD_HOSP\", F.when(F.col(\"DOD_HOSP\").isNull(), 0).otherwise(1))\n",
    "df = df.withColumnRenamed(\"DOD_HOSP\", \"DIED\")\n",
    "df = df.withColumnRenamed(\"ICD9_CODE\",\"DISEASES_CODE\")"
   ],
   "id": "2bde8175746ee315",
   "outputs": [],
   "execution_count": 8
  },
  {
   "metadata": {},
   "cell_type": "markdown",
   "source": "Here we will drop the columns that are not useful for the analysis.",
   "id": "41180090f1dbf0a1"
  },
  {
   "metadata": {
    "ExecuteTime": {
     "end_time": "2024-06-08T11:04:31.269781Z",
     "start_time": "2024-06-08T11:04:31.245115Z"
    }
   },
   "cell_type": "code",
   "source": [
    "columns_to_remove = [\n",
    "    \"ADMITTIME\", \"DISCHTIME\", \"EDREGTIME\", \"EDOUTTIME\", \"HOSPITAL_EXPIRE_FLAG\",\n",
    "    \"INTIME\", \"OUTTIME\",\"LANGUAGE\",\"DISCHARGE_LOCATION\",\n",
    "    \"ICUSTAY_ID\", \"SEQ_NUM\",\"HAS_CHARTEVENTS_DATA\",\"DBSOURCE\"\n",
    "]\n",
    "\n",
    "df = df.drop(*columns_to_remove)"
   ],
   "id": "d245622e4fc0f44b",
   "outputs": [],
   "execution_count": 9
  },
  {
   "metadata": {},
   "cell_type": "markdown",
   "source": "The ethnicity column has too many unique values. We can group them into a few categories.",
   "id": "7776beac1e92e389"
  },
  {
   "metadata": {
    "ExecuteTime": {
     "end_time": "2024-06-08T11:04:31.366827Z",
     "start_time": "2024-06-08T11:04:31.275231Z"
    }
   },
   "cell_type": "code",
   "source": [
    "# Define the transformation using multiple chained when conditions\n",
    "df = df.withColumn(\"ETHNICITY\",\n",
    "    F.when(F.col(\"ETHNICITY\").isin('AMERICAN INDIAN/ALASKA NATIVE', 'AMERICAN INDIAN/ALASKA NATIVE FEDERALLY RECOGNIZED TRIBE'),\n",
    "           'American Indian/Alaska Native')\n",
    "    .when(F.col(\"ETHNICITY\").isin('ASIAN', 'ASIAN - ASIAN INDIAN', 'ASIAN - CAMBODIAN', 'ASIAN - CHINESE', 'ASIAN - FILIPINO', 'ASIAN - JAPANESE', 'ASIAN - KOREAN', 'ASIAN - OTHER', 'ASIAN - THAI', 'ASIAN - VIETNAMESE'),\n",
    "          'Asian')\n",
    "    .when(F.col(\"ETHNICITY\").isin('BLACK/AFRICAN', 'BLACK/AFRICAN AMERICAN', 'BLACK/CAPE VERDEAN', 'BLACK/HAITIAN'),\n",
    "          'Black')\n",
    "    .when(F.col(\"ETHNICITY\").isin('HISPANIC OR LATINO', 'HISPANIC/LATINO - CENTRAL AMERICAN (OTHER)', 'HISPANIC/LATINO - COLOMBIAN', 'HISPANIC/LATINO - CUBAN', 'HISPANIC/LATINO - DOMINICAN', 'HISPANIC/LATINO - GUATEMALAN', 'HISPANIC/LATINO - HONDURAN', 'HISPANIC/LATINO - MEXICAN', 'HISPANIC/LATINO - PUERTO RICAN', 'HISPANIC/LATINO - SALVADORAN'),\n",
    "          'Hispanic/Latino')\n",
    "    .when(F.col(\"ETHNICITY\").isin('MIDDLE EASTERN'),\n",
    "          'Middle Eastern')\n",
    "    .when(F.col(\"ETHNICITY\").isin('NATIVE HAWAIIAN OR OTHER PACIFIC ISLANDER'),\n",
    "          'Pacific Islander')\n",
    "    .when(F.col(\"ETHNICITY\").isin('WHITE', 'WHITE - BRAZILIAN', 'WHITE - EASTERN EUROPEAN', 'WHITE - OTHER EUROPEAN', 'WHITE - RUSSIAN', 'PORTUGUESE'),\n",
    "          'White')\n",
    "    .when(F.col(\"ETHNICITY\").isin('CARIBBEAN ISLAND', 'SOUTH AMERICAN'),\n",
    "          'Caribbean/South American')\n",
    "    .when(F.col(\"ETHNICITY\").isin('MULTI RACE ETHNICITY'),\n",
    "          'Multi-Race')\n",
    "    .when(F.col(\"ETHNICITY\").isin('OTHER'),\n",
    "          'Other')\n",
    "    .otherwise('NO DATA REGISTERED')\n",
    ")"
   ],
   "id": "dab8818e9e64a178",
   "outputs": [],
   "execution_count": 10
  },
  {
   "metadata": {},
   "cell_type": "markdown",
   "source": "Now we can aggregate the data by primary keys and collect the remaining columns into lists.",
   "id": "dd9393f9b525a73e"
  },
  {
   "metadata": {
    "ExecuteTime": {
     "end_time": "2024-06-08T11:04:31.439842Z",
     "start_time": "2024-06-08T11:04:31.367460Z"
    }
   },
   "cell_type": "code",
   "source": [
    "# Define your primary key columns\n",
    "primary_key_columns = [\"SUBJECT_ID\", \"HADM_ID\"]\n",
    "\n",
    "# Identify the remaining columns to be grouped\n",
    "remaining_columns = [col for col in df.columns if col not in primary_key_columns]\n",
    "\n",
    "# Group by the primary key columns and aggregate the remaining columns into lists\n",
    "df = df.groupBy(primary_key_columns).agg(*(F.collect_list(col).alias(col) for col in remaining_columns))\n",
    "\n",
    "df=df.drop(\"HADM_ID\")"
   ],
   "id": "426159d6db44f48a",
   "outputs": [],
   "execution_count": 11
  },
  {
   "metadata": {},
   "cell_type": "markdown",
   "source": "Now we can transform the columns that contain lists of values. If all values in the list are the same, we can replace the list with a single value. If the list is empty, we can replace it with a default value.",
   "id": "85db3f5cb0247fc4"
  },
  {
   "metadata": {
    "ExecuteTime": {
     "end_time": "2024-06-08T11:04:34.736539Z",
     "start_time": "2024-06-08T11:04:31.441437Z"
    }
   },
   "cell_type": "code",
   "source": "df.show()",
   "id": "1250530cd4aa7223",
   "outputs": [
    {
     "name": "stderr",
     "output_type": "stream",
     "text": [
      "[Stage 35:>                                                         (0 + 1) / 1]\r"
     ]
    },
    {
     "name": "stdout",
     "output_type": "stream",
     "text": [
      "+----------+--------------------+--------------------+--------------------+--------------------+--------------------+--------------------+--------------------+--------------------+--------------------+--------------------+--------------------+--------------------+--------------------+--------------------+--------------------+--------------------+\n",
      "|SUBJECT_ID|              GENDER|                DIED|      ADMISSION_TYPE|  ADMISSION_LOCATION|           INSURANCE|            RELIGION|      MARITAL_STATUS|           ETHNICITY|           DIAGNOSIS|      FIRST_CAREUNIT|       LAST_CAREUNIT|        FIRST_WARDID|         LAST_WARDID|                 LOS|       DISEASES_CODE|                 AGE|\n",
      "+----------+--------------------+--------------------+--------------------+--------------------+--------------------+--------------------+--------------------+--------------------+--------------------+--------------------+--------------------+--------------------+--------------------+--------------------+--------------------+--------------------+\n",
      "|         3|[M, M, M, M, M, M...|[0, 0, 0, 0, 0, 0...|[EMERGENCY, EMERG...|[EMERGENCY ROOM A...|[Medicare, Medica...|[CATHOLIC, CATHOL...|[MARRIED, MARRIED...|[White, White, Wh...|[HYPOTENSION, HYP...|[MICU, MICU, MICU...|[MICU, MICU, MICU...|[12, 12, 12, 12, ...|[12, 12, 12, 12, ...|[6.0646, 6.0646, ...|[0389, 78559, 584...|[76, 76, 76, 76, ...|\n",
      "|         6|[F, F, F, F, F, F...|[0, 0, 0, 0, 0, 0...|[ELECTIVE, ELECTI...|[PHYS REFERRAL/NO...|[Medicare, Medica...|[NOT SPECIFIED, N...|[MARRIED, MARRIED...|[White, White, Wh...|[CHRONIC RENAL FA...|[SICU, SICU, SICU...|[SICU, SICU, SICU...|[33, 33, 33, 33, ...|[33, 33, 33, 33, ...|[3.6729, 3.6729, ...|[40391, 4440, 997...|[65, 65, 65, 65, ...|\n",
      "|        12|[M, M, M, M, M, M...|[1, 1, 1, 1, 1, 1...|[ELECTIVE, ELECTI...|[PHYS REFERRAL/NO...|[Medicare, Medica...|[JEWISH, JEWISH, ...|[MARRIED, MARRIED...|[White, White, Wh...|[PANCREATIC CANCE...|[SICU, SICU, SICU...|[SICU, SICU, SICU...|[23, 23, 23, 23, ...|[23, 23, 23, 23, ...|[7.6348, 7.6348, ...|[1570, 57410, 997...|[72, 72, 72, 72, ...|\n",
      "|        24|        [M, M, M, M]|        [0, 0, 0, 0]|[EMERGENCY, EMERG...|[TRANSFER FROM HO...|[Private, Private...|[PROTESTANT QUAKE...|[SINGLE, SINGLE, ...|[White, White, Wh...|[INTERIOR MYOCARD...|[CCU, CCU, CCU, CCU]|[CCU, CCU, CCU, CCU]|        [7, 7, 7, 7]|        [7, 7, 7, 7]|[0.5124, 0.5124, ...|[41041, 41401, 53...|    [39, 39, 39, 39]|\n",
      "|        25|        [M, M, M, M]|        [0, 0, 0, 0]|[EMERGENCY, EMERG...|[EMERGENCY ROOM A...|[Private, Private...|[UNOBTAINABLE, UN...|[MARRIED, MARRIED...|[White, White, Wh...|[ACUTE CORONARY S...|[CCU, CCU, CCU, CCU]|[CCU, CCU, CCU, CCU]|        [7, 7, 7, 7]|        [7, 7, 7, 7]|[3.5466, 3.5466, ...|[41071, 25011, 41...|    [58, 58, 58, 58]|\n",
      "|        38|[M, M, M, M, M, M...|[0, 0, 0, 0, 0, 0...|[EMERGENCY, EMERG...|[TRANSFER FROM HO...|[Medicare, Medica...|[CATHOLIC, CATHOL...|[WIDOWED, WIDOWED...|[White, White, Wh...|[ACUTE MYOCARDIAL...|[CCU, CCU, CCU, C...|[TSICU, TSICU, TS...|[7, 7, 7, 7, 7, 7...|[23, 23, 23, 23, ...|[25.5485, 25.5485...|[60883, 0389, 995...|[75, 75, 75, 75, ...|\n",
      "|        50|     [M, M, M, M, M]|     [0, 0, 0, 0, 0]|[NEWBORN, NEWBORN...|[PHYS REFERRAL/NO...|[Private, Private...|[OTHER, OTHER, OT...|                  []|[White, White, Wh...|[NEWBORN, NEWBORN...|[NICU, NICU, NICU...|[NICU, NICU, NICU...|[56, 56, 56, 56, 56]|[56, 56, 56, 56, 56]|[0.2458, 0.2458, ...|[V3000, 7746, 766...|     [0, 0, 0, 0, 0]|\n",
      "|        65|[M, M, M, M, M, M...|[0, 0, 0, 0, 0, 0...|[EMERGENCY, EMERG...|[EMERGENCY ROOM A...|[Private, Private...|[UNOBTAINABLE, UN...|[SINGLE, SINGLE, ...|[White, White, Wh...|[S/P STRUCK BY CA...|[TSICU, TSICU, TS...|[TSICU, TSICU, TS...|[33, 33, 33, 33, ...|[33, 33, 33, 33, ...|[3.326, 3.326, 3....|[80012, 30500, 30...|[26, 26, 26, 26, ...|\n",
      "|        75|[F, F, F, F, F, F...|[0, 0, 0, 0, 0, 0...|[ELECTIVE, ELECTI...|[PHYS REFERRAL/NO...|[Medicare, Medica...|[CATHOLIC, CATHOL...|[MARRIED, MARRIED...|[White, White, Wh...|[AORTIC STENOSIS\\...|[CSRU, CSRU, CSRU...|[CSRU, CSRU, CSRU...|[15, 15, 15, 15, ...|[15, 15, 15, 15, ...|[1.2469, 1.2469, ...|[4241, 9973, 5180...|[76, 76, 76, 76, ...|\n",
      "|        80|           [M, M, M]|           [0, 0, 0]|[EMERGENCY, EMERG...|[EMERGENCY ROOM A...|[Self Pay, Self P...|[CATHOLIC, CATHOL...|[MARRIED, MARRIED...|[White, White, Wh...|[HEAD LACERATION,...|[TSICU, TSICU, TS...|[TSICU, TSICU, TS...|        [33, 33, 33]|        [33, 33, 33]|[1.1901, 1.1901, ...|[80416, 87342, E916]|        [43, 43, 43]|\n",
      "|        81|           [M, M, M]|           [1, 1, 1]|[EMERGENCY, EMERG...|[EMERGENCY ROOM A...|[Medicare, Medica...|[UNOBTAINABLE, UN...|[MARRIED, MARRIED...|[White, White, Wh...|[INTRACRANIAL HEM...|[TSICU, TSICU, TS...|[TSICU, TSICU, TS...|        [14, 14, 14]|        [14, 14, 14]|[1.5137, 1.5137, ...|  [431, 20210, 4019]|        [85, 85, 85]|\n",
      "|       105|[F, F, F, F, F, F...|[0, 0, 0, 0, 0, 0...|[EMERGENCY, EMERG...|[EMERGENCY ROOM A...|[Medicare, Medica...|[PROTESTANT QUAKE...|[SINGLE, SINGLE, ...|[Black, Black, Bl...|[FEVER, FEVER, FE...|[MICU, MICU, MICU...|[MICU, MICU, MICU...|[23, 23, 23, 23, ...|[23, 23, 23, 23, ...|[1.6196, 1.6196, ...|[7806, 486, 4280,...|[35, 35, 35, 35, ...|\n",
      "|       105|[F, F, F, F, F, F...|[0, 0, 0, 0, 0, 0...|[EMERGENCY, EMERG...|[EMERGENCY ROOM A...|[Medicare, Medica...|[PROTESTANT QUAKE...|[SINGLE, SINGLE, ...|[Black, Black, Bl...|[FEVER,ORIGIN UNK...|[MICU, MICU, MICU...|[MICU, MICU, MICU...|[23, 23, 23, 23, ...|[23, 23, 23, 23, ...|[4.9968, 4.9968, ...|[7806, 486, 4280,...|[35, 35, 35, 35, ...|\n",
      "|       122|           [M, M, M]|           [0, 0, 0]|[NEWBORN, NEWBORN...|[PHYS REFERRAL/NO...|[Private, Private...|[UNOBTAINABLE, UN...|                  []|[White, White, Wh...|[NEWBORN, NEWBORN...|  [NICU, NICU, NICU]|  [NICU, NICU, NICU]|        [56, 56, 56]|        [56, 56, 56]|[0.886, 0.886, 0....| [V3000, 7452, 7622]|           [0, 0, 0]|\n",
      "|       126|[F, F, F, F, F, F...|[0, 0, 0, 0, 0, 0...|[NEWBORN, NEWBORN...|[CLINIC REFERRAL/...|[Private, Private...|[UNOBTAINABLE, UN...|                  []|[White, White, Wh...|[NEWBORN, NEWBORN...|[NICU, NICU, NICU...|[NICU, NICU, NICU...|[56, 56, 56, 56, ...|[56, 56, 56, 56, ...|[75.3561, 75.3561...|[V3101, 76503, 76...|[0, 0, 0, 0, 0, 0...|\n",
      "|       129|           [M, M, M]|           [0, 0, 0]|[EMERGENCY, EMERG...|[EMERGENCY ROOM A...|[Government, Gove...|[CATHOLIC, CATHOL...|[MARRIED, MARRIED...|[Hispanic/Latino,...|[PARENCHYMAL HEMO...|  [SICU, SICU, SICU]|  [SICU, SICU, SICU]|        [33, 33, 33]|        [33, 33, 33]|[1.3796, 1.3796, ...|[85300, 78039, E8...|        [36, 36, 36]|\n",
      "|       133|[M, M, M, M, M, M...|[0, 0, 0, 0, 0, 0...|[EMERGENCY, EMERG...|[TRANSFER FROM HO...|[Medicare, Medica...|[CATHOLIC, CATHOL...|[WIDOWED, WIDOWED...|[White, White, Wh...|[CORONARY ARTERY ...|[CSRU, CSRU, CSRU...|[CSRU, CSRU, CSRU...|[14, 14, 14, 14, ...|[14, 14, 14, 14, ...|[5.9932, 5.9932, ...|[41071, 41401, 49...|[77, 77, 77, 77, ...|\n",
      "|       140|[M, M, M, M, M, M...|[1, 1, 1, 1, 1, 1...|[EMERGENCY, EMERG...|[EMERGENCY ROOM A...|[Private, Private...|[CATHOLIC, CATHOL...|[DIVORCED, DIVORC...|[White, White, Wh...|[UPPER GI BLEED, ...|[MICU, MICU, MICU...|[MICU, MICU, MICU...|[23, 23, 23, 23, ...|[23, 23, 23, 23, ...|[2.1497, 2.1497, ...|[5307, 2875, 0705...|[53, 53, 53, 53, ...|\n",
      "|       142|              [F, F]|              [0, 0]|[ELECTIVE, ELECTIVE]|[PHYS REFERRAL/NO...|  [Private, Private]|[NOT SPECIFIED, N...|  [MARRIED, MARRIED]|      [White, White]|[MR\\MITRAL VALVE ...|        [CSRU, CSRU]|        [CSRU, CSRU]|            [14, 14]|            [14, 14]|    [1.8695, 1.8695]|        [4240, 2449]|            [48, 48]|\n",
      "|       148|[F, F, F, F, F, F...|[0, 0, 0, 0, 0, 0...|[EMERGENCY, EMERG...|[TRANSFER FROM HO...|[Medicare, Medica...|[UNOBTAINABLE, UN...|                  []|[NO DATA REGISTER...|[THROMBOCYTOPENIA...|[MICU, MICU, MICU...|[MICU, MICU, MICU...|[52, 52, 52, 52, ...|[52, 52, 52, 52, ...|[15.2614, 15.2614...|[2387, 5180, 5119...|[78, 78, 78, 78, ...|\n",
      "+----------+--------------------+--------------------+--------------------+--------------------+--------------------+--------------------+--------------------+--------------------+--------------------+--------------------+--------------------+--------------------+--------------------+--------------------+--------------------+--------------------+\n",
      "only showing top 20 rows\n",
      "\n"
     ]
    },
    {
     "name": "stderr",
     "output_type": "stream",
     "text": [
      "                                                                                \r"
     ]
    }
   ],
   "execution_count": 12
  },
  {
   "metadata": {
    "ExecuteTime": {
     "end_time": "2024-06-08T11:05:24.939280Z",
     "start_time": "2024-06-08T11:04:34.738027Z"
    }
   },
   "cell_type": "code",
   "source": [
    "replace_empty_list_udf = udf(utils.replace_empty_list, ArrayType(StringType()))\n",
    "transform_list_udf = udf(utils.transform_list, ArrayType(StringType()))\n",
    "handle_list_udf = udf(utils.handle_list, StringType())\n",
    "empty_list_udf = F.udf(lambda col: col == [], BooleanType())\n",
    "\n",
    "for column in df.columns:    \n",
    "    if isinstance(df.schema[column].dataType, ArrayType):\n",
    "        if df.filter(empty_list_udf(F.col(column))).count() > 0:\n",
    "            df = df.withColumn(column, replace_empty_list_udf(col(column)))\n",
    "            \n",
    "        df = df.withColumn(column, transform_list_udf(col(column)))\n",
    "        if len(set(df.select(column).first()[0])) == 1:\n",
    "            df = df.withColumn(column, handle_list_udf(df[column]))"
   ],
   "id": "caae3630b4ca832b",
   "outputs": [
    {
     "name": "stderr",
     "output_type": "stream",
     "text": [
      "                                                                                \r"
     ]
    }
   ],
   "execution_count": 13
  },
  {
   "metadata": {},
   "cell_type": "markdown",
   "source": "Check for missing values again.",
   "id": "f32cfe22255a064f"
  },
  {
   "metadata": {
    "ExecuteTime": {
     "end_time": "2024-06-08T11:05:34.245632Z",
     "start_time": "2024-06-08T11:05:24.940554Z"
    }
   },
   "cell_type": "code",
   "source": "utils.print_missing_value_counts(df)",
   "id": "93db242a248ae66b",
   "outputs": [
    {
     "name": "stderr",
     "output_type": "stream",
     "text": [
      "ERROR:root:KeyboardInterrupt while sending command.                 (1 + 7) / 8]\n",
      "Traceback (most recent call last):\n",
      "  File \"/opt/homebrew/Caskroom/miniconda/base/envs/bigdata/lib/python3.11/site-packages/py4j/java_gateway.py\", line 1038, in send_command\n",
      "    response = connection.send_command(command)\n",
      "               ^^^^^^^^^^^^^^^^^^^^^^^^^^^^^^^^\n",
      "  File \"/opt/homebrew/Caskroom/miniconda/base/envs/bigdata/lib/python3.11/site-packages/py4j/clientserver.py\", line 511, in send_command\n",
      "    answer = smart_decode(self.stream.readline()[:-1])\n",
      "                          ^^^^^^^^^^^^^^^^^^^^^^\n",
      "  File \"/opt/homebrew/Caskroom/miniconda/base/envs/bigdata/lib/python3.11/socket.py\", line 706, in readinto\n",
      "    return self._sock.recv_into(b)\n",
      "           ^^^^^^^^^^^^^^^^^^^^^^^\n",
      "KeyboardInterrupt\n",
      "Exception ignored in: <function JavaObject.__init__.<locals>.<lambda> at 0x124017560>\n",
      "Traceback (most recent call last):\n",
      "  File \"/opt/homebrew/Caskroom/miniconda/base/envs/bigdata/lib/python3.11/site-packages/py4j/java_gateway.py\", line 1359, in <lambda>\n",
      "    lambda wr, cc=self._gateway_client, id=self._target_id:\n",
      "\n",
      "KeyboardInterrupt: \n",
      "[Stage 285:==========================================>              (6 + 2) / 8]\r"
     ]
    },
    {
     "ename": "KeyboardInterrupt",
     "evalue": "",
     "output_type": "error",
     "traceback": [
      "\u001B[0;31m---------------------------------------------------------------------------\u001B[0m",
      "\u001B[0;31mKeyboardInterrupt\u001B[0m                         Traceback (most recent call last)",
      "Cell \u001B[0;32mIn[14], line 1\u001B[0m\n\u001B[0;32m----> 1\u001B[0m \u001B[43mutils\u001B[49m\u001B[38;5;241;43m.\u001B[39;49m\u001B[43mprint_missing_value_counts\u001B[49m\u001B[43m(\u001B[49m\u001B[43mdf\u001B[49m\u001B[43m)\u001B[49m\n",
      "File \u001B[0;32m~/Library/CloudStorage/OneDrive-UniversidadedoPorto/3ºY/2ºS/BigData/full-ml-pipeline/utils.py:10\u001B[0m, in \u001B[0;36mprint_missing_value_counts\u001B[0;34m(df)\u001B[0m\n\u001B[1;32m      7\u001B[0m null_counts \u001B[38;5;241m=\u001B[39m df\u001B[38;5;241m.\u001B[39mselect([F\u001B[38;5;241m.\u001B[39mcount(F\u001B[38;5;241m.\u001B[39mwhen(F\u001B[38;5;241m.\u001B[39misnull(c), c))\u001B[38;5;241m.\u001B[39malias(c) \u001B[38;5;28;01mfor\u001B[39;00m c \u001B[38;5;129;01min\u001B[39;00m df\u001B[38;5;241m.\u001B[39mcolumns])\n\u001B[1;32m      9\u001B[0m \u001B[38;5;66;03m# To display in a more readable vertical format\u001B[39;00m\n\u001B[0;32m---> 10\u001B[0m \u001B[43mnull_counts\u001B[49m\u001B[38;5;241;43m.\u001B[39;49m\u001B[43mshow\u001B[49m\u001B[43m(\u001B[49m\u001B[43mvertical\u001B[49m\u001B[38;5;241;43m=\u001B[39;49m\u001B[38;5;28;43;01mTrue\u001B[39;49;00m\u001B[43m)\u001B[49m\n",
      "File \u001B[0;32m/opt/homebrew/Caskroom/miniconda/base/envs/bigdata/lib/python3.11/site-packages/pyspark/sql/dataframe.py:945\u001B[0m, in \u001B[0;36mDataFrame.show\u001B[0;34m(self, n, truncate, vertical)\u001B[0m\n\u001B[1;32m    885\u001B[0m \u001B[38;5;28;01mdef\u001B[39;00m \u001B[38;5;21mshow\u001B[39m(\u001B[38;5;28mself\u001B[39m, n: \u001B[38;5;28mint\u001B[39m \u001B[38;5;241m=\u001B[39m \u001B[38;5;241m20\u001B[39m, truncate: Union[\u001B[38;5;28mbool\u001B[39m, \u001B[38;5;28mint\u001B[39m] \u001B[38;5;241m=\u001B[39m \u001B[38;5;28;01mTrue\u001B[39;00m, vertical: \u001B[38;5;28mbool\u001B[39m \u001B[38;5;241m=\u001B[39m \u001B[38;5;28;01mFalse\u001B[39;00m) \u001B[38;5;241m-\u001B[39m\u001B[38;5;241m>\u001B[39m \u001B[38;5;28;01mNone\u001B[39;00m:\n\u001B[1;32m    886\u001B[0m \u001B[38;5;250m    \u001B[39m\u001B[38;5;124;03m\"\"\"Prints the first ``n`` rows to the console.\u001B[39;00m\n\u001B[1;32m    887\u001B[0m \n\u001B[1;32m    888\u001B[0m \u001B[38;5;124;03m    .. versionadded:: 1.3.0\u001B[39;00m\n\u001B[0;32m   (...)\u001B[0m\n\u001B[1;32m    943\u001B[0m \u001B[38;5;124;03m    name | Bob\u001B[39;00m\n\u001B[1;32m    944\u001B[0m \u001B[38;5;124;03m    \"\"\"\u001B[39;00m\n\u001B[0;32m--> 945\u001B[0m     \u001B[38;5;28mprint\u001B[39m(\u001B[38;5;28;43mself\u001B[39;49m\u001B[38;5;241;43m.\u001B[39;49m\u001B[43m_show_string\u001B[49m\u001B[43m(\u001B[49m\u001B[43mn\u001B[49m\u001B[43m,\u001B[49m\u001B[43m \u001B[49m\u001B[43mtruncate\u001B[49m\u001B[43m,\u001B[49m\u001B[43m \u001B[49m\u001B[43mvertical\u001B[49m\u001B[43m)\u001B[49m)\n",
      "File \u001B[0;32m/opt/homebrew/Caskroom/miniconda/base/envs/bigdata/lib/python3.11/site-packages/pyspark/sql/dataframe.py:963\u001B[0m, in \u001B[0;36mDataFrame._show_string\u001B[0;34m(self, n, truncate, vertical)\u001B[0m\n\u001B[1;32m    957\u001B[0m     \u001B[38;5;28;01mraise\u001B[39;00m PySparkTypeError(\n\u001B[1;32m    958\u001B[0m         error_class\u001B[38;5;241m=\u001B[39m\u001B[38;5;124m\"\u001B[39m\u001B[38;5;124mNOT_BOOL\u001B[39m\u001B[38;5;124m\"\u001B[39m,\n\u001B[1;32m    959\u001B[0m         message_parameters\u001B[38;5;241m=\u001B[39m{\u001B[38;5;124m\"\u001B[39m\u001B[38;5;124marg_name\u001B[39m\u001B[38;5;124m\"\u001B[39m: \u001B[38;5;124m\"\u001B[39m\u001B[38;5;124mvertical\u001B[39m\u001B[38;5;124m\"\u001B[39m, \u001B[38;5;124m\"\u001B[39m\u001B[38;5;124marg_type\u001B[39m\u001B[38;5;124m\"\u001B[39m: \u001B[38;5;28mtype\u001B[39m(vertical)\u001B[38;5;241m.\u001B[39m\u001B[38;5;18m__name__\u001B[39m},\n\u001B[1;32m    960\u001B[0m     )\n\u001B[1;32m    962\u001B[0m \u001B[38;5;28;01mif\u001B[39;00m \u001B[38;5;28misinstance\u001B[39m(truncate, \u001B[38;5;28mbool\u001B[39m) \u001B[38;5;129;01mand\u001B[39;00m truncate:\n\u001B[0;32m--> 963\u001B[0m     \u001B[38;5;28;01mreturn\u001B[39;00m \u001B[38;5;28;43mself\u001B[39;49m\u001B[38;5;241;43m.\u001B[39;49m\u001B[43m_jdf\u001B[49m\u001B[38;5;241;43m.\u001B[39;49m\u001B[43mshowString\u001B[49m\u001B[43m(\u001B[49m\u001B[43mn\u001B[49m\u001B[43m,\u001B[49m\u001B[43m \u001B[49m\u001B[38;5;241;43m20\u001B[39;49m\u001B[43m,\u001B[49m\u001B[43m \u001B[49m\u001B[43mvertical\u001B[49m\u001B[43m)\u001B[49m\n\u001B[1;32m    964\u001B[0m \u001B[38;5;28;01melse\u001B[39;00m:\n\u001B[1;32m    965\u001B[0m     \u001B[38;5;28;01mtry\u001B[39;00m:\n",
      "File \u001B[0;32m/opt/homebrew/Caskroom/miniconda/base/envs/bigdata/lib/python3.11/site-packages/py4j/java_gateway.py:1321\u001B[0m, in \u001B[0;36mJavaMember.__call__\u001B[0;34m(self, *args)\u001B[0m\n\u001B[1;32m   1314\u001B[0m args_command, temp_args \u001B[38;5;241m=\u001B[39m \u001B[38;5;28mself\u001B[39m\u001B[38;5;241m.\u001B[39m_build_args(\u001B[38;5;241m*\u001B[39margs)\n\u001B[1;32m   1316\u001B[0m command \u001B[38;5;241m=\u001B[39m proto\u001B[38;5;241m.\u001B[39mCALL_COMMAND_NAME \u001B[38;5;241m+\u001B[39m\\\n\u001B[1;32m   1317\u001B[0m     \u001B[38;5;28mself\u001B[39m\u001B[38;5;241m.\u001B[39mcommand_header \u001B[38;5;241m+\u001B[39m\\\n\u001B[1;32m   1318\u001B[0m     args_command \u001B[38;5;241m+\u001B[39m\\\n\u001B[1;32m   1319\u001B[0m     proto\u001B[38;5;241m.\u001B[39mEND_COMMAND_PART\n\u001B[0;32m-> 1321\u001B[0m answer \u001B[38;5;241m=\u001B[39m \u001B[38;5;28;43mself\u001B[39;49m\u001B[38;5;241;43m.\u001B[39;49m\u001B[43mgateway_client\u001B[49m\u001B[38;5;241;43m.\u001B[39;49m\u001B[43msend_command\u001B[49m\u001B[43m(\u001B[49m\u001B[43mcommand\u001B[49m\u001B[43m)\u001B[49m\n\u001B[1;32m   1322\u001B[0m return_value \u001B[38;5;241m=\u001B[39m get_return_value(\n\u001B[1;32m   1323\u001B[0m     answer, \u001B[38;5;28mself\u001B[39m\u001B[38;5;241m.\u001B[39mgateway_client, \u001B[38;5;28mself\u001B[39m\u001B[38;5;241m.\u001B[39mtarget_id, \u001B[38;5;28mself\u001B[39m\u001B[38;5;241m.\u001B[39mname)\n\u001B[1;32m   1325\u001B[0m \u001B[38;5;28;01mfor\u001B[39;00m temp_arg \u001B[38;5;129;01min\u001B[39;00m temp_args:\n",
      "File \u001B[0;32m/opt/homebrew/Caskroom/miniconda/base/envs/bigdata/lib/python3.11/site-packages/py4j/java_gateway.py:1038\u001B[0m, in \u001B[0;36mGatewayClient.send_command\u001B[0;34m(self, command, retry, binary)\u001B[0m\n\u001B[1;32m   1036\u001B[0m connection \u001B[38;5;241m=\u001B[39m \u001B[38;5;28mself\u001B[39m\u001B[38;5;241m.\u001B[39m_get_connection()\n\u001B[1;32m   1037\u001B[0m \u001B[38;5;28;01mtry\u001B[39;00m:\n\u001B[0;32m-> 1038\u001B[0m     response \u001B[38;5;241m=\u001B[39m \u001B[43mconnection\u001B[49m\u001B[38;5;241;43m.\u001B[39;49m\u001B[43msend_command\u001B[49m\u001B[43m(\u001B[49m\u001B[43mcommand\u001B[49m\u001B[43m)\u001B[49m\n\u001B[1;32m   1039\u001B[0m     \u001B[38;5;28;01mif\u001B[39;00m binary:\n\u001B[1;32m   1040\u001B[0m         \u001B[38;5;28;01mreturn\u001B[39;00m response, \u001B[38;5;28mself\u001B[39m\u001B[38;5;241m.\u001B[39m_create_connection_guard(connection)\n",
      "File \u001B[0;32m/opt/homebrew/Caskroom/miniconda/base/envs/bigdata/lib/python3.11/site-packages/py4j/clientserver.py:511\u001B[0m, in \u001B[0;36mClientServerConnection.send_command\u001B[0;34m(self, command)\u001B[0m\n\u001B[1;32m    509\u001B[0m \u001B[38;5;28;01mtry\u001B[39;00m:\n\u001B[1;32m    510\u001B[0m     \u001B[38;5;28;01mwhile\u001B[39;00m \u001B[38;5;28;01mTrue\u001B[39;00m:\n\u001B[0;32m--> 511\u001B[0m         answer \u001B[38;5;241m=\u001B[39m smart_decode(\u001B[38;5;28mself\u001B[39m\u001B[38;5;241m.\u001B[39mstream\u001B[38;5;241m.\u001B[39mreadline()[:\u001B[38;5;241m-\u001B[39m\u001B[38;5;241m1\u001B[39m])\n\u001B[1;32m    512\u001B[0m         logger\u001B[38;5;241m.\u001B[39mdebug(\u001B[38;5;124m\"\u001B[39m\u001B[38;5;124mAnswer received: \u001B[39m\u001B[38;5;132;01m{0}\u001B[39;00m\u001B[38;5;124m\"\u001B[39m\u001B[38;5;241m.\u001B[39mformat(answer))\n\u001B[1;32m    513\u001B[0m         \u001B[38;5;66;03m# Happens when a the other end is dead. There might be an empty\u001B[39;00m\n\u001B[1;32m    514\u001B[0m         \u001B[38;5;66;03m# answer before the socket raises an error.\u001B[39;00m\n",
      "File \u001B[0;32m/opt/homebrew/Caskroom/miniconda/base/envs/bigdata/lib/python3.11/socket.py:706\u001B[0m, in \u001B[0;36mSocketIO.readinto\u001B[0;34m(self, b)\u001B[0m\n\u001B[1;32m    704\u001B[0m \u001B[38;5;28;01mwhile\u001B[39;00m \u001B[38;5;28;01mTrue\u001B[39;00m:\n\u001B[1;32m    705\u001B[0m     \u001B[38;5;28;01mtry\u001B[39;00m:\n\u001B[0;32m--> 706\u001B[0m         \u001B[38;5;28;01mreturn\u001B[39;00m \u001B[38;5;28;43mself\u001B[39;49m\u001B[38;5;241;43m.\u001B[39;49m\u001B[43m_sock\u001B[49m\u001B[38;5;241;43m.\u001B[39;49m\u001B[43mrecv_into\u001B[49m\u001B[43m(\u001B[49m\u001B[43mb\u001B[49m\u001B[43m)\u001B[49m\n\u001B[1;32m    707\u001B[0m     \u001B[38;5;28;01mexcept\u001B[39;00m timeout:\n\u001B[1;32m    708\u001B[0m         \u001B[38;5;28mself\u001B[39m\u001B[38;5;241m.\u001B[39m_timeout_occurred \u001B[38;5;241m=\u001B[39m \u001B[38;5;28;01mTrue\u001B[39;00m\n",
      "\u001B[0;31mKeyboardInterrupt\u001B[0m: "
     ]
    }
   ],
   "execution_count": 14
  },
  {
   "metadata": {
    "ExecuteTime": {
     "end_time": "2024-06-08T11:05:34.253092Z",
     "start_time": "2024-06-08T11:05:34.252835Z"
    }
   },
   "cell_type": "code",
   "source": "df.show()",
   "id": "89c7ee6e59b54f6e",
   "outputs": [],
   "execution_count": null
  },
  {
   "metadata": {},
   "cell_type": "markdown",
   "source": "Now let's add the biggest table to the dataframe.",
   "id": "aa82c938dad26da4"
  },
  {
   "metadata": {},
   "cell_type": "code",
   "source": "# df = df.join(df_chartevents,df[\"SUBJECT_ID\"] == df_chartevents[\"SUBJECT_ID\"], how=\"left\").drop(df_chartevents[\"SUBJECT_ID\"]).drop(df_chartevents[\"HADM_ID\"]).drop(df_chartevents[\"ICUSTAY_ID\"])",
   "id": "a3b59d658e23933c",
   "outputs": [],
   "execution_count": null
  },
  {
   "metadata": {},
   "cell_type": "markdown",
   "source": "# Graphical Analysis",
   "id": "b44f05a9d055d4ad"
  },
  {
   "metadata": {},
   "cell_type": "markdown",
   "source": "Uncomment the following code to load the dataset from a CSV file.",
   "id": "2e3c4897443c1133"
  },
  {
   "metadata": {},
   "cell_type": "code",
   "source": [
    "# Load the CSV file\n",
    "#df = spark.read.csv(\"dataset.csv\", header=True, inferSchema=True)\n",
    "\n",
    "# Convert the comma-separated string back to an array\n",
    "#df_with_array = df.withColumn(\"DISEASES_CODE\", split(col(\"DISEASES_CODE\"), \",\"))"
   ],
   "id": "122e02efec74aefb",
   "outputs": [],
   "execution_count": null
  },
  {
   "metadata": {},
   "cell_type": "code",
   "source": [
    "# Assuming `df` is your PySpark DataFrame\n",
    "df = df.withColumn(\"DIED\", df[\"DIED\"].cast(\"integer\"))\n",
    "\n",
    "# Plotting death counts by gender\n",
    "utils.plot_graph(df, 'GENDER', 'DIED', F.sum, 'Death Counts by Gender', 'Gender', 'Number of Deaths')"
   ],
   "id": "a566c35651c163bd",
   "outputs": [],
   "execution_count": null
  },
  {
   "metadata": {},
   "cell_type": "markdown",
   "source": "## Unique Value Count of marital status",
   "id": "71dc1b8d55dda66e"
  },
  {
   "metadata": {},
   "cell_type": "code",
   "source": "utils.plot_graph(df, 'MARITAL_STATUS', 'MARITAL_STATUS', F.count, 'Count of Marital Status', 'Marital Status', 'Count')",
   "id": "b649d93d5d41777d",
   "outputs": [],
   "execution_count": null
  },
  {
   "metadata": {},
   "cell_type": "markdown",
   "source": "## Unique Value Count of Admission Types",
   "id": "633859d36b485929"
  },
  {
   "metadata": {},
   "cell_type": "code",
   "source": "utils.plot_graph(df, 'ADMISSION_TYPE', 'ADMISSION_TYPE', F.count, 'Count of Admission Types', 'Admission Type', 'Count')",
   "id": "8fe6b04f23c180e0",
   "outputs": [],
   "execution_count": null
  },
  {
   "metadata": {},
   "cell_type": "markdown",
   "source": [
    "## Distribution of Lethality by Religion\n",
    "\n",
    "The 1º and 2º deadliest religions are not shown in the graph because they are outliers."
   ],
   "id": "1a2938601acce3b0"
  },
  {
   "metadata": {},
   "cell_type": "code",
   "source": [
    "# Calculate death rate per religion\n",
    "death_rate_per_religion = df.groupBy('RELIGION')\\\n",
    "    .agg(\n",
    "        F.sum('DIED').alias('Deaths'), \n",
    "        F.count('DIED').alias('Total')\n",
    "    )\\\n",
    "    .withColumn('Death Rate', (F.col('Deaths') / F.col('Total')) * 100)\\\n",
    "    .orderBy(F.col('Death Rate').desc())\n",
    "\n",
    "religions = death_rate_per_religion.rdd.zipWithIndex().filter(lambda x: x[1] in [2,3,4,5,6,7]).map(lambda x: x[0]).toDF()\n",
    "\n",
    "utils.plot_graph(religions, 'RELIGION', 'Death Rate', F.first, 'Death Rates for Religions Ranked', 'Religion', 'Death Rate (%)')"
   ],
   "id": "f129bac8182bc233",
   "outputs": [],
   "execution_count": null
  },
  {
   "metadata": {},
   "cell_type": "markdown",
   "source": "## Distribution of Lethality by Ethnicity",
   "id": "7152930eda22b113"
  },
  {
   "metadata": {},
   "cell_type": "code",
   "source": [
    "filtered_df = df.filter(df['ETHNICITY'] != 'NO DATA REGISTERED')\n",
    "\n",
    "# Calculate death rate per ethnicity\n",
    "death_rate_per_ethnicity = filtered_df.groupBy('ETHNICITY')\\\n",
    "    .agg(\n",
    "        F.sum('DIED').alias('Deaths'), \n",
    "        F.count('DIED').alias('Total')\n",
    "    )\\\n",
    "    .withColumn('Death Rate', (F.col('Deaths') / F.col('Total')) * 100)\\\n",
    "    .orderBy(F.col('Death Rate').desc())\\\n",
    "    .limit(5)\n",
    "\n",
    "utils.plot_graph(death_rate_per_ethnicity, 'ETHNICITY', 'Death Rate', F.first, 'Top 5 Deadliest Ethnicities by Death Rate', 'Ethnicity', 'Death Rate (%)')"
   ],
   "id": "d96f32c1dc93cd60",
   "outputs": [],
   "execution_count": null
  },
  {
   "metadata": {},
   "cell_type": "markdown",
   "source": "## Distribution of Length of Stay by Age",
   "id": "bfcc45416965fed6"
  },
  {
   "metadata": {},
   "cell_type": "code",
   "source": "",
   "id": "be777315dd7a0653",
   "outputs": [],
   "execution_count": null
  },
  {
   "metadata": {},
   "cell_type": "markdown",
   "source": "Uncomment the following code to save the dataset to a CSV file.",
   "id": "19bfc9ad53c1c2ae"
  },
  {
   "metadata": {
    "ExecuteTime": {
     "end_time": "2024-06-08T11:05:50.456477Z",
     "start_time": "2024-06-08T11:05:40.330183Z"
    }
   },
   "cell_type": "code",
   "source": [
    "# Assuming 'df' is your DataFrame\n",
    "df_modified = df.withColumn(\"DISEASES_CODE\", F.concat_ws(\",\", col(\"DISEASES_CODE\")))\n",
    "\n",
    "df_modified.write.csv(\"dataset.csv\", header=True, mode=\"overwrite\", sep=\",\")"
   ],
   "id": "32c92213996dab68",
   "outputs": [
    {
     "name": "stderr",
     "output_type": "stream",
     "text": [
      "                                                                                \r"
     ]
    }
   ],
   "execution_count": 15
  },
  {
   "metadata": {},
   "cell_type": "markdown",
   "source": "# Pre processing",
   "id": "52d7e3f536e8fcfe"
  },
  {
   "metadata": {},
   "cell_type": "code",
   "source": "df.show()",
   "id": "7f6a614a3202cc4",
   "outputs": [],
   "execution_count": null
  },
  {
   "metadata": {},
   "cell_type": "code",
   "source": [
    "df = df.withColumn(\"GENDER\", F.when(col(\"GENDER\") == \"M\", 0).otherwise(1))\n",
    "check_presence_udf = udf(lambda category_list, value: 1 if value in category_list else 0, IntegerType())\n",
    "\n",
    "# Find unique categories and generate columns for each category\n",
    "for category in df.select(\"DISEASES_CODE\").rdd.flatMap(lambda x: x[0]).distinct().collect():\n",
    "    df = df.withColumn(f'DISEASE_CODE_{category}', check_presence_udf(col(\"DISEASES_CODE\"), F.lit(category)))\n",
    "    \n",
    "df = df.drop(\"DISEASES_CODE\")"
   ],
   "id": "7e8436aa3d732d44",
   "outputs": [],
   "execution_count": null
  },
  {
   "metadata": {},
   "cell_type": "code",
   "source": [
    "all_columns = df.columns\n",
    "feature_columns = [col for col in all_columns if col not in ['SUBJECT_ID', 'LOS']]\n",
    "\n",
    "# Manually specified categorical and numerical features\n",
    "categorical_features = ['ADMISSION_TYPE', 'ADMISSION_LOCATION', 'INSURANCE', 'RELIGION',\n",
    "                        'MARITAL_STATUS', 'ETHNICITY', 'DIAGNOSIS', 'FIRST_CAREUNIT', 'LAST_CAREUNIT']\n",
    "numerical_features = [col for col in feature_columns if col not in categorical_features and col not in ['SUBJECT_ID', 'LOS']]\n",
    "\n",
    "# Cast string numerical features to float\n",
    "df = df.withColumn(\"AGE\", col(\"AGE\").cast(\"float\"))\n",
    "df = df.withColumn(\"FIRST_WARDID\", col(\"FIRST_WARDID\").cast(\"float\"))\n",
    "df = df.withColumn(\"LAST_WARDID\", col(\"LAST_WARDID\").cast(\"float\"))\n",
    "df = df.withColumn(\"LOS\", col(\"LOS\").cast(\"float\"))"
   ],
   "id": "dde019ceeaa3b584",
   "outputs": [],
   "execution_count": null
  },
  {
   "metadata": {},
   "cell_type": "code",
   "source": "df.show()",
   "id": "e3f51af334857d5e",
   "outputs": [],
   "execution_count": null
  },
  {
   "metadata": {},
   "cell_type": "code",
   "source": [
    "# Stages in the pipeline\n",
    "stages = []\n",
    "\n",
    "# Indexing and encoding categorical features\n",
    "for categoricalCol in categorical_features:\n",
    "    stringIndexer = StringIndexer(inputCol=categoricalCol, outputCol=categoricalCol + \"Index\", handleInvalid=\"keep\")\n",
    "    encoder = OneHotEncoder(inputCols=[stringIndexer.getOutputCol()], outputCols=[categoricalCol + \"ClassVec\"])\n",
    "    stages += [stringIndexer, encoder]\n",
    "\n",
    "# Assemble all the features along with the encoded categorical features\n",
    "assemblerInputs = [c + \"ClassVec\" for c in categorical_features] + numerical_features\n",
    "assembler = VectorAssembler(inputCols=assemblerInputs, outputCol=\"features\", handleInvalid=\"keep\")\n",
    "stages += [assembler]\n",
    "\n",
    "# Pipeline: This will ensure all stages are applied in sequence\n",
    "pipeline = Pipeline(stages=stages)\n",
    "pipelineModel = pipeline.fit(df)\n",
    "df_transformed = pipelineModel.transform(df)"
   ],
   "id": "4fc81fbf35516275",
   "outputs": [],
   "execution_count": null
  },
  {
   "metadata": {},
   "cell_type": "code",
   "source": [
    "# Assume subject_ids have been collected as before\n",
    "subject_ids = [row['SUBJECT_ID'] for row in df_transformed.select(\"SUBJECT_ID\").distinct().collect()]\n",
    "split_index = int(len(subject_ids) * 0.8)\n",
    "\n",
    "train_ids = set(subject_ids[:split_index])\n",
    "test_ids = set(subject_ids[split_index:])\n",
    "\n",
    "# Directly filter the DataFrame using the list\n",
    "train_data = df_transformed.filter(col(\"SUBJECT_ID\").isin(train_ids))\n",
    "test_data = df_transformed.filter(col(\"SUBJECT_ID\").isin(test_ids))\n",
    "\n",
    "# Check the count of entries in each dataset\n",
    "print(\"Entries in train_data:\", train_data.count())\n",
    "print(\"Entries in test_data:\", test_data.count())"
   ],
   "id": "d2ef21a5b75c8ccd",
   "outputs": [],
   "execution_count": null
  },
  {
   "metadata": {},
   "cell_type": "code",
   "source": "train_data.show()",
   "id": "a0cf109ef3698ef",
   "outputs": [],
   "execution_count": null
  },
  {
   "metadata": {},
   "cell_type": "code",
   "source": "test_data.show()",
   "id": "6cf58d8ae720ad0c",
   "outputs": [],
   "execution_count": null
  },
  {
   "metadata": {},
   "cell_type": "markdown",
   "source": "Here we are making sure that there isn't simultaneously a patient in the test set and train set.",
   "id": "dc2264ddb657c4"
  },
  {
   "metadata": {},
   "cell_type": "markdown",
   "source": "# Prediction",
   "id": "8f4a8adc7d56a64d"
  },
  {
   "metadata": {},
   "cell_type": "code",
   "source": [
    "def calculate_accuracy(predictions, label_column):\n",
    "    # Calculate the Mean Absolute Error (MAE)\n",
    "    mae = predictions.withColumn('abs_error', abs(col(label_column) - col(\"prediction\"))) \\\n",
    "                     .select(F.avg('abs_error')).first()[0]\n",
    "\n",
    "    # Convert MAE to a pseudo-accuracy metric (assuming MAE is less than 100)\n",
    "    accuracy = 100 - mae  # This assumes that lower error corresponds to higher accuracy\n",
    "\n",
    "    return accuracy"
   ],
   "id": "9d1ba85230ad86dd",
   "outputs": [],
   "execution_count": null
  },
  {
   "metadata": {},
   "cell_type": "markdown",
   "source": "## Linear Regression",
   "id": "ea9c5b48e71b17cd"
  },
  {
   "metadata": {},
   "cell_type": "code",
   "source": [
    "param = {\n",
    "    'maxIter': 10,\n",
    "    'regParam': 0.3,\n",
    "    'elasticNetParam': 0.8\n",
    "}\n",
    "\n",
    "# Define and fit the Linear Regression model on the training set\n",
    "lr = LinearRegression(featuresCol='features', labelCol=label_column, **param)\n",
    "lr_model = lr.fit(train_data)"
   ],
   "id": "ff9b5170b8210b3a",
   "outputs": [],
   "execution_count": null
  },
  {
   "metadata": {},
   "cell_type": "markdown",
   "source": "## Random Forest Regression",
   "id": "d32a48b1e9035b9b"
  },
  {
   "metadata": {},
   "cell_type": "code",
   "source": [
    "param = {\n",
    "    'maxDepth': 5,\n",
    "    'maxBins': 32,\n",
    "    'minInstancesPerNode': 1,\n",
    "    'minInfoGain': 0.0,\n",
    "    'maxMemoryInMB': 256,\n",
    "    'cacheNodeIds': False,\n",
    "    'checkpointInterval': 10,\n",
    "    'impurity': 'variance',\n",
    "    'featureSubsetStrategy': 'auto',\n",
    "    'subsamplingRate': 1.0,\n",
    "    'seed': None,\n",
    "    'numTrees': 20,\n",
    "}\n",
    "\n",
    "# Define and fit the Random Forest model on the training set\n",
    "rf = RandomForestRegressor(featuresCol='features', labelCol=label_column, **param)\n",
    "rf_model = rf.fit(train_data)"
   ],
   "id": "31943b611838f331",
   "outputs": [],
   "execution_count": null
  },
  {
   "metadata": {},
   "cell_type": "markdown",
   "source": "## Model Evaluation",
   "id": "7d886ff6fd7e57fd"
  },
  {
   "metadata": {},
   "cell_type": "code",
   "source": [
    "# Evaluate models using RMSE\n",
    "evaluator = RegressionEvaluator(labelCol=label_column, predictionCol=\"prediction\", metricName=\"rmse\")\n",
    "\n",
    "# Generate predictions on both training and testing datasets\n",
    "lr_train_predictions = lr_model.transform(train_data)\n",
    "lr_test_predictions = lr_model.transform(test_data)\n",
    "rf_train_predictions = rf_model.transform(train_data)\n",
    "rf_test_predictions = rf_model.transform(test_data)\n",
    "\n",
    "# Calculate RMSE for Linear Regression\n",
    "lr_train_rmse = evaluator.evaluate(lr_train_predictions)\n",
    "lr_test_rmse = evaluator.evaluate(lr_test_predictions)\n",
    "\n",
    "# Calculate RMSE for Random Forest\n",
    "rf_train_rmse = evaluator.evaluate(rf_train_predictions)\n",
    "rf_test_rmse = evaluator.evaluate(rf_test_predictions)\n",
    "\n",
    "# Print RMSE results\n",
    "print(f\"Linear Regression - Train RMSE: {lr_train_rmse}, Test RMSE: {lr_test_rmse}\")\n",
    "print(f\"Random Forest - Train RMSE: {rf_train_rmse}, Test RMSE: {rf_test_rmse}\")"
   ],
   "id": "5ce0bc3499010522",
   "outputs": [],
   "execution_count": null
  },
  {
   "metadata": {},
   "cell_type": "code",
   "source": "",
   "id": "5c6a816f2d4e6af5",
   "outputs": [],
   "execution_count": null
  }
 ],
 "metadata": {
  "kernelspec": {
   "display_name": "Python 3",
   "language": "python",
   "name": "python3"
  },
  "language_info": {
   "codemirror_mode": {
    "name": "ipython",
    "version": 2
   },
   "file_extension": ".py",
   "mimetype": "text/x-python",
   "name": "python",
   "nbconvert_exporter": "python",
   "pygments_lexer": "ipython2",
   "version": "2.7.6"
  }
 },
 "nbformat": 4,
 "nbformat_minor": 5
}
