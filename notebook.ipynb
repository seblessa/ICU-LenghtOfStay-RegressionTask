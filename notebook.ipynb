{
 "cells": [
  {
   "metadata": {
    "ExecuteTime": {
     "end_time": "2024-06-05T10:50:56.037336Z",
     "start_time": "2024-06-05T10:50:56.016712Z"
    }
   },
   "cell_type": "code",
   "source": [
    "%load_ext autoreload\n",
    "%autoreload 2\n",
    "from pyspark.sql import SparkSession\n",
    "from pyspark.ml import Pipeline\n",
    "from pyspark.ml.feature import VectorAssembler\n",
    "from pyspark.sql.functions import countDistinct,col ,avg, abs\n",
    "from pyspark.ml.regression import LinearRegression, RandomForestRegressor\n",
    "from pyspark.ml.evaluation import RegressionEvaluator"
   ],
   "id": "500926c2d111d3b7",
   "outputs": [
    {
     "name": "stdout",
     "output_type": "stream",
     "text": [
      "The autoreload extension is already loaded. To reload it, use:\n",
      "  %reload_ext autoreload\n"
     ]
    }
   ],
   "execution_count": 24
  },
  {
   "metadata": {
    "ExecuteTime": {
     "end_time": "2024-06-05T10:44:28.592792Z",
     "start_time": "2024-06-05T10:44:28.568189Z"
    }
   },
   "cell_type": "code",
   "source": [
    "spark = SparkSession.builder \\\n",
    "    .appName(\"Intensive Care Unit Data Analysis\") \\\n",
    "    .getOrCreate()"
   ],
   "id": "16b2dd3593ae37fc",
   "outputs": [],
   "execution_count": 10
  },
  {
   "metadata": {
    "ExecuteTime": {
     "end_time": "2024-06-05T10:44:29.654863Z",
     "start_time": "2024-06-05T10:44:28.593774Z"
    }
   },
   "cell_type": "code",
   "source": [
    "# Read the datasets\n",
    "df_admissions = spark.read.csv(\"data/ADMISSIONS.csv\", header=True, inferSchema=True).drop(\"ROW_ID\")\n",
    "df_diagnoses = spark.read.csv(\"data/DIAGNOSES_ICD.csv\", header=True, inferSchema=True).drop(\"ROW_ID\")\n",
    "df_icustays = spark.read.csv(\"data/ICUSTAYS.csv\", header=True, inferSchema=True).drop(\"ROW_ID\")\n",
    "df_patients = spark.read.csv(\"data/PATIENTS.csv\", header=True, inferSchema=True).drop(\"ROW_ID\")\n",
    "df_icd_diagnoses = spark.read.csv(\"data/D_ICD_DIAGNOSES.csv\", header=True, inferSchema=True).drop(\"ROW_ID\")\n",
    "# df_chartevents = spark.read.csv(\"data/CHARTEVENTS.csv\", header=True, inferSchema=True).drop(\"ROW_ID\")"
   ],
   "id": "f10eb3861e1a6ad6",
   "outputs": [],
   "execution_count": 11
  },
  {
   "metadata": {
    "ExecuteTime": {
     "end_time": "2024-06-05T10:44:29.715228Z",
     "start_time": "2024-06-05T10:44:29.656212Z"
    }
   },
   "cell_type": "code",
   "source": [
    "final_df = df_patients.join(df_admissions, df_patients[\"SUBJECT_ID\"] == df_admissions[\"SUBJECT_ID\"], how=\"left\").drop(df_admissions[\"SUBJECT_ID\"])\n",
    "final_df = final_df.join(df_icustays, final_df[\"HADM_ID\"] == df_icustays[\"HADM_ID\"], how=\"left\").drop(df_icustays[\"SUBJECT_ID\"]).drop(df_icustays[\"HADM_ID\"])\n",
    "final_df = final_df.join(df_diagnoses, final_df[\"SUBJECT_ID\"] == df_diagnoses[\"SUBJECT_ID\"], how=\"left\").drop(df_diagnoses[\"SUBJECT_ID\"]).drop(df_diagnoses[\"HADM_ID\"])\n",
    "final_df = final_df.join(df_icd_diagnoses,final_df[\"ICD9_CODE\"] == df_icd_diagnoses[\"ICD9_CODE\"], how=\"left\").drop(df_icd_diagnoses[\"ICD9_CODE\"])\n",
    "# final_df = final_df.join(df_chartevents,final_df[\"ICUSTAY_ID\"] == df_chartevents[\"ICUSTAY_ID\"], how=\"left\").drop(df_chartevents[\"SUBJECT_ID\"]).drop(df_chartevents[\"HADM_ID\"]).drop(df_chartevents[\"ICUSTAY_ID\"])\n",
    "\n",
    "\n",
    "# Drop ids columns because they are not useful for the analysis\n",
    "columns_to_remove = [\n",
    "    \"SUBJECT_ID\", \"HADM_ID\", \"ICUSTAY_ID\", \"SEQ_NUM\", \"ICD9_CODE\"\n",
    "]\n",
    "\n",
    "final_df=final_df.drop(*columns_to_remove)\n",
    "final_df = final_df.dropna().drop_duplicates()"
   ],
   "id": "e7be7c4e6258fc6c",
   "outputs": [],
   "execution_count": 12
  },
  {
   "metadata": {
    "ExecuteTime": {
     "end_time": "2024-06-05T10:44:31.230065Z",
     "start_time": "2024-06-05T10:44:29.715870Z"
    }
   },
   "cell_type": "code",
   "source": "final_df.show()",
   "id": "2732d367661fefc0",
   "outputs": [
    {
     "name": "stdout",
     "output_type": "stream",
     "text": [
      "+------+-------------------+-------------------+-------------------+-------------------+-----------+-------------------+-------------------+-------------------+--------------+--------------------+------------------+----------+--------+-----------------+--------------+--------------------+-------------------+-------------------+--------------------+--------------------+--------------------+----------+--------------+-------------+------------+-----------+-------------------+-------------------+-------+--------------------+--------------------+\n",
      "|GENDER|                DOB|                DOD|           DOD_HOSP|            DOD_SSN|EXPIRE_FLAG|          ADMITTIME|          DISCHTIME|          DEATHTIME|ADMISSION_TYPE|  ADMISSION_LOCATION|DISCHARGE_LOCATION| INSURANCE|LANGUAGE|         RELIGION|MARITAL_STATUS|           ETHNICITY|          EDREGTIME|          EDOUTTIME|           DIAGNOSIS|HOSPITAL_EXPIRE_FLAG|HAS_CHARTEVENTS_DATA|  DBSOURCE|FIRST_CAREUNIT|LAST_CAREUNIT|FIRST_WARDID|LAST_WARDID|             INTIME|            OUTTIME|    LOS|         SHORT_TITLE|          LONG_TITLE|\n",
      "+------+-------------------+-------------------+-------------------+-------------------+-----------+-------------------+-------------------+-------------------+--------------+--------------------+------------------+----------+--------+-----------------+--------------+--------------------+-------------------+-------------------+--------------------+--------------------+--------------------+----------+--------------+-------------+------------+-----------+-------------------+-------------------+-------+--------------------+--------------------+\n",
      "|     F|2137-09-14 00:00:00|2177-12-05 00:00:00|2177-12-05 00:00:00|2177-12-05 00:00:00|          1|2177-11-20 18:54:00|2177-12-05 21:36:00|2177-12-05 21:36:00|     EMERGENCY|TRANSFER FROM HOS...|      DEAD/EXPIRED|Government|    HAIT|PROTESTANT QUAKER|       MARRIED|BLACK/AFRICAN AME...|2177-11-20 17:21:00|2177-11-20 18:49:00| RESPIRATORY FAILURE|                   1|                   1|   carevue|          MICU|         MICU|          52|         52|2177-11-20 18:55:00|2177-12-05 21:36:03|15.1118| Acute cholecystitis| Acute cholecystitis|\n",
      "|     M|2089-07-16 00:00:00|2175-01-03 00:00:00|2175-01-03 00:00:00|2175-01-04 00:00:00|          1|2175-01-02 04:54:00|2175-01-03 00:06:00|2175-01-03 00:06:00|     EMERGENCY|EMERGENCY ROOM ADMIT|      DEAD/EXPIRED|  Medicare|    SPAN|    NOT SPECIFIED|       MARRIED|  HISPANIC OR LATINO|2175-01-02 03:55:00|2175-01-02 06:55:00|         HYPOTENSION|                   1|                   1|   carevue|          MICU|         MICU|          23|         23|2175-01-02 04:55:23|2175-01-03 02:57:02| 0.9178|React-oth vasc de...|Infection and inf...|\n",
      "|     F|2111-05-16 00:00:00|2172-09-24 00:00:00|2172-09-24 00:00:00|2172-09-24 00:00:00|          1|2172-09-08 13:44:00|2172-09-24 01:00:00|2172-09-24 01:00:00|     EMERGENCY|CLINIC REFERRAL/P...|      DEAD/EXPIRED|  Medicare|    ENGL|PROTESTANT QUAKER|       WIDOWED|               WHITE|2172-09-08 11:00:00|2172-09-08 15:24:00|      UPPER GI BLEED|                   1|                   1|metavision|         TSICU|         MICU|          14|         23|2172-09-08 13:44:55|2172-09-24 04:34:35|15.6178|Prim cardiomyopat...|Other primary car...|\n",
      "|     M|2125-01-31 00:00:00|2192-01-05 00:00:00|2192-01-05 00:00:00|2192-01-05 00:00:00|          1|2191-12-31 18:17:00|2192-01-05 15:00:00|2192-01-05 15:00:00|     EMERGENCY|CLINIC REFERRAL/P...|      DEAD/EXPIRED|   Private|    ENGL|         CATHOLIC|       MARRIED|               WHITE|2191-12-31 15:05:00|2191-12-31 20:12:00|HYPOKALEMIA;DIABE...|                   1|                   1|metavision|          MICU|         MICU|          23|         23|2191-12-31 18:18:42|2192-01-05 16:53:27| 4.9408|Food/vomit pneumo...|Pneumonitis due t...|\n",
      "|     M|2125-01-31 00:00:00|2192-01-05 00:00:00|2192-01-05 00:00:00|2192-01-05 00:00:00|          1|2191-12-31 18:17:00|2192-01-05 15:00:00|2192-01-05 15:00:00|     EMERGENCY|CLINIC REFERRAL/P...|      DEAD/EXPIRED|   Private|    ENGL|         CATHOLIC|       MARRIED|               WHITE|2191-12-31 15:05:00|2191-12-31 20:12:00|HYPOKALEMIA;DIABE...|                   1|                   1|metavision|          MICU|         MICU|          23|         23|2191-12-31 18:18:42|2192-01-05 16:53:27| 4.9408|   Esophageal reflux|   Esophageal reflux|\n",
      "|     F|2077-11-04 00:00:00|2147-08-30 00:00:00|2147-08-30 00:00:00|2147-09-04 00:00:00|          1|2147-08-19 16:30:00|2147-08-30 05:00:00|2147-08-30 05:00:00|     EMERGENCY|EMERGENCY ROOM ADMIT|      DEAD/EXPIRED|  Medicare|    ENGL|PROTESTANT QUAKER|        SINGLE|BLACK/AFRICAN AME...|2147-08-19 12:03:00|2147-08-19 17:55:00|               FEVER|                   1|                   1|   carevue|          MICU|         MICU|          52|         52|2147-08-19 16:30:51|2147-08-30 07:51:12|10.6391|Myelodysplastic s...|Myelodysplastic s...|\n",
      "|     M|2074-11-07 00:00:00|2155-05-03 00:00:00|2155-05-03 00:00:00|2155-05-03 00:00:00|          1|2155-05-03 01:22:00|2155-05-03 16:42:00|2155-05-03 16:42:00|     EMERGENCY|EMERGENCY ROOM ADMIT|      DEAD/EXPIRED|  Medicare|    ENGL|           JEWISH|       MARRIED|               WHITE|2155-05-02 13:12:00|2155-05-03 02:49:00|            WEAKNESS|                   1|                   1|   carevue|          SICU|         SICU|          57|         57|2155-05-03 01:22:59|2155-05-03 21:01:52| 0.8187|Hyperlipidemia NE...|Other and unspeci...|\n",
      "|     M|2055-01-20 00:00:00|2110-07-01 00:00:00|2110-07-01 00:00:00|2110-07-01 00:00:00|          1|2110-06-26 05:13:00|2110-07-01 22:13:00|2110-07-01 22:13:00|     EMERGENCY|EMERGENCY ROOM ADMIT|      DEAD/EXPIRED|   Private|    ENGL|         CATHOLIC|      DIVORCED|               WHITE|2110-06-26 01:19:00|2110-06-26 06:21:00|UPPER GASTROINTES...|                   1|                   1|   carevue|          MICU|         MICU|          50|         50|2110-06-26 05:13:46|2110-06-29 17:22:19| 3.5059| Portal hypertension| Portal hypertension|\n",
      "|     M|2121-05-15 00:00:00|2188-08-17 00:00:00|2188-08-17 00:00:00|2188-08-17 00:00:00|          1|2188-08-17 10:34:00|2188-08-17 17:15:00|2188-08-17 17:15:00|     EMERGENCY|EMERGENCY ROOM ADMIT|      DEAD/EXPIRED|  Medicare|    PTUN|         CATHOLIC|       MARRIED|               WHITE|2188-08-17 09:00:00|2188-08-17 12:20:00|ACUTE SUBDURAL HE...|                   1|                   1|   carevue|          SICU|         SICU|          57|         57|2188-08-17 10:35:27|2188-08-17 18:55:08|  0.347|Pure hypercholest...|Pure hypercholest...|\n",
      "|     M|2100-10-05 00:00:00|2186-10-15 00:00:00|2186-10-15 00:00:00|2186-10-15 00:00:00|          1|2186-10-15 14:22:00|2186-10-15 00:00:00|2186-10-15 00:00:00|     EMERGENCY|CLINIC REFERRAL/P...|      DEAD/EXPIRED|  Medicare|    VIET|     UNOBTAINABLE|       MARRIED|    UNABLE TO OBTAIN|2186-10-15 13:51:00|2186-10-15 16:03:00|NON-ST SEGMENT EL...|                   1|                   1|metavision|           CCU|          CCU|           7|          7|2186-10-15 14:49:42|2186-10-16 02:15:53| 0.4765|      Cardiac arrest|      Cardiac arrest|\n",
      "|     M|2046-06-17 00:00:00|2132-04-02 00:00:00|2132-04-02 00:00:00|2132-04-02 00:00:00|          1|2132-03-11 15:31:00|2132-04-02 19:10:00|2132-04-02 19:10:00|     EMERGENCY|EMERGENCY ROOM ADMIT|      DEAD/EXPIRED|  Medicare|    ENGL|         CATHOLIC|       MARRIED|               WHITE|2132-03-11 10:38:00|2132-03-11 16:43:00|           PNEUMONIA|                   1|                   1|metavision|          MICU|         MICU|          50|         50|2132-03-22 03:00:16|2132-04-02 20:36:22|11.7334|  Exam-clincal trial|Examination of pa...|\n",
      "|     M|2034-01-26 00:00:00|2118-07-11 00:00:00|2118-07-11 00:00:00|2118-07-11 00:00:00|          1|2118-07-10 04:15:00|2118-07-11 12:30:00|2118-07-11 12:30:00|     EMERGENCY|CLINIC REFERRAL/P...|      DEAD/EXPIRED|  Medicare|    RUSS|           JEWISH|       MARRIED|               WHITE|2118-07-10 03:57:00|2118-07-10 04:46:00|             DYSPNEA|                   1|                   1|metavision|          SICU|         SICU|          33|         33|2118-07-10 04:16:53|2118-07-11 14:10:05| 1.4119|Secondary malig n...|Secondary maligna...|\n",
      "|     M|2109-09-28 00:00:00|2184-04-02 00:00:00|2184-04-02 00:00:00|2184-04-02 00:00:00|          1|2184-03-06 17:02:00|2184-04-02 15:00:00|2184-04-02 15:00:00|     EMERGENCY|EMERGENCY ROOM ADMIT|      DEAD/EXPIRED|  Medicare|    ENGL|         CATHOLIC|       MARRIED|               WHITE|2184-03-06 13:42:00|2184-03-06 19:40:00|               FEVER|                   1|                   1|metavision|          MICU|         MICU|          52|         52|2184-03-25 05:33:27|2184-04-02 16:25:19| 8.4527|Pneumonia, organi...|Pneumonia, organi...|\n",
      "|     M|2109-09-28 00:00:00|2184-04-02 00:00:00|2184-04-02 00:00:00|2184-04-02 00:00:00|          1|2184-03-06 17:02:00|2184-04-02 15:00:00|2184-04-02 15:00:00|     EMERGENCY|EMERGENCY ROOM ADMIT|      DEAD/EXPIRED|  Medicare|    ENGL|         CATHOLIC|       MARRIED|               WHITE|2184-03-06 13:42:00|2184-03-06 19:40:00|               FEVER|                   1|                   1|metavision|          MICU|         MICU|          52|         52|2184-03-25 05:33:27|2184-04-02 16:25:19| 8.4527|  Hypothyroidism NOS|Unspecified acqui...|\n",
      "|     F|2128-04-28 00:00:00|2161-11-25 00:00:00|2161-11-25 00:00:00|2161-11-25 00:00:00|          1|2161-11-23 00:53:00|2161-11-25 10:20:00|2161-11-25 10:20:00|     EMERGENCY|EMERGENCY ROOM ADMIT|      DEAD/EXPIRED|   Private|    ENGL|         CATHOLIC|       MARRIED|               WHITE|2161-11-22 20:02:00|2161-11-23 02:01:00|URINARY TRACT INF...|                   1|                   1|metavision|          MICU|         MICU|          50|         50|2161-11-23 00:55:11|2161-11-25 13:29:43|  2.524|      Hydronephrosis|      Hydronephrosis|\n",
      "|     M|2096-02-28 00:00:00|2166-11-20 00:00:00|2166-11-20 00:00:00|2166-11-20 00:00:00|          1|2166-10-14 23:16:00|2166-11-20 12:00:00|2166-11-20 12:00:00|     EMERGENCY|EMERGENCY ROOM ADMIT|      DEAD/EXPIRED|  Medicare|    ENGL|PROTESTANT QUAKER|        SINGLE|UNKNOWN/NOT SPECI...|2166-10-14 22:54:00|2166-10-14 23:25:00|ABDOMINAL AORTIC ...|                   1|                   1|metavision|          SICU|          CCU|          33|          7|2166-11-20 03:02:50|2166-11-21 01:26:07| 0.9328|Hy kid NOS w cr k...|Hypertensive chro...|\n",
      "|     M|2096-02-28 00:00:00|2166-11-20 00:00:00|2166-11-20 00:00:00|2166-11-20 00:00:00|          1|2166-10-14 23:16:00|2166-11-20 12:00:00|2166-11-20 12:00:00|     EMERGENCY|EMERGENCY ROOM ADMIT|      DEAD/EXPIRED|  Medicare|    ENGL|PROTESTANT QUAKER|        SINGLE|UNKNOWN/NOT SPECI...|2166-10-14 22:54:00|2166-10-14 23:25:00|ABDOMINAL AORTIC ...|                   1|                   1|metavision|          CSRU|         CSRU|          12|         15|2166-10-24 21:30:09|2166-10-27 13:04:56| 2.6492|   Incisional hernia|Incisional hernia...|\n",
      "|     F|2111-05-16 00:00:00|2172-09-24 00:00:00|2172-09-24 00:00:00|2172-09-24 00:00:00|          1|2172-09-08 13:44:00|2172-09-24 01:00:00|2172-09-24 01:00:00|     EMERGENCY|CLINIC REFERRAL/P...|      DEAD/EXPIRED|  Medicare|    ENGL|PROTESTANT QUAKER|       WIDOWED|               WHITE|2172-09-08 11:00:00|2172-09-08 15:24:00|      UPPER GI BLEED|                   1|                   1|metavision|         TSICU|         MICU|          14|         23|2172-09-08 13:44:55|2172-09-24 04:34:35|15.6178|Cardiac dysrhythm...|Other specified c...|\n",
      "|     M|2094-11-09 00:00:00|2170-01-05 00:00:00|2170-01-05 00:00:00|2170-01-05 00:00:00|          1|2169-12-31 20:45:00|2170-01-05 18:55:00|2170-01-05 18:55:00|     EMERGENCY|EMERGENCY ROOM ADMIT|      DEAD/EXPIRED|  Medicare|    RUSS|           JEWISH|       MARRIED|               WHITE|2169-12-31 18:03:00|2169-12-31 23:26:00|           PNEUMONIA|                   1|                   1|metavision|          MICU|         MICU|          50|         50|2169-12-31 22:08:44|2170-01-01 12:53:45| 0.6146|Mental disor NEC ...|Other persistent ...|\n",
      "|     F|2115-05-12 00:00:00|2202-05-08 00:00:00|2202-05-08 00:00:00|2202-05-08 00:00:00|          1|2202-04-02 11:26:00|2202-05-08 00:15:00|2202-05-08 00:15:00|     EMERGENCY|EMERGENCY ROOM ADMIT|      DEAD/EXPIRED|  Medicare|    ENGL|           JEWISH|       WIDOWED|               WHITE|2202-04-02 08:39:00|2202-04-02 12:30:00|          CHEST PAIN|                   1|                   1|   carevue|          CSRU|         CSRU|          15|         15|2202-04-03 19:44:40|2202-04-09 16:31:05| 5.8656|      Septicemia NEC|Other specified s...|\n",
      "+------+-------------------+-------------------+-------------------+-------------------+-----------+-------------------+-------------------+-------------------+--------------+--------------------+------------------+----------+--------+-----------------+--------------+--------------------+-------------------+-------------------+--------------------+--------------------+--------------------+----------+--------------+-------------+------------+-----------+-------------------+-------------------+-------+--------------------+--------------------+\n",
      "only showing top 20 rows\n",
      "\n"
     ]
    },
    {
     "name": "stderr",
     "output_type": "stream",
     "text": [
      "                                                                                \r"
     ]
    }
   ],
   "execution_count": 13
  },
  {
   "metadata": {
    "ExecuteTime": {
     "end_time": "2024-06-05T10:45:13.966678Z",
     "start_time": "2024-06-05T10:44:31.230840Z"
    }
   },
   "cell_type": "code",
   "source": [
    "unique_value_columns = []\n",
    "\n",
    "# Check each column for the number of distinct values\n",
    "for col_name in final_df.columns:\n",
    "    # Count distinct values in the column\n",
    "    distinct_count = final_df.agg(countDistinct(col(col_name)).alias(\"count\")).collect()[0][\"count\"]\n",
    "    # If only one unique value exists, add to the list\n",
    "    if distinct_count == 1:\n",
    "        unique_value_columns.append(col_name)\n",
    "\n",
    "final_df = final_df.drop(*unique_value_columns)"
   ],
   "id": "140dec778cb48381",
   "outputs": [
    {
     "name": "stderr",
     "output_type": "stream",
     "text": [
      "                                                                                \r"
     ]
    }
   ],
   "execution_count": 14
  },
  {
   "metadata": {
    "ExecuteTime": {
     "end_time": "2024-06-05T10:45:16.080502Z",
     "start_time": "2024-06-05T10:45:13.969128Z"
    }
   },
   "cell_type": "code",
   "source": "final_df.show()",
   "id": "5e49b9900865df52",
   "outputs": [
    {
     "name": "stderr",
     "output_type": "stream",
     "text": [
      "[Stage 1390:>                                                       (0 + 8) / 8]\r"
     ]
    },
    {
     "name": "stdout",
     "output_type": "stream",
     "text": [
      "+------+-------------------+-------------------+-------------------+-------------------+-------------------+-------------------+-------------------+--------------------+----------+--------+-----------------+--------------+--------------------+-------------------+-------------------+--------------------+--------------------+----------+--------------+-------------+------------+-----------+-------------------+-------------------+-------+--------------------+--------------------+\n",
      "|GENDER|                DOB|                DOD|           DOD_HOSP|            DOD_SSN|          ADMITTIME|          DISCHTIME|          DEATHTIME|  ADMISSION_LOCATION| INSURANCE|LANGUAGE|         RELIGION|MARITAL_STATUS|           ETHNICITY|          EDREGTIME|          EDOUTTIME|           DIAGNOSIS|HAS_CHARTEVENTS_DATA|  DBSOURCE|FIRST_CAREUNIT|LAST_CAREUNIT|FIRST_WARDID|LAST_WARDID|             INTIME|            OUTTIME|    LOS|         SHORT_TITLE|          LONG_TITLE|\n",
      "+------+-------------------+-------------------+-------------------+-------------------+-------------------+-------------------+-------------------+--------------------+----------+--------+-----------------+--------------+--------------------+-------------------+-------------------+--------------------+--------------------+----------+--------------+-------------+------------+-----------+-------------------+-------------------+-------+--------------------+--------------------+\n",
      "|     F|2137-09-14 00:00:00|2177-12-05 00:00:00|2177-12-05 00:00:00|2177-12-05 00:00:00|2177-11-20 18:54:00|2177-12-05 21:36:00|2177-12-05 21:36:00|TRANSFER FROM HOS...|Government|    HAIT|PROTESTANT QUAKER|       MARRIED|BLACK/AFRICAN AME...|2177-11-20 17:21:00|2177-11-20 18:49:00| RESPIRATORY FAILURE|                   1|   carevue|          MICU|         MICU|          52|         52|2177-11-20 18:55:00|2177-12-05 21:36:03|15.1118| Acute cholecystitis| Acute cholecystitis|\n",
      "|     M|2089-07-16 00:00:00|2175-01-03 00:00:00|2175-01-03 00:00:00|2175-01-04 00:00:00|2175-01-02 04:54:00|2175-01-03 00:06:00|2175-01-03 00:06:00|EMERGENCY ROOM ADMIT|  Medicare|    SPAN|    NOT SPECIFIED|       MARRIED|  HISPANIC OR LATINO|2175-01-02 03:55:00|2175-01-02 06:55:00|         HYPOTENSION|                   1|   carevue|          MICU|         MICU|          23|         23|2175-01-02 04:55:23|2175-01-03 02:57:02| 0.9178|React-oth vasc de...|Infection and inf...|\n",
      "|     F|2111-05-16 00:00:00|2172-09-24 00:00:00|2172-09-24 00:00:00|2172-09-24 00:00:00|2172-09-08 13:44:00|2172-09-24 01:00:00|2172-09-24 01:00:00|CLINIC REFERRAL/P...|  Medicare|    ENGL|PROTESTANT QUAKER|       WIDOWED|               WHITE|2172-09-08 11:00:00|2172-09-08 15:24:00|      UPPER GI BLEED|                   1|metavision|         TSICU|         MICU|          14|         23|2172-09-08 13:44:55|2172-09-24 04:34:35|15.6178|Prim cardiomyopat...|Other primary car...|\n",
      "|     M|2125-01-31 00:00:00|2192-01-05 00:00:00|2192-01-05 00:00:00|2192-01-05 00:00:00|2191-12-31 18:17:00|2192-01-05 15:00:00|2192-01-05 15:00:00|CLINIC REFERRAL/P...|   Private|    ENGL|         CATHOLIC|       MARRIED|               WHITE|2191-12-31 15:05:00|2191-12-31 20:12:00|HYPOKALEMIA;DIABE...|                   1|metavision|          MICU|         MICU|          23|         23|2191-12-31 18:18:42|2192-01-05 16:53:27| 4.9408|Food/vomit pneumo...|Pneumonitis due t...|\n",
      "|     M|2125-01-31 00:00:00|2192-01-05 00:00:00|2192-01-05 00:00:00|2192-01-05 00:00:00|2191-12-31 18:17:00|2192-01-05 15:00:00|2192-01-05 15:00:00|CLINIC REFERRAL/P...|   Private|    ENGL|         CATHOLIC|       MARRIED|               WHITE|2191-12-31 15:05:00|2191-12-31 20:12:00|HYPOKALEMIA;DIABE...|                   1|metavision|          MICU|         MICU|          23|         23|2191-12-31 18:18:42|2192-01-05 16:53:27| 4.9408|   Esophageal reflux|   Esophageal reflux|\n",
      "|     F|2077-11-04 00:00:00|2147-08-30 00:00:00|2147-08-30 00:00:00|2147-09-04 00:00:00|2147-08-19 16:30:00|2147-08-30 05:00:00|2147-08-30 05:00:00|EMERGENCY ROOM ADMIT|  Medicare|    ENGL|PROTESTANT QUAKER|        SINGLE|BLACK/AFRICAN AME...|2147-08-19 12:03:00|2147-08-19 17:55:00|               FEVER|                   1|   carevue|          MICU|         MICU|          52|         52|2147-08-19 16:30:51|2147-08-30 07:51:12|10.6391|Myelodysplastic s...|Myelodysplastic s...|\n",
      "|     M|2074-11-07 00:00:00|2155-05-03 00:00:00|2155-05-03 00:00:00|2155-05-03 00:00:00|2155-05-03 01:22:00|2155-05-03 16:42:00|2155-05-03 16:42:00|EMERGENCY ROOM ADMIT|  Medicare|    ENGL|           JEWISH|       MARRIED|               WHITE|2155-05-02 13:12:00|2155-05-03 02:49:00|            WEAKNESS|                   1|   carevue|          SICU|         SICU|          57|         57|2155-05-03 01:22:59|2155-05-03 21:01:52| 0.8187|Hyperlipidemia NE...|Other and unspeci...|\n",
      "|     M|2055-01-20 00:00:00|2110-07-01 00:00:00|2110-07-01 00:00:00|2110-07-01 00:00:00|2110-06-26 05:13:00|2110-07-01 22:13:00|2110-07-01 22:13:00|EMERGENCY ROOM ADMIT|   Private|    ENGL|         CATHOLIC|      DIVORCED|               WHITE|2110-06-26 01:19:00|2110-06-26 06:21:00|UPPER GASTROINTES...|                   1|   carevue|          MICU|         MICU|          50|         50|2110-06-26 05:13:46|2110-06-29 17:22:19| 3.5059| Portal hypertension| Portal hypertension|\n",
      "|     M|2121-05-15 00:00:00|2188-08-17 00:00:00|2188-08-17 00:00:00|2188-08-17 00:00:00|2188-08-17 10:34:00|2188-08-17 17:15:00|2188-08-17 17:15:00|EMERGENCY ROOM ADMIT|  Medicare|    PTUN|         CATHOLIC|       MARRIED|               WHITE|2188-08-17 09:00:00|2188-08-17 12:20:00|ACUTE SUBDURAL HE...|                   1|   carevue|          SICU|         SICU|          57|         57|2188-08-17 10:35:27|2188-08-17 18:55:08|  0.347|Pure hypercholest...|Pure hypercholest...|\n",
      "|     M|2100-10-05 00:00:00|2186-10-15 00:00:00|2186-10-15 00:00:00|2186-10-15 00:00:00|2186-10-15 14:22:00|2186-10-15 00:00:00|2186-10-15 00:00:00|CLINIC REFERRAL/P...|  Medicare|    VIET|     UNOBTAINABLE|       MARRIED|    UNABLE TO OBTAIN|2186-10-15 13:51:00|2186-10-15 16:03:00|NON-ST SEGMENT EL...|                   1|metavision|           CCU|          CCU|           7|          7|2186-10-15 14:49:42|2186-10-16 02:15:53| 0.4765|      Cardiac arrest|      Cardiac arrest|\n",
      "|     M|2046-06-17 00:00:00|2132-04-02 00:00:00|2132-04-02 00:00:00|2132-04-02 00:00:00|2132-03-11 15:31:00|2132-04-02 19:10:00|2132-04-02 19:10:00|EMERGENCY ROOM ADMIT|  Medicare|    ENGL|         CATHOLIC|       MARRIED|               WHITE|2132-03-11 10:38:00|2132-03-11 16:43:00|           PNEUMONIA|                   1|metavision|          MICU|         MICU|          50|         50|2132-03-22 03:00:16|2132-04-02 20:36:22|11.7334|  Exam-clincal trial|Examination of pa...|\n",
      "|     M|2034-01-26 00:00:00|2118-07-11 00:00:00|2118-07-11 00:00:00|2118-07-11 00:00:00|2118-07-10 04:15:00|2118-07-11 12:30:00|2118-07-11 12:30:00|CLINIC REFERRAL/P...|  Medicare|    RUSS|           JEWISH|       MARRIED|               WHITE|2118-07-10 03:57:00|2118-07-10 04:46:00|             DYSPNEA|                   1|metavision|          SICU|         SICU|          33|         33|2118-07-10 04:16:53|2118-07-11 14:10:05| 1.4119|Secondary malig n...|Secondary maligna...|\n",
      "|     M|2109-09-28 00:00:00|2184-04-02 00:00:00|2184-04-02 00:00:00|2184-04-02 00:00:00|2184-03-06 17:02:00|2184-04-02 15:00:00|2184-04-02 15:00:00|EMERGENCY ROOM ADMIT|  Medicare|    ENGL|         CATHOLIC|       MARRIED|               WHITE|2184-03-06 13:42:00|2184-03-06 19:40:00|               FEVER|                   1|metavision|          MICU|         MICU|          52|         52|2184-03-25 05:33:27|2184-04-02 16:25:19| 8.4527|Pneumonia, organi...|Pneumonia, organi...|\n",
      "|     M|2109-09-28 00:00:00|2184-04-02 00:00:00|2184-04-02 00:00:00|2184-04-02 00:00:00|2184-03-06 17:02:00|2184-04-02 15:00:00|2184-04-02 15:00:00|EMERGENCY ROOM ADMIT|  Medicare|    ENGL|         CATHOLIC|       MARRIED|               WHITE|2184-03-06 13:42:00|2184-03-06 19:40:00|               FEVER|                   1|metavision|          MICU|         MICU|          52|         52|2184-03-25 05:33:27|2184-04-02 16:25:19| 8.4527|  Hypothyroidism NOS|Unspecified acqui...|\n",
      "|     F|2128-04-28 00:00:00|2161-11-25 00:00:00|2161-11-25 00:00:00|2161-11-25 00:00:00|2161-11-23 00:53:00|2161-11-25 10:20:00|2161-11-25 10:20:00|EMERGENCY ROOM ADMIT|   Private|    ENGL|         CATHOLIC|       MARRIED|               WHITE|2161-11-22 20:02:00|2161-11-23 02:01:00|URINARY TRACT INF...|                   1|metavision|          MICU|         MICU|          50|         50|2161-11-23 00:55:11|2161-11-25 13:29:43|  2.524|      Hydronephrosis|      Hydronephrosis|\n",
      "|     M|2096-02-28 00:00:00|2166-11-20 00:00:00|2166-11-20 00:00:00|2166-11-20 00:00:00|2166-10-14 23:16:00|2166-11-20 12:00:00|2166-11-20 12:00:00|EMERGENCY ROOM ADMIT|  Medicare|    ENGL|PROTESTANT QUAKER|        SINGLE|UNKNOWN/NOT SPECI...|2166-10-14 22:54:00|2166-10-14 23:25:00|ABDOMINAL AORTIC ...|                   1|metavision|          SICU|          CCU|          33|          7|2166-11-20 03:02:50|2166-11-21 01:26:07| 0.9328|Hy kid NOS w cr k...|Hypertensive chro...|\n",
      "|     M|2096-02-28 00:00:00|2166-11-20 00:00:00|2166-11-20 00:00:00|2166-11-20 00:00:00|2166-10-14 23:16:00|2166-11-20 12:00:00|2166-11-20 12:00:00|EMERGENCY ROOM ADMIT|  Medicare|    ENGL|PROTESTANT QUAKER|        SINGLE|UNKNOWN/NOT SPECI...|2166-10-14 22:54:00|2166-10-14 23:25:00|ABDOMINAL AORTIC ...|                   1|metavision|          CSRU|         CSRU|          12|         15|2166-10-24 21:30:09|2166-10-27 13:04:56| 2.6492|   Incisional hernia|Incisional hernia...|\n",
      "|     F|2111-05-16 00:00:00|2172-09-24 00:00:00|2172-09-24 00:00:00|2172-09-24 00:00:00|2172-09-08 13:44:00|2172-09-24 01:00:00|2172-09-24 01:00:00|CLINIC REFERRAL/P...|  Medicare|    ENGL|PROTESTANT QUAKER|       WIDOWED|               WHITE|2172-09-08 11:00:00|2172-09-08 15:24:00|      UPPER GI BLEED|                   1|metavision|         TSICU|         MICU|          14|         23|2172-09-08 13:44:55|2172-09-24 04:34:35|15.6178|Cardiac dysrhythm...|Other specified c...|\n",
      "|     M|2094-11-09 00:00:00|2170-01-05 00:00:00|2170-01-05 00:00:00|2170-01-05 00:00:00|2169-12-31 20:45:00|2170-01-05 18:55:00|2170-01-05 18:55:00|EMERGENCY ROOM ADMIT|  Medicare|    RUSS|           JEWISH|       MARRIED|               WHITE|2169-12-31 18:03:00|2169-12-31 23:26:00|           PNEUMONIA|                   1|metavision|          MICU|         MICU|          50|         50|2169-12-31 22:08:44|2170-01-01 12:53:45| 0.6146|Mental disor NEC ...|Other persistent ...|\n",
      "|     F|2115-05-12 00:00:00|2202-05-08 00:00:00|2202-05-08 00:00:00|2202-05-08 00:00:00|2202-04-02 11:26:00|2202-05-08 00:15:00|2202-05-08 00:15:00|EMERGENCY ROOM ADMIT|  Medicare|    ENGL|           JEWISH|       WIDOWED|               WHITE|2202-04-02 08:39:00|2202-04-02 12:30:00|          CHEST PAIN|                   1|   carevue|          CSRU|         CSRU|          15|         15|2202-04-03 19:44:40|2202-04-09 16:31:05| 5.8656|      Septicemia NEC|Other specified s...|\n",
      "+------+-------------------+-------------------+-------------------+-------------------+-------------------+-------------------+-------------------+--------------------+----------+--------+-----------------+--------------+--------------------+-------------------+-------------------+--------------------+--------------------+----------+--------------+-------------+------------+-----------+-------------------+-------------------+-------+--------------------+--------------------+\n",
      "only showing top 20 rows\n",
      "\n"
     ]
    },
    {
     "name": "stderr",
     "output_type": "stream",
     "text": [
      "                                                                                \r"
     ]
    }
   ],
   "execution_count": 15
  },
  {
   "metadata": {},
   "cell_type": "markdown",
   "source": "# Pre processing",
   "id": "10987a3efe7f09bf"
  },
  {
   "metadata": {},
   "cell_type": "code",
   "outputs": [],
   "execution_count": null,
   "source": [
    "from pyspark.sql.functions import col, year, month, dayofmonth, hour\n",
    "from pyspark.ml.feature import StringIndexer, OneHotEncoder, VectorAssembler\n",
    "from pyspark.ml import Pipeline\n",
    "\n",
    "label_column = \"LOS\"\n",
    "\n",
    "# Identify columns by data type\n",
    "timestamp_columns = [col_name for col_name, dtype in final_df.dtypes if dtype == 'timestamp']\n",
    "string_columns = [col_name for col_name, dtype in final_df.dtypes if dtype == 'string']\n",
    "\n",
    "# Process Timestamp columns - converting timestamps to multiple numerical columns\n",
    "for col_name in timestamp_columns:\n",
    "    final_df = final_df.withColumn(col_name + \"_year\", year(col(col_name))) \\\n",
    "                       .withColumn(col_name + \"_month\", month(col(col_name))) \\\n",
    "                       .withColumn(col_name + \"_day\", dayofmonth(col(col_name))) \\\n",
    "                       .withColumn(col_name + \"_hour\", hour(col(col_name)))\n",
    "\n",
    "# Drop original timestamp columns if no longer needed\n",
    "final_df = final_df.drop(*timestamp_columns)\n",
    "\n",
    "# Process String columns - using StringIndexer and optionally OneHotEncoder\n",
    "indexers = [StringIndexer(inputCol=c, outputCol=c+\"_index\") for c in string_columns]\n",
    "encoders = [OneHotEncoder(inputCol=c+\"_index\", outputCol=c+\"_vec\") for c in string_columns]\n",
    "\n",
    "# Combine stages and create the pipeline\n",
    "pipeline_stages = indexers + encoders\n",
    "pipeline = Pipeline(stages=pipeline_stages)\n",
    "\n",
    "# Fit and transform\n",
    "final_df = pipeline.fit(final_df).transform(final_df)\n",
    "\n",
    "# Optionally, remove original string columns if they are not needed\n",
    "final_df = final_df.drop(*string_columns)\n",
    "\n",
    "# Assemble all features into a single vector column\n",
    "assembled_features = [c for c in final_df.columns if c.endswith(\"_year\") or c.endswith(\"_month\") or c.endswith(\"_day\") or c.endswith(\"_hour\") or c.endswith(\"_vec\")]\n",
    "assembler = VectorAssembler(inputCols=assembled_features, outputCol=\"features\")\n",
    "assembled_df = assembler.transform(final_df)"
   ],
   "id": "3e6e9c9c4bf8114c"
  },
  {
   "metadata": {},
   "cell_type": "markdown",
   "source": "# Prediction",
   "id": "8f4a8adc7d56a64d"
  },
  {
   "metadata": {
    "ExecuteTime": {
     "end_time": "2024-06-05T10:45:59.154709Z",
     "start_time": "2024-06-05T10:45:39.592510Z"
    }
   },
   "cell_type": "code",
   "source": [
    "lr = LinearRegression(featuresCol='features', labelCol=label_column)\n",
    "lr_model = lr.fit(assembled_df)"
   ],
   "id": "e9107985d68b801f",
   "outputs": [
    {
     "name": "stderr",
     "output_type": "stream",
     "text": [
      "24/06/05 11:45:43 WARN DAGScheduler: Broadcasting large task binary with size 1117.1 KiB\n",
      "24/06/05 11:45:45 WARN DAGScheduler: Broadcasting large task binary with size 1118.3 KiB\n",
      "24/06/05 11:45:46 WARN InstanceBuilder: Failed to load implementation from:dev.ludovic.netlib.blas.JNIBLAS\n",
      "24/06/05 11:45:46 WARN DAGScheduler: Broadcasting large task binary with size 1117.6 KiB\n",
      "24/06/05 11:45:47 WARN DAGScheduler: Broadcasting large task binary with size 1118.8 KiB\n",
      "24/06/05 11:45:47 WARN DAGScheduler: Broadcasting large task binary with size 1117.6 KiB\n",
      "24/06/05 11:45:47 WARN DAGScheduler: Broadcasting large task binary with size 1118.8 KiB\n",
      "24/06/05 11:45:47 WARN DAGScheduler: Broadcasting large task binary with size 1117.6 KiB\n",
      "24/06/05 11:45:47 WARN DAGScheduler: Broadcasting large task binary with size 1118.8 KiB\n",
      "24/06/05 11:45:47 WARN DAGScheduler: Broadcasting large task binary with size 1117.6 KiB\n",
      "24/06/05 11:45:47 WARN DAGScheduler: Broadcasting large task binary with size 1118.8 KiB\n",
      "24/06/05 11:45:47 WARN DAGScheduler: Broadcasting large task binary with size 1117.6 KiB\n",
      "24/06/05 11:45:47 WARN DAGScheduler: Broadcasting large task binary with size 1118.8 KiB\n",
      "24/06/05 11:45:47 WARN DAGScheduler: Broadcasting large task binary with size 1117.6 KiB\n",
      "24/06/05 11:45:47 WARN DAGScheduler: Broadcasting large task binary with size 1118.8 KiB\n",
      "24/06/05 11:45:47 WARN DAGScheduler: Broadcasting large task binary with size 1117.6 KiB\n",
      "24/06/05 11:45:47 WARN DAGScheduler: Broadcasting large task binary with size 1118.8 KiB\n",
      "24/06/05 11:45:47 WARN DAGScheduler: Broadcasting large task binary with size 1117.6 KiB\n",
      "24/06/05 11:45:47 WARN DAGScheduler: Broadcasting large task binary with size 1118.8 KiB\n",
      "24/06/05 11:45:47 WARN DAGScheduler: Broadcasting large task binary with size 1117.6 KiB\n",
      "24/06/05 11:45:47 WARN DAGScheduler: Broadcasting large task binary with size 1118.8 KiB\n",
      "24/06/05 11:45:48 WARN DAGScheduler: Broadcasting large task binary with size 1117.6 KiB\n",
      "24/06/05 11:45:48 WARN DAGScheduler: Broadcasting large task binary with size 1118.8 KiB\n",
      "24/06/05 11:45:48 WARN DAGScheduler: Broadcasting large task binary with size 1117.6 KiB\n",
      "24/06/05 11:45:48 WARN DAGScheduler: Broadcasting large task binary with size 1118.8 KiB\n",
      "24/06/05 11:45:48 WARN DAGScheduler: Broadcasting large task binary with size 1117.6 KiB\n",
      "24/06/05 11:45:48 WARN DAGScheduler: Broadcasting large task binary with size 1118.8 KiB\n",
      "24/06/05 11:45:48 WARN DAGScheduler: Broadcasting large task binary with size 1117.6 KiB\n",
      "24/06/05 11:45:48 WARN DAGScheduler: Broadcasting large task binary with size 1118.8 KiB\n",
      "24/06/05 11:45:48 WARN DAGScheduler: Broadcasting large task binary with size 1117.6 KiB\n",
      "24/06/05 11:45:48 WARN DAGScheduler: Broadcasting large task binary with size 1118.8 KiB\n",
      "24/06/05 11:45:48 WARN DAGScheduler: Broadcasting large task binary with size 1117.6 KiB\n",
      "24/06/05 11:45:48 WARN DAGScheduler: Broadcasting large task binary with size 1118.8 KiB\n",
      "24/06/05 11:45:48 WARN DAGScheduler: Broadcasting large task binary with size 1117.6 KiB\n",
      "24/06/05 11:45:48 WARN DAGScheduler: Broadcasting large task binary with size 1118.8 KiB\n",
      "24/06/05 11:45:48 WARN DAGScheduler: Broadcasting large task binary with size 1117.6 KiB\n",
      "24/06/05 11:45:48 WARN DAGScheduler: Broadcasting large task binary with size 1118.8 KiB\n",
      "24/06/05 11:45:48 WARN DAGScheduler: Broadcasting large task binary with size 1117.6 KiB\n",
      "24/06/05 11:45:48 WARN DAGScheduler: Broadcasting large task binary with size 1118.8 KiB\n",
      "24/06/05 11:45:48 WARN DAGScheduler: Broadcasting large task binary with size 1117.6 KiB\n",
      "24/06/05 11:45:48 WARN DAGScheduler: Broadcasting large task binary with size 1118.8 KiB\n",
      "24/06/05 11:45:49 WARN DAGScheduler: Broadcasting large task binary with size 1117.6 KiB\n",
      "24/06/05 11:45:49 WARN DAGScheduler: Broadcasting large task binary with size 1118.8 KiB\n",
      "24/06/05 11:45:49 WARN DAGScheduler: Broadcasting large task binary with size 1117.6 KiB\n",
      "24/06/05 11:45:49 WARN DAGScheduler: Broadcasting large task binary with size 1118.8 KiB\n",
      "24/06/05 11:45:49 WARN DAGScheduler: Broadcasting large task binary with size 1117.6 KiB\n",
      "24/06/05 11:45:49 WARN DAGScheduler: Broadcasting large task binary with size 1118.8 KiB\n",
      "24/06/05 11:45:49 WARN DAGScheduler: Broadcasting large task binary with size 1117.6 KiB\n",
      "24/06/05 11:45:49 WARN DAGScheduler: Broadcasting large task binary with size 1118.8 KiB\n",
      "24/06/05 11:45:49 WARN DAGScheduler: Broadcasting large task binary with size 1117.6 KiB\n",
      "24/06/05 11:45:49 WARN DAGScheduler: Broadcasting large task binary with size 1118.8 KiB\n",
      "24/06/05 11:45:49 WARN DAGScheduler: Broadcasting large task binary with size 1117.6 KiB\n",
      "24/06/05 11:45:49 WARN DAGScheduler: Broadcasting large task binary with size 1118.8 KiB\n",
      "24/06/05 11:45:49 WARN DAGScheduler: Broadcasting large task binary with size 1117.6 KiB\n",
      "24/06/05 11:45:49 WARN DAGScheduler: Broadcasting large task binary with size 1118.8 KiB\n",
      "24/06/05 11:45:49 WARN DAGScheduler: Broadcasting large task binary with size 1117.6 KiB\n",
      "24/06/05 11:45:49 WARN DAGScheduler: Broadcasting large task binary with size 1118.8 KiB\n",
      "24/06/05 11:45:49 WARN DAGScheduler: Broadcasting large task binary with size 1117.6 KiB\n",
      "24/06/05 11:45:49 WARN DAGScheduler: Broadcasting large task binary with size 1118.8 KiB\n",
      "24/06/05 11:45:49 WARN DAGScheduler: Broadcasting large task binary with size 1117.6 KiB\n",
      "24/06/05 11:45:49 WARN DAGScheduler: Broadcasting large task binary with size 1118.8 KiB\n",
      "24/06/05 11:45:49 WARN DAGScheduler: Broadcasting large task binary with size 1117.6 KiB\n",
      "24/06/05 11:45:50 WARN DAGScheduler: Broadcasting large task binary with size 1118.8 KiB\n",
      "24/06/05 11:45:50 WARN DAGScheduler: Broadcasting large task binary with size 1117.6 KiB\n",
      "24/06/05 11:45:50 WARN DAGScheduler: Broadcasting large task binary with size 1118.8 KiB\n",
      "24/06/05 11:45:50 WARN DAGScheduler: Broadcasting large task binary with size 1117.6 KiB\n",
      "24/06/05 11:45:50 WARN DAGScheduler: Broadcasting large task binary with size 1118.8 KiB\n",
      "24/06/05 11:45:50 WARN DAGScheduler: Broadcasting large task binary with size 1117.6 KiB\n",
      "24/06/05 11:45:50 WARN DAGScheduler: Broadcasting large task binary with size 1118.8 KiB\n",
      "24/06/05 11:45:50 WARN DAGScheduler: Broadcasting large task binary with size 1117.6 KiB\n",
      "24/06/05 11:45:50 WARN DAGScheduler: Broadcasting large task binary with size 1118.8 KiB\n",
      "24/06/05 11:45:50 WARN DAGScheduler: Broadcasting large task binary with size 1117.6 KiB\n",
      "24/06/05 11:45:50 WARN DAGScheduler: Broadcasting large task binary with size 1118.8 KiB\n",
      "24/06/05 11:45:50 WARN DAGScheduler: Broadcasting large task binary with size 1117.6 KiB\n",
      "24/06/05 11:45:50 WARN DAGScheduler: Broadcasting large task binary with size 1118.8 KiB\n",
      "24/06/05 11:45:50 WARN DAGScheduler: Broadcasting large task binary with size 1117.6 KiB\n",
      "24/06/05 11:45:50 WARN DAGScheduler: Broadcasting large task binary with size 1118.8 KiB\n",
      "24/06/05 11:45:50 WARN DAGScheduler: Broadcasting large task binary with size 1117.6 KiB\n",
      "24/06/05 11:45:50 WARN DAGScheduler: Broadcasting large task binary with size 1118.8 KiB\n",
      "24/06/05 11:45:50 WARN DAGScheduler: Broadcasting large task binary with size 1117.6 KiB\n",
      "24/06/05 11:45:50 WARN DAGScheduler: Broadcasting large task binary with size 1118.8 KiB\n",
      "24/06/05 11:45:50 WARN DAGScheduler: Broadcasting large task binary with size 1117.6 KiB\n",
      "24/06/05 11:45:50 WARN DAGScheduler: Broadcasting large task binary with size 1118.8 KiB\n",
      "24/06/05 11:45:51 WARN DAGScheduler: Broadcasting large task binary with size 1117.6 KiB\n",
      "24/06/05 11:45:51 WARN DAGScheduler: Broadcasting large task binary with size 1118.8 KiB\n",
      "24/06/05 11:45:51 WARN DAGScheduler: Broadcasting large task binary with size 1117.6 KiB\n",
      "24/06/05 11:45:51 WARN DAGScheduler: Broadcasting large task binary with size 1118.8 KiB\n",
      "24/06/05 11:45:51 WARN DAGScheduler: Broadcasting large task binary with size 1117.6 KiB\n",
      "24/06/05 11:45:51 WARN DAGScheduler: Broadcasting large task binary with size 1118.8 KiB\n",
      "24/06/05 11:45:51 WARN DAGScheduler: Broadcasting large task binary with size 1117.6 KiB\n",
      "24/06/05 11:45:51 WARN DAGScheduler: Broadcasting large task binary with size 1118.8 KiB\n",
      "24/06/05 11:45:51 WARN DAGScheduler: Broadcasting large task binary with size 1117.6 KiB\n",
      "24/06/05 11:45:51 WARN DAGScheduler: Broadcasting large task binary with size 1118.8 KiB\n",
      "24/06/05 11:45:51 WARN DAGScheduler: Broadcasting large task binary with size 1117.6 KiB\n",
      "24/06/05 11:45:51 WARN DAGScheduler: Broadcasting large task binary with size 1118.8 KiB\n",
      "24/06/05 11:45:51 WARN DAGScheduler: Broadcasting large task binary with size 1117.6 KiB\n",
      "24/06/05 11:45:51 WARN DAGScheduler: Broadcasting large task binary with size 1118.8 KiB\n",
      "24/06/05 11:45:51 WARN DAGScheduler: Broadcasting large task binary with size 1117.6 KiB\n",
      "24/06/05 11:45:51 WARN DAGScheduler: Broadcasting large task binary with size 1118.8 KiB\n",
      "24/06/05 11:45:51 WARN DAGScheduler: Broadcasting large task binary with size 1117.6 KiB\n",
      "24/06/05 11:45:51 WARN DAGScheduler: Broadcasting large task binary with size 1118.8 KiB\n",
      "24/06/05 11:45:51 WARN DAGScheduler: Broadcasting large task binary with size 1117.6 KiB\n",
      "24/06/05 11:45:51 WARN DAGScheduler: Broadcasting large task binary with size 1118.8 KiB\n",
      "24/06/05 11:45:51 WARN DAGScheduler: Broadcasting large task binary with size 1117.6 KiB\n",
      "24/06/05 11:45:52 WARN DAGScheduler: Broadcasting large task binary with size 1118.8 KiB\n",
      "24/06/05 11:45:52 WARN DAGScheduler: Broadcasting large task binary with size 1117.6 KiB\n",
      "24/06/05 11:45:52 WARN DAGScheduler: Broadcasting large task binary with size 1118.8 KiB\n",
      "24/06/05 11:45:52 WARN DAGScheduler: Broadcasting large task binary with size 1117.6 KiB\n",
      "24/06/05 11:45:52 WARN DAGScheduler: Broadcasting large task binary with size 1118.8 KiB\n",
      "24/06/05 11:45:52 WARN DAGScheduler: Broadcasting large task binary with size 1117.6 KiB\n",
      "24/06/05 11:45:52 WARN DAGScheduler: Broadcasting large task binary with size 1118.8 KiB\n",
      "24/06/05 11:45:52 WARN DAGScheduler: Broadcasting large task binary with size 1117.6 KiB\n",
      "24/06/05 11:45:52 WARN DAGScheduler: Broadcasting large task binary with size 1118.8 KiB\n",
      "24/06/05 11:45:52 WARN DAGScheduler: Broadcasting large task binary with size 1117.6 KiB\n",
      "24/06/05 11:45:52 WARN DAGScheduler: Broadcasting large task binary with size 1118.8 KiB\n",
      "24/06/05 11:45:52 WARN DAGScheduler: Broadcasting large task binary with size 1117.6 KiB\n",
      "24/06/05 11:45:52 WARN DAGScheduler: Broadcasting large task binary with size 1118.8 KiB\n",
      "24/06/05 11:45:52 WARN DAGScheduler: Broadcasting large task binary with size 1117.6 KiB\n",
      "24/06/05 11:45:52 WARN DAGScheduler: Broadcasting large task binary with size 1118.8 KiB\n",
      "24/06/05 11:45:52 WARN DAGScheduler: Broadcasting large task binary with size 1117.6 KiB\n",
      "24/06/05 11:45:52 WARN DAGScheduler: Broadcasting large task binary with size 1118.8 KiB\n",
      "24/06/05 11:45:52 WARN DAGScheduler: Broadcasting large task binary with size 1117.6 KiB\n",
      "24/06/05 11:45:52 WARN DAGScheduler: Broadcasting large task binary with size 1118.8 KiB\n",
      "24/06/05 11:45:52 WARN DAGScheduler: Broadcasting large task binary with size 1117.6 KiB\n",
      "24/06/05 11:45:52 WARN DAGScheduler: Broadcasting large task binary with size 1118.8 KiB\n",
      "24/06/05 11:45:52 WARN DAGScheduler: Broadcasting large task binary with size 1117.6 KiB\n",
      "24/06/05 11:45:52 WARN DAGScheduler: Broadcasting large task binary with size 1118.8 KiB\n",
      "24/06/05 11:45:53 WARN DAGScheduler: Broadcasting large task binary with size 1117.6 KiB\n",
      "24/06/05 11:45:53 WARN DAGScheduler: Broadcasting large task binary with size 1118.8 KiB\n",
      "24/06/05 11:45:53 WARN DAGScheduler: Broadcasting large task binary with size 1117.6 KiB\n",
      "24/06/05 11:45:53 WARN DAGScheduler: Broadcasting large task binary with size 1118.8 KiB\n",
      "24/06/05 11:45:53 WARN DAGScheduler: Broadcasting large task binary with size 1117.6 KiB\n",
      "24/06/05 11:45:53 WARN DAGScheduler: Broadcasting large task binary with size 1118.8 KiB\n",
      "24/06/05 11:45:53 WARN DAGScheduler: Broadcasting large task binary with size 1117.6 KiB\n",
      "24/06/05 11:45:53 WARN DAGScheduler: Broadcasting large task binary with size 1118.8 KiB\n",
      "24/06/05 11:45:53 WARN DAGScheduler: Broadcasting large task binary with size 1117.6 KiB\n",
      "24/06/05 11:45:53 WARN DAGScheduler: Broadcasting large task binary with size 1118.8 KiB\n",
      "24/06/05 11:45:53 WARN DAGScheduler: Broadcasting large task binary with size 1117.6 KiB\n",
      "24/06/05 11:45:53 WARN DAGScheduler: Broadcasting large task binary with size 1118.8 KiB\n",
      "24/06/05 11:45:53 WARN DAGScheduler: Broadcasting large task binary with size 1117.6 KiB\n",
      "24/06/05 11:45:53 WARN DAGScheduler: Broadcasting large task binary with size 1118.8 KiB\n",
      "24/06/05 11:45:53 WARN DAGScheduler: Broadcasting large task binary with size 1117.6 KiB\n",
      "24/06/05 11:45:53 WARN DAGScheduler: Broadcasting large task binary with size 1118.8 KiB\n",
      "24/06/05 11:45:53 WARN DAGScheduler: Broadcasting large task binary with size 1117.6 KiB\n",
      "24/06/05 11:45:53 WARN DAGScheduler: Broadcasting large task binary with size 1118.8 KiB\n",
      "24/06/05 11:45:53 WARN DAGScheduler: Broadcasting large task binary with size 1117.6 KiB\n",
      "24/06/05 11:45:53 WARN DAGScheduler: Broadcasting large task binary with size 1118.8 KiB\n",
      "24/06/05 11:45:53 WARN DAGScheduler: Broadcasting large task binary with size 1117.6 KiB\n",
      "24/06/05 11:45:53 WARN DAGScheduler: Broadcasting large task binary with size 1118.8 KiB\n",
      "24/06/05 11:45:53 WARN DAGScheduler: Broadcasting large task binary with size 1117.6 KiB\n",
      "24/06/05 11:45:53 WARN DAGScheduler: Broadcasting large task binary with size 1118.8 KiB\n",
      "24/06/05 11:45:53 WARN DAGScheduler: Broadcasting large task binary with size 1117.6 KiB\n",
      "24/06/05 11:45:54 WARN DAGScheduler: Broadcasting large task binary with size 1118.8 KiB\n",
      "24/06/05 11:45:54 WARN DAGScheduler: Broadcasting large task binary with size 1117.6 KiB\n",
      "24/06/05 11:45:54 WARN DAGScheduler: Broadcasting large task binary with size 1118.8 KiB\n",
      "24/06/05 11:45:54 WARN DAGScheduler: Broadcasting large task binary with size 1117.6 KiB\n",
      "24/06/05 11:45:54 WARN DAGScheduler: Broadcasting large task binary with size 1118.8 KiB\n",
      "24/06/05 11:45:54 WARN DAGScheduler: Broadcasting large task binary with size 1117.6 KiB\n",
      "24/06/05 11:45:54 WARN DAGScheduler: Broadcasting large task binary with size 1118.8 KiB\n",
      "24/06/05 11:45:54 WARN DAGScheduler: Broadcasting large task binary with size 1117.6 KiB\n",
      "24/06/05 11:45:54 WARN DAGScheduler: Broadcasting large task binary with size 1118.8 KiB\n",
      "24/06/05 11:45:54 WARN DAGScheduler: Broadcasting large task binary with size 1117.6 KiB\n",
      "24/06/05 11:45:54 WARN DAGScheduler: Broadcasting large task binary with size 1118.8 KiB\n",
      "24/06/05 11:45:54 WARN DAGScheduler: Broadcasting large task binary with size 1117.6 KiB\n",
      "24/06/05 11:45:54 WARN DAGScheduler: Broadcasting large task binary with size 1118.8 KiB\n",
      "24/06/05 11:45:54 WARN DAGScheduler: Broadcasting large task binary with size 1117.6 KiB\n",
      "24/06/05 11:45:54 WARN DAGScheduler: Broadcasting large task binary with size 1118.8 KiB\n",
      "24/06/05 11:45:54 WARN DAGScheduler: Broadcasting large task binary with size 1117.6 KiB\n",
      "24/06/05 11:45:54 WARN DAGScheduler: Broadcasting large task binary with size 1118.8 KiB\n",
      "24/06/05 11:45:54 WARN DAGScheduler: Broadcasting large task binary with size 1117.6 KiB\n",
      "24/06/05 11:45:54 WARN DAGScheduler: Broadcasting large task binary with size 1118.8 KiB\n",
      "24/06/05 11:45:54 WARN DAGScheduler: Broadcasting large task binary with size 1117.6 KiB\n",
      "24/06/05 11:45:54 WARN DAGScheduler: Broadcasting large task binary with size 1118.8 KiB\n",
      "24/06/05 11:45:54 WARN DAGScheduler: Broadcasting large task binary with size 1117.6 KiB\n",
      "24/06/05 11:45:54 WARN DAGScheduler: Broadcasting large task binary with size 1118.8 KiB\n",
      "24/06/05 11:45:54 WARN DAGScheduler: Broadcasting large task binary with size 1117.6 KiB\n",
      "24/06/05 11:45:54 WARN DAGScheduler: Broadcasting large task binary with size 1118.8 KiB\n",
      "24/06/05 11:45:54 WARN DAGScheduler: Broadcasting large task binary with size 1117.6 KiB\n",
      "24/06/05 11:45:55 WARN DAGScheduler: Broadcasting large task binary with size 1118.8 KiB\n",
      "24/06/05 11:45:55 WARN DAGScheduler: Broadcasting large task binary with size 1117.6 KiB\n",
      "24/06/05 11:45:55 WARN DAGScheduler: Broadcasting large task binary with size 1118.8 KiB\n",
      "24/06/05 11:45:55 WARN DAGScheduler: Broadcasting large task binary with size 1117.6 KiB\n",
      "24/06/05 11:45:55 WARN DAGScheduler: Broadcasting large task binary with size 1118.8 KiB\n",
      "24/06/05 11:45:55 WARN DAGScheduler: Broadcasting large task binary with size 1117.6 KiB\n",
      "24/06/05 11:45:55 WARN DAGScheduler: Broadcasting large task binary with size 1118.8 KiB\n",
      "24/06/05 11:45:55 WARN DAGScheduler: Broadcasting large task binary with size 1117.6 KiB\n",
      "24/06/05 11:45:55 WARN DAGScheduler: Broadcasting large task binary with size 1118.8 KiB\n",
      "24/06/05 11:45:55 WARN DAGScheduler: Broadcasting large task binary with size 1117.6 KiB\n",
      "24/06/05 11:45:55 WARN DAGScheduler: Broadcasting large task binary with size 1118.8 KiB\n",
      "24/06/05 11:45:55 WARN DAGScheduler: Broadcasting large task binary with size 1117.6 KiB\n",
      "24/06/05 11:45:55 WARN DAGScheduler: Broadcasting large task binary with size 1118.8 KiB\n",
      "24/06/05 11:45:55 WARN DAGScheduler: Broadcasting large task binary with size 1117.6 KiB\n",
      "24/06/05 11:45:55 WARN DAGScheduler: Broadcasting large task binary with size 1118.8 KiB\n",
      "24/06/05 11:45:55 WARN DAGScheduler: Broadcasting large task binary with size 1117.6 KiB\n",
      "24/06/05 11:45:55 WARN DAGScheduler: Broadcasting large task binary with size 1118.8 KiB\n",
      "24/06/05 11:45:55 WARN DAGScheduler: Broadcasting large task binary with size 1117.6 KiB\n",
      "24/06/05 11:45:55 WARN DAGScheduler: Broadcasting large task binary with size 1118.8 KiB\n",
      "24/06/05 11:45:55 WARN DAGScheduler: Broadcasting large task binary with size 1117.6 KiB\n",
      "24/06/05 11:45:55 WARN DAGScheduler: Broadcasting large task binary with size 1118.8 KiB\n",
      "24/06/05 11:45:55 WARN DAGScheduler: Broadcasting large task binary with size 1117.6 KiB\n",
      "24/06/05 11:45:55 WARN DAGScheduler: Broadcasting large task binary with size 1118.8 KiB\n",
      "24/06/05 11:45:55 WARN DAGScheduler: Broadcasting large task binary with size 1117.6 KiB\n",
      "24/06/05 11:45:55 WARN DAGScheduler: Broadcasting large task binary with size 1118.8 KiB\n",
      "24/06/05 11:45:56 WARN DAGScheduler: Broadcasting large task binary with size 1117.6 KiB\n",
      "24/06/05 11:45:56 WARN DAGScheduler: Broadcasting large task binary with size 1118.8 KiB\n",
      "24/06/05 11:45:56 WARN DAGScheduler: Broadcasting large task binary with size 1117.6 KiB\n",
      "24/06/05 11:45:56 WARN DAGScheduler: Broadcasting large task binary with size 1118.8 KiB\n",
      "24/06/05 11:45:56 WARN DAGScheduler: Broadcasting large task binary with size 1117.6 KiB\n",
      "24/06/05 11:45:56 WARN DAGScheduler: Broadcasting large task binary with size 1118.8 KiB\n",
      "24/06/05 11:45:56 WARN DAGScheduler: Broadcasting large task binary with size 1117.6 KiB\n",
      "24/06/05 11:45:56 WARN DAGScheduler: Broadcasting large task binary with size 1118.8 KiB\n",
      "24/06/05 11:45:56 WARN DAGScheduler: Broadcasting large task binary with size 1117.6 KiB\n",
      "24/06/05 11:45:56 WARN DAGScheduler: Broadcasting large task binary with size 1118.8 KiB\n",
      "24/06/05 11:45:56 WARN DAGScheduler: Broadcasting large task binary with size 1117.6 KiB\n",
      "24/06/05 11:45:56 WARN DAGScheduler: Broadcasting large task binary with size 1118.8 KiB\n",
      "24/06/05 11:45:56 WARN DAGScheduler: Broadcasting large task binary with size 1117.6 KiB\n",
      "24/06/05 11:45:56 WARN DAGScheduler: Broadcasting large task binary with size 1118.8 KiB\n",
      "24/06/05 11:45:56 WARN DAGScheduler: Broadcasting large task binary with size 1117.6 KiB\n",
      "24/06/05 11:45:56 WARN DAGScheduler: Broadcasting large task binary with size 1118.8 KiB\n",
      "24/06/05 11:45:58 WARN DAGScheduler: Broadcasting large task binary with size 1146.8 KiB\n",
      "24/06/05 11:45:59 WARN DAGScheduler: Broadcasting large task binary with size 1147.9 KiB\n",
      "                                                                                \r"
     ]
    }
   ],
   "execution_count": 17
  },
  {
   "metadata": {
    "ExecuteTime": {
     "end_time": "2024-06-05T10:46:11.556695Z",
     "start_time": "2024-06-05T10:45:59.155891Z"
    }
   },
   "cell_type": "code",
   "source": [
    "# Define and fit the Random Forest model\n",
    "rf = RandomForestRegressor(featuresCol='features', labelCol=label_column)\n",
    "rf_model = rf.fit(assembled_df)"
   ],
   "id": "efe30521f6878e4",
   "outputs": [
    {
     "name": "stderr",
     "output_type": "stream",
     "text": [
      "24/06/05 11:46:00 WARN DAGScheduler: Broadcasting large task binary with size 1114.2 KiB\n",
      "24/06/05 11:46:00 WARN DAGScheduler: Broadcasting large task binary with size 1114.3 KiB\n",
      "24/06/05 11:46:01 WARN DAGScheduler: Broadcasting large task binary with size 1118.5 KiB\n",
      "24/06/05 11:46:01 WARN DAGScheduler: Broadcasting large task binary with size 1406.9 KiB\n",
      "24/06/05 11:46:02 WARN MemoryStore: Not enough space to cache rdd_3687_2 in memory! (computed 44.6 MiB so far)\n",
      "24/06/05 11:46:02 WARN MemoryStore: Not enough space to cache rdd_3687_3 in memory! (computed 44.6 MiB so far)\n",
      "24/06/05 11:46:02 WARN MemoryStore: Not enough space to cache rdd_3687_1 in memory! (computed 44.6 MiB so far)\n",
      "24/06/05 11:46:02 WARN MemoryStore: Not enough space to cache rdd_3687_4 in memory! (computed 44.6 MiB so far)\n",
      "24/06/05 11:46:02 WARN MemoryStore: Not enough space to cache rdd_3687_0 in memory! (computed 44.6 MiB so far)\n",
      "24/06/05 11:46:02 WARN MemoryStore: Not enough space to cache rdd_3687_5 in memory! (computed 44.6 MiB so far)\n",
      "24/06/05 11:46:02 WARN BlockManager: Persisting block rdd_3687_2 to disk instead.\n",
      "24/06/05 11:46:02 WARN BlockManager: Persisting block rdd_3687_0 to disk instead.\n",
      "24/06/05 11:46:02 WARN BlockManager: Persisting block rdd_3687_4 to disk instead.\n",
      "24/06/05 11:46:02 WARN BlockManager: Persisting block rdd_3687_1 to disk instead.\n",
      "24/06/05 11:46:02 WARN BlockManager: Persisting block rdd_3687_5 to disk instead.\n",
      "24/06/05 11:46:02 WARN BlockManager: Persisting block rdd_3687_3 to disk instead.\n",
      "24/06/05 11:46:03 WARN MemoryStore: Not enough space to cache rdd_3687_2 in memory! (computed 29.1 MiB so far)\n",
      "24/06/05 11:46:03 WARN MemoryStore: Not enough space to cache rdd_3687_4 in memory! (computed 68.6 MiB so far)\n",
      "24/06/05 11:46:03 WARN MemoryStore: Not enough space to cache rdd_3687_1 in memory! (computed 44.6 MiB so far)\n",
      "24/06/05 11:46:03 WARN MemoryStore: Not enough space to cache rdd_3687_3 in memory! (computed 29.1 MiB so far)\n",
      "24/06/05 11:46:03 WARN MemoryStore: Not enough space to cache rdd_3687_0 in memory! (computed 68.6 MiB so far)\n",
      "24/06/05 11:46:03 WARN MemoryStore: Not enough space to cache rdd_3687_5 in memory! (computed 8.5 MiB so far)\n",
      "24/06/05 11:46:04 WARN DAGScheduler: Broadcasting large task binary with size 1551.9 KiB\n",
      "24/06/05 11:46:04 WARN MemoryStore: Not enough space to cache rdd_3687_0 in memory! (computed 29.1 MiB so far)\n",
      "24/06/05 11:46:04 WARN MemoryStore: Not enough space to cache rdd_3687_4 in memory! (computed 44.6 MiB so far)\n",
      "24/06/05 11:46:04 WARN MemoryStore: Not enough space to cache rdd_3687_3 in memory! (computed 29.1 MiB so far)\n",
      "24/06/05 11:46:05 WARN MemoryStore: Not enough space to cache rdd_3687_2 in memory! (computed 44.6 MiB so far)\n",
      "24/06/05 11:46:05 WARN MemoryStore: Not enough space to cache rdd_3687_5 in memory! (computed 44.6 MiB so far)\n",
      "24/06/05 11:46:05 WARN MemoryStore: Not enough space to cache rdd_3687_1 in memory! (computed 44.6 MiB so far)\n",
      "24/06/05 11:46:06 WARN DAGScheduler: Broadcasting large task binary with size 1693.1 KiB\n",
      "24/06/05 11:46:06 WARN MemoryStore: Not enough space to cache rdd_3687_5 in memory! (computed 44.6 MiB so far)\n",
      "24/06/05 11:46:06 WARN MemoryStore: Not enough space to cache rdd_3687_2 in memory! (computed 29.1 MiB so far)\n",
      "24/06/05 11:46:06 WARN MemoryStore: Not enough space to cache rdd_3687_0 in memory! (computed 44.6 MiB so far)\n",
      "24/06/05 11:46:06 WARN MemoryStore: Not enough space to cache rdd_3687_4 in memory! (computed 44.6 MiB so far)\n",
      "24/06/05 11:46:06 WARN MemoryStore: Not enough space to cache rdd_3687_1 in memory! (computed 29.1 MiB so far)\n",
      "24/06/05 11:46:06 WARN MemoryStore: Not enough space to cache rdd_3687_3 in memory! (computed 44.6 MiB so far)\n",
      "24/06/05 11:46:08 WARN DAGScheduler: Broadcasting large task binary with size 1823.2 KiB\n",
      "24/06/05 11:46:08 WARN MemoryStore: Not enough space to cache rdd_3687_5 in memory! (computed 29.1 MiB so far)\n",
      "24/06/05 11:46:08 WARN MemoryStore: Not enough space to cache rdd_3687_3 in memory! (computed 29.1 MiB so far)\n",
      "24/06/05 11:46:08 WARN MemoryStore: Not enough space to cache rdd_3687_4 in memory! (computed 44.6 MiB so far)\n",
      "24/06/05 11:46:08 WARN MemoryStore: Not enough space to cache rdd_3687_0 in memory! (computed 44.6 MiB so far)\n",
      "24/06/05 11:46:08 WARN MemoryStore: Not enough space to cache rdd_3687_2 in memory! (computed 29.1 MiB so far)\n",
      "24/06/05 11:46:08 WARN MemoryStore: Not enough space to cache rdd_3687_1 in memory! (computed 68.6 MiB so far)\n",
      "24/06/05 11:46:09 WARN DAGScheduler: Broadcasting large task binary with size 2.0 MiB\n",
      "24/06/05 11:46:09 WARN MemoryStore: Not enough space to cache rdd_3687_5 in memory! (computed 44.6 MiB so far)\n",
      "24/06/05 11:46:09 WARN MemoryStore: Not enough space to cache rdd_3687_3 in memory! (computed 44.6 MiB so far)\n",
      "24/06/05 11:46:09 WARN MemoryStore: Not enough space to cache rdd_3687_4 in memory! (computed 44.6 MiB so far)\n",
      "24/06/05 11:46:09 WARN MemoryStore: Not enough space to cache rdd_3687_2 in memory! (computed 44.6 MiB so far)\n",
      "24/06/05 11:46:09 WARN MemoryStore: Not enough space to cache rdd_3687_0 in memory! (computed 29.1 MiB so far)\n",
      "24/06/05 11:46:09 WARN MemoryStore: Not enough space to cache rdd_3687_1 in memory! (computed 29.1 MiB so far)\n",
      "                                                                                \r"
     ]
    }
   ],
   "execution_count": 18
  },
  {
   "metadata": {
    "ExecuteTime": {
     "end_time": "2024-06-05T10:46:11.714387Z",
     "start_time": "2024-06-05T10:46:11.558056Z"
    }
   },
   "cell_type": "code",
   "source": [
    "# Evaluate models\n",
    "evaluator = RegressionEvaluator(labelCol=label_column, predictionCol=\"prediction\", metricName=\"rmse\")\n",
    "\n",
    "# Generate predictions\n",
    "lr_predictions = lr_model.transform(assembled_df)\n",
    "rf_predictions = rf_model.transform(assembled_df)"
   ],
   "id": "1394433698010b29",
   "outputs": [
    {
     "name": "stderr",
     "output_type": "stream",
     "text": [
      "WARNING: An illegal reflective access operation has occurred\n",
      "WARNING: Illegal reflective access by org.apache.spark.util.SizeEstimator$ (file:/opt/homebrew/Caskroom/miniconda/base/envs/bigdata/lib/python3.11/site-packages/pyspark/jars/spark-core_2.12-3.5.1.jar) to field java.nio.charset.Charset.name\n",
      "WARNING: Please consider reporting this to the maintainers of org.apache.spark.util.SizeEstimator$\n",
      "WARNING: Use --illegal-access=warn to enable warnings of further illegal reflective access operations\n",
      "WARNING: All illegal access operations will be denied in a future release\n"
     ]
    }
   ],
   "execution_count": 19
  },
  {
   "metadata": {
    "ExecuteTime": {
     "end_time": "2024-06-05T10:54:10.227345Z",
     "start_time": "2024-06-05T10:54:05.388568Z"
    }
   },
   "cell_type": "code",
   "source": [
    "# Redefine the calculate_mape function to use the correct abs function\n",
    "def calculate_accuracy(predictions, label_column):\n",
    "    # Calculate the Mean Absolute Error (MAE)\n",
    "    mae = predictions.withColumn('abs_error', abs(col(label_column) - col(\"prediction\"))) \\\n",
    "                     .select(avg('abs_error')).first()[0]\n",
    "\n",
    "    # Convert MAE to a pseudo-accuracy metric (assuming MAE is less than 100)\n",
    "    accuracy = 100 - mae  # This assumes that lower error corresponds to higher accuracy\n",
    "\n",
    "    return accuracy\n",
    "\n",
    "# Assume you have label_column set and predictions DataFrames ready\n",
    "lr_mape = calculate_accuracy(lr_predictions, label_column)\n",
    "rf_mape = calculate_accuracy(rf_predictions, label_column)\n",
    "\n",
    "# Print the results\n",
    "print(\"Mean Absolute Percentage Error (MAPE) on Linear Regression =\", lr_mape)\n",
    "print(\"Mean Absolute Percentage Error (MAPE) on Random Forest Regression =\", rf_mape)"
   ],
   "id": "24e3c09c5fea3106",
   "outputs": [
    {
     "name": "stderr",
     "output_type": "stream",
     "text": [
      "24/06/05 11:54:07 WARN DAGScheduler: Broadcasting large task binary with size 1148.9 KiB\n",
      "24/06/05 11:54:09 WARN DAGScheduler: Broadcasting large task binary with size 1103.7 KiB\n"
     ]
    },
    {
     "name": "stdout",
     "output_type": "stream",
     "text": [
      "Mean Absolute Percentage Error (MAPE) on Linear Regression = 96.53916278576196\n",
      "Mean Absolute Percentage Error (MAPE) on Random Forest Regression = 95.55042571391218\n"
     ]
    },
    {
     "name": "stderr",
     "output_type": "stream",
     "text": [
      "                                                                                \r"
     ]
    }
   ],
   "execution_count": 26
  },
  {
   "metadata": {},
   "cell_type": "code",
   "source": "",
   "id": "d457c6d13e49c4d6",
   "outputs": [],
   "execution_count": null
  }
 ],
 "metadata": {
  "kernelspec": {
   "display_name": "Python 3",
   "language": "python",
   "name": "python3"
  },
  "language_info": {
   "codemirror_mode": {
    "name": "ipython",
    "version": 2
   },
   "file_extension": ".py",
   "mimetype": "text/x-python",
   "name": "python",
   "nbconvert_exporter": "python",
   "pygments_lexer": "ipython2",
   "version": "2.7.6"
  }
 },
 "nbformat": 4,
 "nbformat_minor": 5
}
