{
 "cells": [
  {
   "metadata": {
    "ExecuteTime": {
     "end_time": "2024-06-08T19:02:52.306462Z",
     "start_time": "2024-06-08T19:02:49.483654Z"
    }
   },
   "cell_type": "code",
   "source": [
    "from pyspark.ml.feature import StringIndexer, OneHotEncoder, VectorAssembler\n",
    "from pyspark.ml.regression import LinearRegression, RandomForestRegressor\n",
    "from pyspark.sql.types import ArrayType, StringType, BooleanType\n",
    "from pyspark.sql import functions as F\n",
    "from pyspark.sql.window import Window\n",
    "from pyspark.sql import SparkSession\n",
    "from pyspark.ml import Pipeline\n",
    "import utils\n",
    "\n",
    "%load_ext autoreload\n",
    "%autoreload 2\n",
    "\n",
    "LABEL = 'LOS'\n",
    "\n",
    "spark = SparkSession.builder \\\n",
    "    .appName(\"Intensive Care Unit Data Analysis\") \\\n",
    "    .getOrCreate()\n",
    "\n",
    "spark.sparkContext.setLogLevel(\"ERROR\")"
   ],
   "id": "500926c2d111d3b7",
   "outputs": [
    {
     "name": "stderr",
     "output_type": "stream",
     "text": [
      "Setting default log level to \"WARN\".\n",
      "To adjust logging level use sc.setLogLevel(newLevel). For SparkR, use setLogLevel(newLevel).\n",
      "24/06/08 20:02:51 WARN NativeCodeLoader: Unable to load native-hadoop library for your platform... using builtin-java classes where applicable\n",
      "24/06/08 20:02:52 WARN Utils: Service 'SparkUI' could not bind on port 4040. Attempting port 4041.\n"
     ]
    }
   ],
   "execution_count": 1
  },
  {
   "metadata": {
    "ExecuteTime": {
     "end_time": "2024-06-08T19:02:56.912412Z",
     "start_time": "2024-06-08T19:02:52.307470Z"
    }
   },
   "cell_type": "code",
   "source": [
    "# Read the datasets\n",
    "df_admissions = spark.read.csv(\"datasets/ADMISSIONS.csv\", header=True, inferSchema=True).drop(\"ROW_ID\")\n",
    "df_diagnoses = spark.read.csv(\"datasets/DIAGNOSES_ICD.csv\", header=True, inferSchema=True).drop(\"ROW_ID\")\n",
    "df_icustays = spark.read.csv(\"datasets/ICUSTAYS.csv\", header=True, inferSchema=True).drop(\"ROW_ID\")\n",
    "df_patients = spark.read.csv(\"datasets/PATIENTS.csv\", header=True, inferSchema=True).drop(\"ROW_ID\")\n",
    "# df_chartevents = spark.read.csv(\"datasets/CHARTEVENTS.csv\", header=True, inferSchema=True).drop(\"ROW_ID\")"
   ],
   "id": "f10eb3861e1a6ad6",
   "outputs": [],
   "execution_count": 2
  },
  {
   "metadata": {
    "ExecuteTime": {
     "end_time": "2024-06-08T19:02:57.011047Z",
     "start_time": "2024-06-08T19:02:56.913075Z"
    }
   },
   "cell_type": "code",
   "source": [
    "df = df_patients.join(df_admissions, df_patients[\"SUBJECT_ID\"] == df_admissions[\"SUBJECT_ID\"], how=\"left\").drop(df_admissions[\"SUBJECT_ID\"])\n",
    "df = df.join(df_icustays, df[\"HADM_ID\"] == df_icustays[\"HADM_ID\"], how=\"left\").drop(df_icustays[\"SUBJECT_ID\"]).drop(df_icustays[\"HADM_ID\"])\n",
    "df = df.join(df_diagnoses, df[\"SUBJECT_ID\"] == df_diagnoses[\"SUBJECT_ID\"], how=\"left\").drop(df_diagnoses[\"SUBJECT_ID\"]).drop(df_diagnoses[\"HADM_ID\"])"
   ],
   "id": "de5ba1599a4770a7",
   "outputs": [],
   "execution_count": 3
  },
  {
   "metadata": {
    "ExecuteTime": {
     "end_time": "2024-06-08T19:02:58.888711Z",
     "start_time": "2024-06-08T19:02:57.012452Z"
    }
   },
   "cell_type": "code",
   "source": "df.show()",
   "id": "6f4a65a67efe1407",
   "outputs": [
    {
     "name": "stderr",
     "output_type": "stream",
     "text": [
      "                                                                                \r"
     ]
    },
    {
     "name": "stdout",
     "output_type": "stream",
     "text": [
      "+----------+------+-------------------+----+--------+-------+-----------+-------+-------------------+-------------------+---------+--------------+--------------------+------------------+---------+--------+-------------+--------------+--------------------+-------------------+-------------------+--------------------+--------------------+--------------------+----------+--------+--------------+-------------+------------+-----------+-------------------+-------------------+------+-------+---------+\n",
      "|SUBJECT_ID|GENDER|                DOB| DOD|DOD_HOSP|DOD_SSN|EXPIRE_FLAG|HADM_ID|          ADMITTIME|          DISCHTIME|DEATHTIME|ADMISSION_TYPE|  ADMISSION_LOCATION|DISCHARGE_LOCATION|INSURANCE|LANGUAGE|     RELIGION|MARITAL_STATUS|           ETHNICITY|          EDREGTIME|          EDOUTTIME|           DIAGNOSIS|HOSPITAL_EXPIRE_FLAG|HAS_CHARTEVENTS_DATA|ICUSTAY_ID|DBSOURCE|FIRST_CAREUNIT|LAST_CAREUNIT|FIRST_WARDID|LAST_WARDID|             INTIME|            OUTTIME|   LOS|SEQ_NUM|ICD9_CODE|\n",
      "+----------+------+-------------------+----+--------+-------+-----------+-------+-------------------+-------------------+---------+--------------+--------------------+------------------+---------+--------+-------------+--------------+--------------------+-------------------+-------------------+--------------------+--------------------+--------------------+----------+--------+--------------+-------------+------------+-----------+-------------------+-------------------+------+-------+---------+\n",
      "|       251|     M|2090-03-15 00:00:00|NULL|    NULL|   NULL|          0| 117937|2110-07-27 06:46:00|2110-07-29 15:23:00|     NULL|     EMERGENCY|EMERGENCY ROOM ADMIT|              HOME|  Private|    NULL|        OTHER|          NULL|UNKNOWN/NOT SPECI...|2110-07-27 05:00:00|2110-07-27 07:15:00|INTRACRANIAL HEAD...|                   0|                   1|    230307| carevue|         TSICU|        TSICU|          33|         33|2110-07-27 06:48:08|2110-07-28 22:48:44|1.6671|      1|    85300|\n",
      "|       251|     M|2090-03-15 00:00:00|NULL|    NULL|   NULL|          0| 117937|2110-07-27 06:46:00|2110-07-29 15:23:00|     NULL|     EMERGENCY|EMERGENCY ROOM ADMIT|              HOME|  Private|    NULL|        OTHER|          NULL|UNKNOWN/NOT SPECI...|2110-07-27 05:00:00|2110-07-27 07:15:00|INTRACRANIAL HEAD...|                   0|                   1|    230307| carevue|         TSICU|        TSICU|          33|         33|2110-07-27 06:48:08|2110-07-28 22:48:44|1.6671|      2|     9130|\n",
      "|       251|     M|2090-03-15 00:00:00|NULL|    NULL|   NULL|          0| 117937|2110-07-27 06:46:00|2110-07-29 15:23:00|     NULL|     EMERGENCY|EMERGENCY ROOM ADMIT|              HOME|  Private|    NULL|        OTHER|          NULL|UNKNOWN/NOT SPECI...|2110-07-27 05:00:00|2110-07-27 07:15:00|INTRACRANIAL HEAD...|                   0|                   1|    230307| carevue|         TSICU|        TSICU|          33|         33|2110-07-27 06:48:08|2110-07-28 22:48:44|1.6671|      3|     9100|\n",
      "|       251|     M|2090-03-15 00:00:00|NULL|    NULL|   NULL|          0| 117937|2110-07-27 06:46:00|2110-07-29 15:23:00|     NULL|     EMERGENCY|EMERGENCY ROOM ADMIT|              HOME|  Private|    NULL|        OTHER|          NULL|UNKNOWN/NOT SPECI...|2110-07-27 05:00:00|2110-07-27 07:15:00|INTRACRANIAL HEAD...|                   0|                   1|    230307| carevue|         TSICU|        TSICU|          33|         33|2110-07-27 06:48:08|2110-07-28 22:48:44|1.6671|      4|    30500|\n",
      "|       251|     M|2090-03-15 00:00:00|NULL|    NULL|   NULL|          0| 117937|2110-07-27 06:46:00|2110-07-29 15:23:00|     NULL|     EMERGENCY|EMERGENCY ROOM ADMIT|              HOME|  Private|    NULL|        OTHER|          NULL|UNKNOWN/NOT SPECI...|2110-07-27 05:00:00|2110-07-27 07:15:00|INTRACRANIAL HEAD...|                   0|                   1|    230307| carevue|         TSICU|        TSICU|          33|         33|2110-07-27 06:48:08|2110-07-28 22:48:44|1.6671|      5|    E8889|\n",
      "|       253|     F|2089-11-26 00:00:00|NULL|    NULL|   NULL|          0| 176189|2174-01-21 20:58:00|2174-01-26 16:15:00|     NULL|     EMERGENCY|TRANSFER FROM HOS...|               SNF| Medicare|    NULL|     CATHOLIC|       WIDOWED|               WHITE|               NULL|               NULL|COMPLETE HEART BL...|                   0|                   1|    272631| carevue|           CCU|          CCU|           7|          7|2174-01-21 21:00:13|2174-01-23 13:28:12|1.6861|      1|     4260|\n",
      "|       253|     F|2089-11-26 00:00:00|NULL|    NULL|   NULL|          0| 176189|2174-01-21 20:58:00|2174-01-26 16:15:00|     NULL|     EMERGENCY|TRANSFER FROM HOS...|               SNF| Medicare|    NULL|     CATHOLIC|       WIDOWED|               WHITE|               NULL|               NULL|COMPLETE HEART BL...|                   0|                   1|    272631| carevue|           CCU|          CCU|           7|          7|2174-01-21 21:00:13|2174-01-23 13:28:12|1.6861|      2|      486|\n",
      "|       253|     F|2089-11-26 00:00:00|NULL|    NULL|   NULL|          0| 176189|2174-01-21 20:58:00|2174-01-26 16:15:00|     NULL|     EMERGENCY|TRANSFER FROM HOS...|               SNF| Medicare|    NULL|     CATHOLIC|       WIDOWED|               WHITE|               NULL|               NULL|COMPLETE HEART BL...|                   0|                   1|    272631| carevue|           CCU|          CCU|           7|          7|2174-01-21 21:00:13|2174-01-23 13:28:12|1.6861|      3|     4240|\n",
      "|       253|     F|2089-11-26 00:00:00|NULL|    NULL|   NULL|          0| 176189|2174-01-21 20:58:00|2174-01-26 16:15:00|     NULL|     EMERGENCY|TRANSFER FROM HOS...|               SNF| Medicare|    NULL|     CATHOLIC|       WIDOWED|               WHITE|               NULL|               NULL|COMPLETE HEART BL...|                   0|                   1|    272631| carevue|           CCU|          CCU|           7|          7|2174-01-21 21:00:13|2174-01-23 13:28:12|1.6861|      4|     2449|\n",
      "|       253|     F|2089-11-26 00:00:00|NULL|    NULL|   NULL|          0| 176189|2174-01-21 20:58:00|2174-01-26 16:15:00|     NULL|     EMERGENCY|TRANSFER FROM HOS...|               SNF| Medicare|    NULL|     CATHOLIC|       WIDOWED|               WHITE|               NULL|               NULL|COMPLETE HEART BL...|                   0|                   1|    272631| carevue|           CCU|          CCU|           7|          7|2174-01-21 21:00:13|2174-01-23 13:28:12|1.6861|      5|     3310|\n",
      "|       253|     F|2089-11-26 00:00:00|NULL|    NULL|   NULL|          0| 176189|2174-01-21 20:58:00|2174-01-26 16:15:00|     NULL|     EMERGENCY|TRANSFER FROM HOS...|               SNF| Medicare|    NULL|     CATHOLIC|       WIDOWED|               WHITE|               NULL|               NULL|COMPLETE HEART BL...|                   0|                   1|    272631| carevue|           CCU|          CCU|           7|          7|2174-01-21 21:00:13|2174-01-23 13:28:12|1.6861|      6|    29410|\n",
      "|       253|     F|2089-11-26 00:00:00|NULL|    NULL|   NULL|          0| 176189|2174-01-21 20:58:00|2174-01-26 16:15:00|     NULL|     EMERGENCY|TRANSFER FROM HOS...|               SNF| Medicare|    NULL|     CATHOLIC|       WIDOWED|               WHITE|               NULL|               NULL|COMPLETE HEART BL...|                   0|                   1|    272631| carevue|           CCU|          CCU|           7|          7|2174-01-21 21:00:13|2174-01-23 13:28:12|1.6861|      7|     4168|\n",
      "|       253|     F|2089-11-26 00:00:00|NULL|    NULL|   NULL|          0| 176189|2174-01-21 20:58:00|2174-01-26 16:15:00|     NULL|     EMERGENCY|TRANSFER FROM HOS...|               SNF| Medicare|    NULL|     CATHOLIC|       WIDOWED|               WHITE|               NULL|               NULL|COMPLETE HEART BL...|                   0|                   1|    272631| carevue|           CCU|          CCU|           7|          7|2174-01-21 21:00:13|2174-01-23 13:28:12|1.6861|      8|     2720|\n",
      "|       253|     F|2089-11-26 00:00:00|NULL|    NULL|   NULL|          0| 176189|2174-01-21 20:58:00|2174-01-26 16:15:00|     NULL|     EMERGENCY|TRANSFER FROM HOS...|               SNF| Medicare|    NULL|     CATHOLIC|       WIDOWED|               WHITE|               NULL|               NULL|COMPLETE HEART BL...|                   0|                   1|    272631| carevue|           CCU|          CCU|           7|          7|2174-01-21 21:00:13|2174-01-23 13:28:12|1.6861|      9|     4019|\n",
      "|       255|     M|2109-08-05 00:00:00|NULL|    NULL|   NULL|          0| 112013|2187-02-12 10:30:00|2187-02-15 10:30:00|     NULL|      ELECTIVE|PHYS REFERRAL/NOR...|              HOME| Medicare|    ENGL|NOT SPECIFIED|       MARRIED|               WHITE|               NULL|               NULL|BENIGN PROSTATIC ...|                   0|                   1|    209952| carevue|          MICU|         MICU|          52|         52|2187-02-12 20:27:09|2187-02-14 17:29:51|1.8769|      1|    60000|\n",
      "|       255|     M|2109-08-05 00:00:00|NULL|    NULL|   NULL|          0| 112013|2187-02-12 10:30:00|2187-02-15 10:30:00|     NULL|      ELECTIVE|PHYS REFERRAL/NOR...|              HOME| Medicare|    ENGL|NOT SPECIFIED|       MARRIED|               WHITE|               NULL|               NULL|BENIGN PROSTATIC ...|                   0|                   1|    209952| carevue|          MICU|         MICU|          52|         52|2187-02-12 20:27:09|2187-02-14 17:29:51|1.8769|      2|    99811|\n",
      "|       255|     M|2109-08-05 00:00:00|NULL|    NULL|   NULL|          0| 112013|2187-02-12 10:30:00|2187-02-15 10:30:00|     NULL|      ELECTIVE|PHYS REFERRAL/NOR...|              HOME| Medicare|    ENGL|NOT SPECIFIED|       MARRIED|               WHITE|               NULL|               NULL|BENIGN PROSTATIC ...|                   0|                   1|    209952| carevue|          MICU|         MICU|          52|         52|2187-02-12 20:27:09|2187-02-14 17:29:51|1.8769|      3|     2851|\n",
      "|       255|     M|2109-08-05 00:00:00|NULL|    NULL|   NULL|          0| 112013|2187-02-12 10:30:00|2187-02-15 10:30:00|     NULL|      ELECTIVE|PHYS REFERRAL/NOR...|              HOME| Medicare|    ENGL|NOT SPECIFIED|       MARRIED|               WHITE|               NULL|               NULL|BENIGN PROSTATIC ...|                   0|                   1|    209952| carevue|          MICU|         MICU|          52|         52|2187-02-12 20:27:09|2187-02-14 17:29:51|1.8769|      4|    42789|\n",
      "|       663|     F|2086-05-12 00:00:00|NULL|    NULL|   NULL|          0| 177445|2143-12-27 07:15:00|2144-01-08 12:01:00|     NULL|      ELECTIVE|PHYS REFERRAL/NOR...|  HOME HEALTH CARE|  Private|    NULL|       JEWISH|       MARRIED|               WHITE|               NULL|               NULL|       ACHALASIA/SDA|                   0|                   1|    244460| carevue|          MICU|         MICU|          52|         52|2143-12-27 20:59:00|2143-12-29 20:04:00|1.9618|      1|    53089|\n",
      "|       663|     F|2086-05-12 00:00:00|NULL|    NULL|   NULL|          0| 177445|2143-12-27 07:15:00|2144-01-08 12:01:00|     NULL|      ELECTIVE|PHYS REFERRAL/NOR...|  HOME HEALTH CARE|  Private|    NULL|       JEWISH|       MARRIED|               WHITE|               NULL|               NULL|       ACHALASIA/SDA|                   0|                   1|    244460| carevue|          MICU|         MICU|          52|         52|2143-12-27 20:59:00|2143-12-29 20:04:00|1.9618|      2|     5119|\n",
      "+----------+------+-------------------+----+--------+-------+-----------+-------+-------------------+-------------------+---------+--------------+--------------------+------------------+---------+--------+-------------+--------------+--------------------+-------------------+-------------------+--------------------+--------------------+--------------------+----------+--------+--------------+-------------+------------+-----------+-------------------+-------------------+------+-------+---------+\n",
      "only showing top 20 rows\n",
      "\n"
     ]
    }
   ],
   "execution_count": 4
  },
  {
   "metadata": {},
   "cell_type": "markdown",
   "source": "Check for missing values in the dataset.",
   "id": "74cdea29e7496f79"
  },
  {
   "metadata": {
    "ExecuteTime": {
     "end_time": "2024-06-08T19:03:00.812430Z",
     "start_time": "2024-06-08T19:02:58.889368Z"
    }
   },
   "cell_type": "code",
   "source": "utils.print_missing_value_counts(df)",
   "id": "13dcfe5ad8d78111",
   "outputs": [
    {
     "name": "stdout",
     "output_type": "stream",
     "text": [
      "-RECORD 0-----------------------\n",
      " SUBJECT_ID           | 0       \n",
      " GENDER               | 0       \n",
      " DOB                  | 0       \n",
      " DOD                  | 697342  \n",
      " DOD_HOSP             | 892628  \n",
      " DOD_SSN              | 839693  \n",
      " EXPIRE_FLAG          | 0       \n",
      " HADM_ID              | 0       \n",
      " ADMITTIME            | 0       \n",
      " DISCHTIME            | 0       \n",
      " DEATHTIME            | 1359709 \n",
      " ADMISSION_TYPE       | 0       \n",
      " ADMISSION_LOCATION   | 0       \n",
      " DISCHARGE_LOCATION   | 0       \n",
      " INSURANCE            | 0       \n",
      " LANGUAGE             | 379832  \n",
      " RELIGION             | 3721    \n",
      " MARITAL_STATUS       | 78080   \n",
      " ETHNICITY            | 0       \n",
      " EDREGTIME            | 476403  \n",
      " EDOUTTIME            | 476403  \n",
      " DIAGNOSIS            | 747     \n",
      " HOSPITAL_EXPIRE_FLAG | 0       \n",
      " HAS_CHARTEVENTS_DATA | 0       \n",
      " ICUSTAY_ID           | 31975   \n",
      " DBSOURCE             | 31975   \n",
      " FIRST_CAREUNIT       | 31975   \n",
      " LAST_CAREUNIT        | 31975   \n",
      " FIRST_WARDID         | 31975   \n",
      " LAST_WARDID          | 31975   \n",
      " INTIME               | 31975   \n",
      " OUTTIME              | 32058   \n",
      " LOS                  | 32058   \n",
      " SEQ_NUM              | 105     \n",
      " ICD9_CODE            | 105     \n",
      "\n"
     ]
    }
   ],
   "execution_count": 5
  },
  {
   "metadata": {},
   "cell_type": "markdown",
   "source": "# Feature Engineering",
   "id": "10987a3efe7f09bf"
  },
  {
   "metadata": {},
   "cell_type": "markdown",
   "source": "Let's create a column called 'AGE'",
   "id": "b13d9d8304f7de2c"
  },
  {
   "metadata": {
    "ExecuteTime": {
     "end_time": "2024-06-08T19:03:00.882500Z",
     "start_time": "2024-06-08T19:03:00.814512Z"
    }
   },
   "cell_type": "code",
   "source": [
    "# Ensure 'DOB' and 'ADMITTIME' are in the correct date format if not already\n",
    "df = df.withColumn('DOB', F.to_date('DOB'))\n",
    "df = df.withColumn('ADMITTIME', F.to_date('ADMITTIME'))\n",
    "\n",
    "# Create the 'AGE' column by calculating the difference in years between 'ADMITTIME' and 'DOB'\n",
    "df = df.withColumn('AGE', F.expr(\"floor(months_between(ADMITTIME, DOB) / 12)\"))"
   ],
   "id": "def300029631d207",
   "outputs": [],
   "execution_count": 6
  },
  {
   "metadata": {},
   "cell_type": "markdown",
   "source": "It only matters if the patient is dead or not, not the date of death, so we can drop the date of death columns. And we also drop other death-related columns.",
   "id": "9823fde2d264c156"
  },
  {
   "metadata": {
    "ExecuteTime": {
     "end_time": "2024-06-08T19:03:00.933897Z",
     "start_time": "2024-06-08T19:03:00.883106Z"
    }
   },
   "cell_type": "code",
   "source": [
    "df=df.drop(\"DOB\").drop(\"DOD\").drop(\"DOD_SSN\").drop(\"EXPIRE_FLAG\").drop(\"DEATHTIME\")\n",
    "df = df.withColumn(\"DOD_HOSP\", F.when(F.col(\"DOD_HOSP\").isNull(), 0).otherwise(1))\n",
    "df = df.withColumnRenamed(\"DOD_HOSP\", \"DIED\")\n",
    "df = df.withColumnRenamed(\"ICD9_CODE\",\"DISEASES_CODE\")"
   ],
   "id": "2bde8175746ee315",
   "outputs": [],
   "execution_count": 7
  },
  {
   "metadata": {},
   "cell_type": "markdown",
   "source": "Here we will drop the columns that are not useful for the analysis.",
   "id": "41180090f1dbf0a1"
  },
  {
   "metadata": {
    "ExecuteTime": {
     "end_time": "2024-06-08T19:03:00.949936Z",
     "start_time": "2024-06-08T19:03:00.934491Z"
    }
   },
   "cell_type": "code",
   "source": [
    "columns_to_remove = [\n",
    "    \"ADMITTIME\", \"DISCHTIME\", \"EDREGTIME\", \"EDOUTTIME\", \"HOSPITAL_EXPIRE_FLAG\",\n",
    "    \"INTIME\", \"OUTTIME\",\"LANGUAGE\",\"DISCHARGE_LOCATION\",\n",
    "    \"ICUSTAY_ID\", \"SEQ_NUM\",\"HAS_CHARTEVENTS_DATA\",\"DBSOURCE\"\n",
    "]\n",
    "\n",
    "df = df.drop(*columns_to_remove)"
   ],
   "id": "d245622e4fc0f44b",
   "outputs": [],
   "execution_count": 8
  },
  {
   "metadata": {},
   "cell_type": "markdown",
   "source": "The ethnicity column has too many unique values. We can group them into a few categories.",
   "id": "7776beac1e92e389"
  },
  {
   "metadata": {
    "ExecuteTime": {
     "end_time": "2024-06-08T19:03:01.035663Z",
     "start_time": "2024-06-08T19:03:00.950520Z"
    }
   },
   "cell_type": "code",
   "source": [
    "# Define the transformation using multiple chained when conditions\n",
    "df = df.withColumn(\"ETHNICITY\",\n",
    "    F.when(F.col(\"ETHNICITY\").isin('AMERICAN INDIAN/ALASKA NATIVE', 'AMERICAN INDIAN/ALASKA NATIVE FEDERALLY RECOGNIZED TRIBE'),\n",
    "           'American Indian/Alaska Native')\n",
    "    .when(F.col(\"ETHNICITY\").isin('ASIAN', 'ASIAN - ASIAN INDIAN', 'ASIAN - CAMBODIAN', 'ASIAN - CHINESE', 'ASIAN - FILIPINO', 'ASIAN - JAPANESE', 'ASIAN - KOREAN', 'ASIAN - OTHER', 'ASIAN - THAI', 'ASIAN - VIETNAMESE'),\n",
    "          'Asian')\n",
    "    .when(F.col(\"ETHNICITY\").isin('BLACK/AFRICAN', 'BLACK/AFRICAN AMERICAN', 'BLACK/CAPE VERDEAN', 'BLACK/HAITIAN'),\n",
    "          'Black')\n",
    "    .when(F.col(\"ETHNICITY\").isin('HISPANIC OR LATINO', 'HISPANIC/LATINO - CENTRAL AMERICAN (OTHER)', 'HISPANIC/LATINO - COLOMBIAN', 'HISPANIC/LATINO - CUBAN', 'HISPANIC/LATINO - DOMINICAN', 'HISPANIC/LATINO - GUATEMALAN', 'HISPANIC/LATINO - HONDURAN', 'HISPANIC/LATINO - MEXICAN', 'HISPANIC/LATINO - PUERTO RICAN', 'HISPANIC/LATINO - SALVADORAN'),\n",
    "          'Hispanic/Latino')\n",
    "    .when(F.col(\"ETHNICITY\").isin('MIDDLE EASTERN'),\n",
    "          'Middle Eastern')\n",
    "    .when(F.col(\"ETHNICITY\").isin('NATIVE HAWAIIAN OR OTHER PACIFIC ISLANDER'),\n",
    "          'Pacific Islander')\n",
    "    .when(F.col(\"ETHNICITY\").isin('WHITE', 'WHITE - BRAZILIAN', 'WHITE - EASTERN EUROPEAN', 'WHITE - OTHER EUROPEAN', 'WHITE - RUSSIAN', 'PORTUGUESE'),\n",
    "          'White')\n",
    "    .when(F.col(\"ETHNICITY\").isin('CARIBBEAN ISLAND', 'SOUTH AMERICAN'),\n",
    "          'Caribbean/South American')\n",
    "    .when(F.col(\"ETHNICITY\").isin('MULTI RACE ETHNICITY'),\n",
    "          'Multi-Race')\n",
    "    .when(F.col(\"ETHNICITY\").isin('OTHER'),\n",
    "          'Other')\n",
    "    .otherwise('NO DATA REGISTERED')\n",
    ")"
   ],
   "id": "dab8818e9e64a178",
   "outputs": [],
   "execution_count": 9
  },
  {
   "metadata": {},
   "cell_type": "markdown",
   "source": "Now we can aggregate the data by primary keys and collect the remaining columns into lists.",
   "id": "dd9393f9b525a73e"
  },
  {
   "metadata": {
    "ExecuteTime": {
     "end_time": "2024-06-08T19:03:01.092674Z",
     "start_time": "2024-06-08T19:03:01.037954Z"
    }
   },
   "cell_type": "code",
   "source": [
    "# Define your primary key columns\n",
    "primary_key_columns = [\"SUBJECT_ID\", \"HADM_ID\"]\n",
    "\n",
    "# Identify the remaining columns to be grouped\n",
    "remaining_columns = [col for col in df.columns if col not in primary_key_columns]\n",
    "\n",
    "# Group by the primary key columns and aggregate the remaining columns into lists\n",
    "df = df.groupBy(primary_key_columns).agg(*(F.collect_list(col).alias(col) for col in remaining_columns))\n",
    "\n"
   ],
   "id": "426159d6db44f48a",
   "outputs": [],
   "execution_count": 10
  },
  {
   "metadata": {},
   "cell_type": "markdown",
   "source": "Now we can transform the columns that contain lists of values. If all values in the list are the same, we can replace the list with a single value. If the list is empty, we can replace it with a default value.",
   "id": "85db3f5cb0247fc4"
  },
  {
   "metadata": {
    "ExecuteTime": {
     "end_time": "2024-06-08T19:03:03.435687Z",
     "start_time": "2024-06-08T19:03:01.093359Z"
    }
   },
   "cell_type": "code",
   "source": "df.show()",
   "id": "1250530cd4aa7223",
   "outputs": [
    {
     "name": "stderr",
     "output_type": "stream",
     "text": [
      "[Stage 39:>                                                         (0 + 1) / 1]\r"
     ]
    },
    {
     "name": "stdout",
     "output_type": "stream",
     "text": [
      "+----------+-------+--------------------+--------------------+--------------------+--------------------+--------------------+--------------------+--------------------+--------------------+--------------------+--------------------+--------------------+--------------------+--------------------+--------------------+--------------------+--------------------+\n",
      "|SUBJECT_ID|HADM_ID|              GENDER|                DIED|      ADMISSION_TYPE|  ADMISSION_LOCATION|           INSURANCE|            RELIGION|      MARITAL_STATUS|           ETHNICITY|           DIAGNOSIS|      FIRST_CAREUNIT|       LAST_CAREUNIT|        FIRST_WARDID|         LAST_WARDID|                 LOS|       DISEASES_CODE|                 AGE|\n",
      "+----------+-------+--------------------+--------------------+--------------------+--------------------+--------------------+--------------------+--------------------+--------------------+--------------------+--------------------+--------------------+--------------------+--------------------+--------------------+--------------------+--------------------+\n",
      "|        12| 112213|[M, M, M, M, M, M...|[1, 1, 1, 1, 1, 1...|[ELECTIVE, ELECTI...|[PHYS REFERRAL/NO...|[Medicare, Medica...|[JEWISH, JEWISH, ...|[MARRIED, MARRIED...|[White, White, Wh...|[PANCREATIC CANCE...|[SICU, SICU, SICU...|[SICU, SICU, SICU...|[23, 23, 23, 23, ...|[23, 23, 23, 23, ...|[7.6348, 7.6348, ...|[1570, 57410, 997...|[72, 72, 72, 72, ...|\n",
      "|        26| 197661|[M, M, M, M, M, M...|[0, 0, 0, 0, 0, 0...|[EMERGENCY, EMERG...|[TRANSFER FROM HO...|[Medicare, Medica...|[CATHOLIC, CATHOL...|[SINGLE, SINGLE, ...|[NO DATA REGISTER...|[V-TACH, V-TACH, ...|[CCU, CCU, CCU, C...|[CCU, CCU, CCU, C...|[57, 57, 57, 57, ...|[57, 57, 57, 57, ...|[2.1407, 2.1407, ...|[99604, 4271, 428...|[72, 72, 72, 72, ...|\n",
      "|        27| 134931|        [F, F, F, F]|        [0, 0, 0, 0]|[NEWBORN, NEWBORN...|[PHYS REFERRAL/NO...|[Private, Private...|[CATHOLIC, CATHOL...|                  []|[White, White, Wh...|[NEWBORN, NEWBORN...|[NICU, NICU, NICU...|[NICU, NICU, NICU...|    [56, 56, 56, 56]|    [56, 56, 56, 56]|[0.1298, 0.1298, ...|[V3000, 7706, V29...|        [0, 0, 0, 0]|\n",
      "|        28| 162569|[M, M, M, M, M, M...|[0, 0, 0, 0, 0, 0...|[ELECTIVE, ELECTI...|[PHYS REFERRAL/NO...|[Medicare, Medica...|[CATHOLIC, CATHOL...|[MARRIED, MARRIED...|[White, White, Wh...|[CORONARY ARTERY ...|[CSRU, CSRU, CSRU...|[CSRU, CSRU, CSRU...|[14, 14, 14, 14, ...|[14, 14, 14, 14, ...|[1.1224, 1.1224, ...|[41401, 4111, 496...|[74, 74, 74, 74, ...|\n",
      "|        31| 128652|[M, M, M, M, M, M...|[1, 1, 1, 1, 1, 1...|[EMERGENCY, EMERG...|[TRANSFER FROM HO...|[Medicare, Medica...|[CATHOLIC, CATHOL...|[MARRIED, MARRIED...|[White, White, Wh...|[STATUS EPILEPTIC...|[MICU, MICU, MICU...|[MICU, MICU, MICU...|[15, 15, 15, 15, ...|[15, 15, 15, 15, ...|[7.9379, 7.9379, ...|[3453, 20190, 515...|[72, 72, 72, 72, ...|\n",
      "|        34| 115799|[M, M, M, M, M, M...|[0, 0, 0, 0, 0, 0...|[EMERGENCY, EMERG...|[TRANSFER FROM HO...|[Medicare, Medica...|[CATHOLIC, CATHOL...|[MARRIED, MARRIED...|[White, White, Wh...|[CHEST PAIN\\CATH,...|[MICU, MICU, MICU...|[MICU, MICU, MICU...|[23, 23, 23, 23, ...|[23, 23, 23, 23, ...|[0.7198, 0.7198, ...|[41071, 4280, 425...|[300, 300, 300, 3...|\n",
      "|        34| 144319|[M, M, M, M, M, M...|[0, 0, 0, 0, 0, 0...|[EMERGENCY, EMERG...|[CLINIC REFERRAL/...|[Medicare, Medica...|[CATHOLIC, CATHOL...|[MARRIED, MARRIED...|[White, White, Wh...|[BRADYCARDIA, BRA...|[CCU, CCU, CCU, C...|[CCU, CCU, CCU, C...|[7, 7, 7, 7, 7, 7...|[7, 7, 7, 7, 7, 7...|[1.5824, 1.5824, ...|[41071, 4280, 425...|[304, 304, 304, 3...|\n",
      "|        44| 181750|[M, M, M, M, M, M...|[1, 1, 1, 1, 1, 1...|[EMERGENCY, EMERG...|[CLINIC REFERRAL/...|[Medicare, Medica...|[CATHOLIC, CATHOL...|[MARRIED, MARRIED...|[NO DATA REGISTER...|[CORONARY ARTERY ...|[CSRU, CSRU, CSRU...|[CSRU, CSRU, CSRU...|[14, 14, 14, 14, ...|[14, 14, 14, 14, ...|[4.1499, 4.1499, ...|[41401, 4139, 596...|[80, 80, 80, 80, ...|\n",
      "|        53| 155385|     [M, M, M, M, M]|     [0, 0, 0, 0, 0]|[EMERGENCY, EMERG...|[TRANSFER FROM HO...|[Private, Private...|[CATHOLIC, CATHOL...|[MARRIED, MARRIED...|[NO DATA REGISTER...|[MYOCARDIAL INFAR...|[CCU, CCU, CCU, C...|[CCU, CCU, CCU, C...|[57, 57, 57, 57, 57]|[57, 57, 57, 57, 57]|[1.6412, 1.6412, ...|[41021, 30562, 41...|[45, 45, 45, 45, 45]|\n",
      "|        65| 143430|[M, M, M, M, M, M...|[0, 0, 0, 0, 0, 0...|[EMERGENCY, EMERG...|[EMERGENCY ROOM A...|[Private, Private...|[UNOBTAINABLE, UN...|[SINGLE, SINGLE, ...|[White, White, Wh...|[S/P STRUCK BY CA...|[TSICU, TSICU, TS...|[TSICU, TSICU, TS...|[33, 33, 33, 33, ...|[33, 33, 33, 33, ...|[3.326, 3.326, 3....|[80012, 30500, 30...|[26, 26, 26, 26, ...|\n",
      "|        78| 100536|[M, M, M, M, M, M...|[0, 0, 0, 0, 0, 0...|[EMERGENCY, EMERG...|[EMERGENCY ROOM A...|[Medicare, Medica...|[NOT SPECIFIED, N...|[SEPARATED, SEPAR...|[Black, Black, Bl...|[OPIATE INTOXICAT...|[MICU, MICU, MICU...|[MICU, MICU, MICU...|[12, 12, 12, 12, ...|[12, 12, 12, 12, ...|[1.4891, 1.4891, ...|[96500, 042, 0705...|[48, 48, 48, 48, ...|\n",
      "|        81| 175016|           [M, M, M]|           [1, 1, 1]|[EMERGENCY, EMERG...|[EMERGENCY ROOM A...|[Medicare, Medica...|[UNOBTAINABLE, UN...|[MARRIED, MARRIED...|[White, White, Wh...|[INTRACRANIAL HEM...|[TSICU, TSICU, TS...|[TSICU, TSICU, TS...|        [14, 14, 14]|        [14, 14, 14]|[1.5137, 1.5137, ...|  [431, 20210, 4019]|        [85, 85, 85]|\n",
      "|        85| 112077|[M, M, M, M, M, M...|[1, 1, 1, 1, 1, 1...|[EMERGENCY, EMERG...|[CLINIC REFERRAL/...|[Medicare, Medica...|[CATHOLIC, CATHOL...|[MARRIED, MARRIED...|[White, White, Wh...|[PNEUMONIA, PNEUM...|[MICU, MICU, MICU...|[MICU, MICU, MICU...|[23, 23, 23, 23, ...|[23, 23, 23, 23, ...|[1.9909, 1.9909, ...|[0389, 486, V4281...|[76, 76, 76, 76, ...|\n",
      "|        85| 116630|[M, M, M, M, M, M...|[1, 1, 1, 1, 1, 1...|[EMERGENCY, EMERG...|[CLINIC REFERRAL/...|[Medicare, Medica...|[CATHOLIC, CATHOL...|[MARRIED, MARRIED...|[White, White, Wh...|[AORTIC STENOSIS\\...|[CSRU, CSRU, CSRU...|[CSRU, CSRU, CSRU...|[15, 15, 15, 15, ...|[15, 15, 15, 15, ...|[2.2353, 2.2353, ...|[0389, 486, V4281...|[71, 71, 71, 71, ...|\n",
      "|       101| 175533|[M, M, M, M, M, M...|[1, 1, 1, 1, 1, 1...|[EMERGENCY, EMERG...|[EMERGENCY ROOM A...|[Medicare, Medica...|                  []|[MARRIED, MARRIED...|[Asian, Asian, As...|[RESPIRATORY FAIL...|[MICU, MICU, MICU...|[MICU, MICU, MICU...|[52, 52, 52, 52, ...|[52, 52, 52, 52, ...|[9.8919, 9.8919, ...|[51881, 5070, 482...|[82, 82, 82, 82, ...|\n",
      "|       103| 130744|[F, F, F, F, F, F...|[1, 1, 1, 1, 1, 1...|[EMERGENCY, EMERG...|[TRANSFER FROM HO...|[Private, Private...|[CATHOLIC, CATHOL...|[MARRIED, MARRIED...|[NO DATA REGISTER...|[SUBARACHNOID HEM...|[TSICU, TSICU, TS...|[TSICU, TSICU, TS...|[33, 33, 33, 33, ...|[33, 33, 33, 33, ...|[3.0237, 3.0237, ...|[1983, 431, 1623,...|[60, 60, 60, 60, ...|\n",
      "|       103| 133550|[F, F, F, F, F, F...|[1, 1, 1, 1, 1, 1...|[EMERGENCY, EMERG...|[EMERGENCY ROOM A...|[Private, Private...|[CATHOLIC, CATHOL...|[MARRIED, MARRIED...|[NO DATA REGISTER...|[SUBARACHNOID HEM...|[SICU, SICU, SICU...|[SICU, SICU, SICU...|[23, 23, 23, 23, ...|[23, 23, 23, 23, ...|[0.7639, 0.7639, ...|[1983, 431, 1623,...|[60, 60, 60, 60, ...|\n",
      "|       108| 123552|  [M, M, M, M, M, M]|  [0, 0, 0, 0, 0, 0]|[EMERGENCY, EMERG...|[EMERGENCY ROOM A...|[Medicare, Medica...|[CATHOLIC, CATHOL...|[MARRIED, MARRIED...|[White, White, Wh...|[UNSTABLE ANGINA\\...|[CSRU, CSRU, CSRU...|[CSRU, CSRU, CSRU...|[23, 23, 23, 23, ...|[23, 23, 23, 23, ...|[1.0639, 1.0639, ...|[41401, 4111, 401...|[71, 71, 71, 71, ...|\n",
      "|       115| 114585|[F, F, F, F, F, F...|[1, 1, 1, 1, 1, 1...|[EMERGENCY, EMERG...|[PHYS REFERRAL/NO...|[Medicare, Medica...|[UNOBTAINABLE, UN...|[SINGLE, SINGLE, ...|[White, White, Wh...|[ADRENAL INSUFFIC...|[SICU, SICU, SICU...|[SICU, SICU, SICU...|[57, 57, 57, 57, ...|[57, 57, 57, 57, ...|[7.128, 7.128, 7....|[1940, 1977, 2553...|[75, 75, 75, 75, ...|\n",
      "|       126| 176860|[F, F, F, F, F, F...|[0, 0, 0, 0, 0, 0...|[NEWBORN, NEWBORN...|[CLINIC REFERRAL/...|[Private, Private...|[UNOBTAINABLE, UN...|                  []|[White, White, Wh...|[NEWBORN, NEWBORN...|[NICU, NICU, NICU...|[NICU, NICU, NICU...|[56, 56, 56, 56, ...|[56, 56, 56, 56, ...|[75.3561, 75.3561...|[V3101, 76503, 76...|[0, 0, 0, 0, 0, 0...|\n",
      "+----------+-------+--------------------+--------------------+--------------------+--------------------+--------------------+--------------------+--------------------+--------------------+--------------------+--------------------+--------------------+--------------------+--------------------+--------------------+--------------------+--------------------+\n",
      "only showing top 20 rows\n",
      "\n"
     ]
    },
    {
     "name": "stderr",
     "output_type": "stream",
     "text": [
      "                                                                                \r"
     ]
    }
   ],
   "execution_count": 11
  },
  {
   "metadata": {
    "jupyter": {
     "is_executing": true
    },
    "ExecuteTime": {
     "start_time": "2024-06-08T19:03:03.436854Z"
    }
   },
   "cell_type": "code",
   "source": [
    "replace_empty_list_udf = F.udf(utils.replace_empty_list, ArrayType(StringType()))\n",
    "transform_list_udf = F.udf(utils.transform_list, ArrayType(StringType()))\n",
    "handle_list_udf = F.udf(utils.handle_list, StringType())\n",
    "empty_list_udf = F.udf(lambda col: col == [], BooleanType())\n",
    "\n",
    "for column in df.columns:    \n",
    "    if isinstance(df.schema[column].dataType, ArrayType):\n",
    "        if df.filter(empty_list_udf(F.col(column))).count() > 0:\n",
    "            df = df.withColumn(column, replace_empty_list_udf(F.col(column)))\n",
    "            \n",
    "        df = df.withColumn(column, transform_list_udf(F.col(column)))\n",
    "        if len(set(df.select(column).first()[0])) == 1:\n",
    "            df = df.withColumn(column, handle_list_udf(df[column]))"
   ],
   "id": "caae3630b4ca832b",
   "outputs": [],
   "execution_count": null
  },
  {
   "metadata": {},
   "cell_type": "markdown",
   "source": "Check for missing values again.",
   "id": "f32cfe22255a064f"
  },
  {
   "metadata": {
    "jupyter": {
     "is_executing": true
    }
   },
   "cell_type": "code",
   "source": "utils.print_missing_value_counts(df)",
   "id": "93db242a248ae66b",
   "outputs": [],
   "execution_count": null
  },
  {
   "metadata": {
    "jupyter": {
     "is_executing": true
    }
   },
   "cell_type": "code",
   "source": "df.show()",
   "id": "89c7ee6e59b54f6e",
   "outputs": [],
   "execution_count": null
  },
  {
   "metadata": {},
   "cell_type": "markdown",
   "source": "Now let's analyze the diseases column. We can explode the column and calculate the mean length of stay for each disease code. Then we can rank the diseases for each patient and keep the top-ranked one.",
   "id": "3959f4fa440aa15b"
  },
  {
   "metadata": {
    "jupyter": {
     "is_executing": true
    }
   },
   "cell_type": "code",
   "source": [
    "# Explode the DISEASES_CODE column\n",
    "exploded_df = df.withColumn(\"DISEASES_CODE\", F.explode(F.col(\"DISEASES_CODE\")))\n",
    "\n",
    "# Calculate mean LOS for each disease code\n",
    "disease_mean_los = exploded_df.groupBy(\"DISEASES_CODE\").agg(F.mean(\"LOS\").alias(\"mean_LOS\"))\n",
    "\n",
    "# Join the mean LOS back to the exploded dataframe\n",
    "joined_df = exploded_df.join(disease_mean_los, on=\"DISEASES_CODE\", how=\"left\")\n",
    "\n",
    "# Define window specification\n",
    "window_spec = Window.partitionBy(\"SUBJECT_ID\", \"HADM_ID\").orderBy(F.col(\"mean_LOS\").desc())\n",
    "\n",
    "# Rank disease codes for each patient and filter to keep the top-ranked one\n",
    "most_influential_disease_df = joined_df.withColumn(\"rank\", F.row_number().over(window_spec)).filter(F.col(\"rank\") == 1)\n",
    "\n",
    "# Select the relevant columns\n",
    "result_df = most_influential_disease_df.select(\"SUBJECT_ID\", \"HADM_ID\", \"DISEASES_CODE\")\n",
    "\n",
    "# Ensure DISEASES_CODE is a string in both DataFrames\n",
    "df = df.withColumn(\"DISEASES_CODE\", F.col(\"DISEASES_CODE\").cast(\"string\"))\n",
    "result_df = result_df.withColumn(\"DISEASES_CODE\", F.col(\"DISEASES_CODE\").cast(\"string\"))\n",
    "\n",
    "# Drop the DISEASES_CODE column from df before joining\n",
    "df = df.drop(\"DISEASES_CODE\")\n",
    "\n",
    "# Join df with result_df on SUBJECT_ID and HADM_ID\n",
    "updated_df = df.join(result_df, on=['SUBJECT_ID', 'HADM_ID'], how='left')\n",
    "\n",
    "# Add the updated DISEASES_CODE column from result_df\n",
    "df = updated_df.withColumn(\n",
    "    \"DISEASES_CODE\",\n",
    "    F.coalesce(result_df[\"DISEASES_CODE\"], F.col(\"DISEASES_CODE\"))\n",
    ")\n",
    "\n",
    "df = df.withColumnRenamed(\"DISEASES_CODE\", \"MOST_IMPORTANT_DISEASE_CODE\")"
   ],
   "id": "80561f8083cc6450",
   "outputs": [],
   "execution_count": null
  },
  {
   "metadata": {
    "jupyter": {
     "is_executing": true
    }
   },
   "cell_type": "code",
   "source": [
    "# Show the updated DataFrame\n",
    "df.show()"
   ],
   "id": "815b2be1e78dd9a5",
   "outputs": [],
   "execution_count": null
  },
  {
   "metadata": {},
   "cell_type": "markdown",
   "source": "# Graphical Analysis",
   "id": "b44f05a9d055d4ad"
  },
  {
   "metadata": {
    "jupyter": {
     "is_executing": true
    }
   },
   "cell_type": "code",
   "source": [
    "# Assuming `df` is your PySpark DataFrame\n",
    "df = df.withColumn(\"DIED\", df[\"DIED\"].cast(\"integer\"))\n",
    "\n",
    "# Plotting death counts by gender\n",
    "utils.plot_graph(df, 'GENDER', 'DIED', F.sum, 'Death Counts by Gender', 'Gender', 'Number of Deaths')"
   ],
   "id": "af15daa20f2a9008",
   "outputs": [],
   "execution_count": null
  },
  {
   "metadata": {},
   "cell_type": "markdown",
   "source": "## Unique Value Count of marital status",
   "id": "71dc1b8d55dda66e"
  },
  {
   "metadata": {
    "jupyter": {
     "is_executing": true
    }
   },
   "cell_type": "code",
   "source": "utils.plot_graph(df, 'MARITAL_STATUS', 'MARITAL_STATUS', F.count, 'Count of Marital Status', 'Marital Status', 'Count')",
   "id": "4ee2457f777f3541",
   "outputs": [],
   "execution_count": null
  },
  {
   "metadata": {},
   "cell_type": "markdown",
   "source": "## Unique Value Count of Admission Types",
   "id": "633859d36b485929"
  },
  {
   "metadata": {
    "jupyter": {
     "is_executing": true
    }
   },
   "cell_type": "code",
   "source": "utils.plot_graph(df, 'ADMISSION_TYPE', 'ADMISSION_TYPE', F.count, 'Count of Admission Types', 'Admission Type', 'Count')",
   "id": "7b13b06a0668c0ed",
   "outputs": [],
   "execution_count": null
  },
  {
   "metadata": {},
   "cell_type": "markdown",
   "source": [
    "## Distribution of Lethality by Religion\n",
    "\n",
    "The 1º and 2º deadliest religions are not shown in the graph because they are outliers."
   ],
   "id": "1a2938601acce3b0"
  },
  {
   "metadata": {
    "jupyter": {
     "is_executing": true
    }
   },
   "cell_type": "code",
   "source": [
    "# Calculate death rate per religion\n",
    "death_rate_per_religion = df.groupBy('RELIGION')\\\n",
    "    .agg(\n",
    "        F.sum('DIED').alias('Deaths'), \n",
    "        F.count('DIED').alias('Total')\n",
    "    )\\\n",
    "    .withColumn('Death Rate', (F.col('Deaths') / F.col('Total')) * 100)\\\n",
    "    .orderBy(F.col('Death Rate').desc())\n",
    "\n",
    "religions = death_rate_per_religion.rdd.zipWithIndex().filter(lambda x: x[1] in [2,3,4,5,6,7]).map(lambda x: x[0]).toDF()\n",
    "\n",
    "utils.plot_graph(religions, 'RELIGION', 'Death Rate', F.first, 'Death Rates for Religions Ranked', 'Religion', 'Death Rate (%)')"
   ],
   "id": "248e26d8375e8038",
   "outputs": [],
   "execution_count": null
  },
  {
   "metadata": {},
   "cell_type": "markdown",
   "source": "## Distribution of Lethality by Ethnicity",
   "id": "7152930eda22b113"
  },
  {
   "metadata": {
    "jupyter": {
     "is_executing": true
    }
   },
   "cell_type": "code",
   "source": [
    "filtered_df = df.filter(df['ETHNICITY'] != 'NO DATA REGISTERED')\n",
    "\n",
    "# Calculate death rate per ethnicity\n",
    "death_rate_per_ethnicity = filtered_df.groupBy('ETHNICITY')\\\n",
    "    .agg(\n",
    "        F.sum('DIED').alias('Deaths'), \n",
    "        F.count('DIED').alias('Total')\n",
    "    )\\\n",
    "    .withColumn('Death Rate', (F.col('Deaths') / F.col('Total')) * 100)\\\n",
    "    .orderBy(F.col('Death Rate').desc())\\\n",
    "    .limit(5)\n",
    "\n",
    "utils.plot_graph(death_rate_per_ethnicity, 'ETHNICITY', 'Death Rate', F.first, 'Top 5 Deadliest Ethnicities by Death Rate', 'Ethnicity', 'Death Rate (%)')"
   ],
   "id": "938682c216bf5377",
   "outputs": [],
   "execution_count": null
  },
  {
   "metadata": {},
   "cell_type": "markdown",
   "source": "## Distribution of Length of Stay by Age",
   "id": "bfcc45416965fed6"
  },
  {
   "metadata": {
    "jupyter": {
     "is_executing": true
    }
   },
   "cell_type": "code",
   "source": "",
   "id": "be777315dd7a0653",
   "outputs": [],
   "execution_count": null
  },
  {
   "metadata": {},
   "cell_type": "markdown",
   "source": "# Pre processing",
   "id": "52d7e3f536e8fcfe"
  },
  {
   "metadata": {},
   "cell_type": "markdown",
   "source": "Let's convert the categorical columns to numerical columns. And let's get the categorical and numerical columns names.",
   "id": "713f6298f3254135"
  },
  {
   "metadata": {
    "jupyter": {
     "is_executing": true
    }
   },
   "cell_type": "code",
   "source": [
    "all_columns = df.columns\n",
    "feature_columns = [col for col in all_columns if col not in ['SUBJECT_ID', LABEL]]\n",
    "\n",
    "# Manually specified categorical and numerical features\n",
    "categorical_features = ['ADMISSION_TYPE', 'ADMISSION_LOCATION', 'INSURANCE', 'RELIGION',\n",
    "                        'MARITAL_STATUS', 'ETHNICITY', 'DIAGNOSIS', 'FIRST_CAREUNIT', 'LAST_CAREUNIT', 'MOST_IMPORTANT_DISEASE_CODE']\n",
    "numerical_features = [col for col in feature_columns if col not in categorical_features and col not in ['SUBJECT_ID', LABEL]]\n",
    "\n",
    "# Transform the 'M' and 'F' values to 0 and 1 respectively\n",
    "df = df.withColumn(\"GENDER\", F.when(F.col(\"GENDER\") == \"M\", 0).otherwise(1))\n",
    "# Cast string numerical features to float\n",
    "df = df.withColumn(\"AGE\", F.col(\"AGE\").cast(\"float\"))\n",
    "df = df.withColumn(\"FIRST_WARDID\", F.col(\"FIRST_WARDID\").cast(\"float\"))\n",
    "df = df.withColumn(\"LAST_WARDID\", F.col(\"LAST_WARDID\").cast(\"float\"))\n",
    "df = df.withColumn(\"LOS\", F.col(\"LOS\").cast(\"float\"))\n",
    "\n",
    "df.show()"
   ],
   "id": "dde019ceeaa3b584",
   "outputs": [],
   "execution_count": null
  },
  {
   "metadata": {
    "jupyter": {
     "is_executing": true
    }
   },
   "cell_type": "code",
   "source": [
    "# Stages in the pipeline\n",
    "stages = []\n",
    "\n",
    "# Indexing and encoding categorical features\n",
    "for categoricalCol in categorical_features:\n",
    "    stringIndexer = StringIndexer(inputCol=categoricalCol, outputCol=categoricalCol + \"Index\", handleInvalid=\"keep\")\n",
    "    encoder = OneHotEncoder(inputCols=[stringIndexer.getOutputCol()], outputCols=[categoricalCol + \"ClassVec\"])\n",
    "    stages += [stringIndexer, encoder]\n",
    "\n",
    "# Assemble all the features along with the encoded categorical features\n",
    "assemblerInputs = [c + \"ClassVec\" for c in categorical_features] + numerical_features\n",
    "assembler = VectorAssembler(inputCols=assemblerInputs, outputCol=\"features\", handleInvalid=\"keep\")\n",
    "stages += [assembler]\n",
    "\n",
    "# Pipeline: This will ensure all stages are applied in sequence\n",
    "pipeline = Pipeline(stages=stages)\n",
    "pipelineModel = pipeline.fit(df)\n",
    "df_transformed = pipelineModel.transform(df)"
   ],
   "id": "4fc81fbf35516275",
   "outputs": [],
   "execution_count": null
  },
  {
   "metadata": {},
   "cell_type": "markdown",
   "source": "Here we are making sure that there isn't simultaneously a patient in the test set and train set.",
   "id": "dc2264ddb657c4"
  },
  {
   "metadata": {
    "jupyter": {
     "is_executing": true
    }
   },
   "cell_type": "code",
   "source": [
    "# Assume subject_ids have been collected as before\n",
    "subject_ids = [row['SUBJECT_ID'] for row in df_transformed.select(\"SUBJECT_ID\").distinct().collect()]\n",
    "split_index = int(len(subject_ids) * 0.8)\n",
    "\n",
    "train_ids = set(subject_ids[:split_index])\n",
    "test_ids = set(subject_ids[split_index:])\n",
    "\n",
    "# Directly filter the DataFrame using the list\n",
    "train_df = df_transformed.filter(F.col(\"SUBJECT_ID\").isin(train_ids))\n",
    "test_df = df_transformed.filter(F.col(\"SUBJECT_ID\").isin(test_ids))\n",
    "\n",
    "# Ensure that both train and test data have non-null labels\n",
    "train_df = train_df.filter(train_df[LABEL].isNotNull())\n",
    "test_df = test_df.filter(test_df[LABEL].isNotNull())\n",
    "\n",
    "# Split the test_df into features and labels\n",
    "X_test = test_df.drop(LABEL)\n",
    "y_test = test_df.select(LABEL)"
   ],
   "id": "d2ef21a5b75c8ccd",
   "outputs": [],
   "execution_count": null
  },
  {
   "metadata": {},
   "cell_type": "markdown",
   "source": "# Prediction",
   "id": "8f4a8adc7d56a64d"
  },
  {
   "metadata": {},
   "cell_type": "markdown",
   "source": "## Linear Regression",
   "id": "ea9c5b48e71b17cd"
  },
  {
   "metadata": {
    "jupyter": {
     "is_executing": true
    }
   },
   "cell_type": "code",
   "source": [
    "param = {\n",
    "    'maxIter': 10,\n",
    "    'regParam': 0.3,\n",
    "    'elasticNetParam': 0.8\n",
    "}\n",
    "\n",
    "# Define and fit the Linear Regression model on the training set\n",
    "lr = LinearRegression(featuresCol='features', labelCol=LABEL, **param)\n",
    "lr_model = lr.fit(train_df)"
   ],
   "id": "ff9b5170b8210b3a",
   "outputs": [],
   "execution_count": null
  },
  {
   "metadata": {
    "jupyter": {
     "is_executing": true
    }
   },
   "cell_type": "code",
   "source": [
    "y_pred = lr_model.transform(X_test)\n",
    "\n",
    "# Calculate the mean residuals\n",
    "print(f\"Linear Regression - Mean of differences between predicted and actual values: {utils.mean_residuals(y_pred, y_test)}.\")\n",
    "\n",
    "# Calculate the accuracy of the model\n",
    "print(f\"Linear Regression - Accuracy: {utils.calculate_accuracy(y_pred, y_test)}%.\")"
   ],
   "id": "90dd9305c54d5891",
   "outputs": [],
   "execution_count": null
  },
  {
   "metadata": {},
   "cell_type": "markdown",
   "source": [
    "\n",
    "## Random Forest Regression"
   ],
   "id": "d32a48b1e9035b9b"
  },
  {
   "metadata": {
    "jupyter": {
     "is_executing": true
    }
   },
   "cell_type": "code",
   "source": [
    "param = {\n",
    "    'maxDepth': 5,\n",
    "    'maxBins': 32,\n",
    "    'minInstancesPerNode': 1,\n",
    "    'minInfoGain': 0.0,\n",
    "    'maxMemoryInMB': 256,\n",
    "    'cacheNodeIds': False,\n",
    "    'checkpointInterval': 10,\n",
    "    'impurity': 'variance',\n",
    "    'featureSubsetStrategy': 'auto',\n",
    "    'subsamplingRate': 1.0,\n",
    "    'seed': None,\n",
    "    'numTrees': 20,\n",
    "}\n",
    "\n",
    "# Define and fit the Random Forest model on the training set\n",
    "rf = RandomForestRegressor(featuresCol='features', labelCol=LABEL, **param)\n",
    "rf_model = rf.fit(train_df)"
   ],
   "id": "31943b611838f331",
   "outputs": [],
   "execution_count": null
  },
  {
   "metadata": {
    "jupyter": {
     "is_executing": true
    }
   },
   "cell_type": "code",
   "source": [
    "y_pred = rf_model.transform(X_test)\n",
    "\n",
    "# Calculate the mean residuals\n",
    "print(f\"Random Forest Regression - Mean of differences between predicted and actual values: {utils.mean_residuals(y_pred,y_test)}.\")\n",
    "\n",
    "# Calculate the accuracy of the model\n",
    "print(f\"Random Forest Regression - Accuracy: {utils.calculate_accuracy(y_pred, y_test)}%.\")"
   ],
   "id": "5f85e1b360df97f9",
   "outputs": [],
   "execution_count": null
  }
 ],
 "metadata": {
  "kernelspec": {
   "display_name": "Python 3",
   "language": "python",
   "name": "python3"
  },
  "language_info": {
   "codemirror_mode": {
    "name": "ipython",
    "version": 2
   },
   "file_extension": ".py",
   "mimetype": "text/x-python",
   "name": "python",
   "nbconvert_exporter": "python",
   "pygments_lexer": "ipython2",
   "version": "2.7.6"
  }
 },
 "nbformat": 4,
 "nbformat_minor": 5
}
